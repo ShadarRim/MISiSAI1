{
  "nbformat": 4,
  "nbformat_minor": 0,
  "metadata": {
    "colab": {
      "provenance": []
    },
    "kernelspec": {
      "name": "python3",
      "display_name": "Python 3"
    },
    "language_info": {
      "name": "python"
    }
  },
  "cells": [
    {
      "cell_type": "markdown",
      "source": [
        "## Списки"
      ],
      "metadata": {
        "id": "Yzk_yB7pbSMF"
      }
    },
    {
      "cell_type": "markdown",
      "source": [
        "Вам дан список. Поменяйте местами первую и вторую половину списка."
      ],
      "metadata": {
        "id": "DCBX5mGMbYKO"
      }
    },
    {
      "cell_type": "code",
      "source": [
        "# ваше решение"
      ],
      "metadata": {
        "id": "EJPTuUJAbVHi"
      },
      "execution_count": null,
      "outputs": []
    },
    {
      "cell_type": "markdown",
      "source": [
        "Вам дан список. Поменяйте в нём местами блоки элементов: каждый нечётный со первого по пятый с начала с каждым чётный со второго по пятый с конца. "
      ],
      "metadata": {
        "id": "uBVE7ILhbdYj"
      }
    },
    {
      "cell_type": "code",
      "source": [
        "# ваше решение"
      ],
      "metadata": {
        "id": "8bgHZzbobdjm"
      },
      "execution_count": null,
      "outputs": []
    },
    {
      "cell_type": "markdown",
      "source": [
        "## Генераторы"
      ],
      "metadata": {
        "id": "Gl1KfvjTbiA_"
      }
    },
    {
      "cell_type": "markdown",
      "source": [
        "Вам дан список. Создайте новый список, в котором останутся только чётные элементы кратные трём. "
      ],
      "metadata": {
        "id": "rhEKi88SborL"
      }
    },
    {
      "cell_type": "code",
      "source": [
        "# ваше решение"
      ],
      "metadata": {
        "id": "Med_JeSDbnYD"
      },
      "execution_count": null,
      "outputs": []
    },
    {
      "cell_type": "markdown",
      "source": [
        "Вам дан список. Для него и ивертированного по порядку списка выведите пары (x, y) в новом списке."
      ],
      "metadata": {
        "id": "VwS1f2I_bkbw"
      }
    },
    {
      "cell_type": "code",
      "source": [
        "# ваше решение"
      ],
      "metadata": {
        "id": "oA0hEJBibrFi"
      },
      "execution_count": null,
      "outputs": []
    },
    {
      "cell_type": "markdown",
      "source": [
        "## Встроенные функции"
      ],
      "metadata": {
        "id": "R3CZD0rPbsQ1"
      }
    },
    {
      "cell_type": "markdown",
      "source": [
        "Вам дана строка. Выведите сумму ascii-кодов элементов в строке. "
      ],
      "metadata": {
        "id": "WYWx-Y2xbvKj"
      }
    },
    {
      "cell_type": "code",
      "source": [
        "# ваше решение"
      ],
      "metadata": {
        "id": "OSEB4nUcbxu3"
      },
      "execution_count": null,
      "outputs": []
    },
    {
      "cell_type": "markdown",
      "source": [
        "Вам дана строка. Выведите строку, выведите пары (элемент строки, порядковый номер)."
      ],
      "metadata": {
        "id": "nK7ZcqS-byRF"
      }
    },
    {
      "cell_type": "code",
      "source": [
        "# ваше решение"
      ],
      "metadata": {
        "id": "H13zQg2_b1be"
      },
      "execution_count": null,
      "outputs": []
    },
    {
      "cell_type": "markdown",
      "source": [
        "## NumPy"
      ],
      "metadata": {
        "id": "0k9-AEnkb5r0"
      }
    },
    {
      "cell_type": "markdown",
      "source": [
        "Дан массив 16х16\n",
        "Создайте новый массив 4х4 , элементы которого будут суммой блоков 4х4 исходного массива"
      ],
      "metadata": {
        "id": "UmlNzlQsb8NF"
      }
    },
    {
      "cell_type": "code",
      "source": [
        "# ваше решение"
      ],
      "metadata": {
        "id": "4gAPKfIVb_wz"
      },
      "execution_count": null,
      "outputs": []
    },
    {
      "cell_type": "markdown",
      "source": [
        "Дан массив, вставьте между каждым значением сумму соседних элементов"
      ],
      "metadata": {
        "id": "zJXbGiA_cIpW"
      }
    },
    {
      "cell_type": "code",
      "source": [
        "# ваше решение"
      ],
      "metadata": {
        "id": "1riZrqRnca01"
      },
      "execution_count": null,
      "outputs": []
    },
    {
      "cell_type": "markdown",
      "source": [
        "## Pandas"
      ],
      "metadata": {
        "id": "3lVqgJCMSho-"
      }
    },
    {
      "cell_type": "markdown",
      "source": [
        "https://www.kaggle.com/datasets/ishadss/productivity-prediction-of-garment-employees"
      ],
      "metadata": {
        "id": "qCt5tcUZZrnx"
      }
    },
    {
      "cell_type": "markdown",
      "source": [
        "- Какие типы данных присутствуют в датасете?\n",
        "- Есть ли в датасете пропущенные значения? Если да, то сколько и где?\n",
        "- Постройте график распределения переменной `actual_productivity`.\n",
        "- Постройте heatmap для матрицы корреляции числовых переменных в датасете.\n",
        "- Постройте pairplot для всех переменных.\n",
        "- Постройте boxplot для всех переменных и выведете объекты которые являются выбросами (строки из датафрейма).\n",
        "- Посчитайте различные статестические показатели (среднее, медиана, максимум, минимум) для различных категорий в колонке `quarter` *(т.е. отдельно какие показатели у класса quarter1, какие у класса quarter2 и и т.д.)*.\n",
        "- Разделите колонку `date` на три: день, месяц, год."
      ],
      "metadata": {
        "id": "KUI17XWsSqLF"
      }
    }
  ]
}