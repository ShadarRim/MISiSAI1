{
  "nbformat": 4,
  "nbformat_minor": 0,
  "metadata": {
    "colab": {
      "provenance": []
    },
    "kernelspec": {
      "name": "python3",
      "display_name": "Python 3"
    },
    "language_info": {
      "name": "python"
    }
  },
  "cells": [
    {
      "cell_type": "markdown",
      "source": [
        "## Списки"
      ],
      "metadata": {
        "id": "Yzk_yB7pbSMF"
      }
    },
    {
      "cell_type": "markdown",
      "source": [
        "Вам дан список. Создайте новый список, в котором порядок следования элементов будет обратным относительно исходного списка. "
      ],
      "metadata": {
        "id": "DCBX5mGMbYKO"
      }
    },
    {
      "cell_type": "code",
      "source": [
        "# ваше решение\n",
        "a = ['1','2','3']\n",
        "b = a[::-1]\n",
        "print(b)"
      ],
      "metadata": {
        "id": "EJPTuUJAbVHi",
        "colab": {
          "base_uri": "https://localhost:8080/"
        },
        "outputId": "e806be3b-b6c6-4c3b-86bf-01396b01899d"
      },
      "execution_count": null,
      "outputs": [
        {
          "output_type": "stream",
          "name": "stdout",
          "text": [
            "['3', '2', '1']\n"
          ]
        }
      ]
    },
    {
      "cell_type": "code",
      "source": [
        "a = []\n",
        "a.append('1468')\n",
        "a\n"
      ],
      "metadata": {
        "colab": {
          "base_uri": "https://localhost:8080/"
        },
        "id": "nR7yffuK525W",
        "outputId": "21927047-5fc4-4638-ec54-490929e137fd"
      },
      "execution_count": null,
      "outputs": [
        {
          "output_type": "execute_result",
          "data": {
            "text/plain": [
              "['1']"
            ]
          },
          "metadata": {},
          "execution_count": 111
        }
      ]
    },
    {
      "cell_type": "markdown",
      "source": [
        "Как добавиь строку в список посимвольно? "
      ],
      "metadata": {
        "id": "EavF7Aeg6Csa"
      }
    },
    {
      "cell_type": "markdown",
      "source": [
        "Вам дан список. Создайте новый список, в котором будут присутствовать только чётные элементы исходного списка."
      ],
      "metadata": {
        "id": "uBVE7ILhbdYj"
      }
    },
    {
      "cell_type": "code",
      "source": [
        "# ваше решение\n",
        "a = [ 1 , 2 , 3, 4, 5 ]\n",
        "b = []\n",
        "for i in a:\n",
        "  if i % 2 == 0:\n",
        "    b.append(i)\n",
        "b"
      ],
      "metadata": {
        "id": "8bgHZzbobdjm",
        "colab": {
          "base_uri": "https://localhost:8080/"
        },
        "outputId": "d17d2d5a-e930-47eb-aba0-cd095846dbc0"
      },
      "execution_count": 168,
      "outputs": [
        {
          "output_type": "execute_result",
          "data": {
            "text/plain": [
              "[2, 4]"
            ]
          },
          "metadata": {},
          "execution_count": 168
        }
      ]
    },
    {
      "cell_type": "code",
      "source": [
        "# ваше решение\n",
        "a = [ 1 , 2 , 3, 4, 5 ]\n",
        "b = [i for i in a if i % 2 == 0]\n",
        "b"
      ],
      "metadata": {
        "colab": {
          "base_uri": "https://localhost:8080/"
        },
        "id": "HLj9OaiHPZL5",
        "outputId": "af954aaf-c8ac-4d9d-c106-fd2a0a929991"
      },
      "execution_count": 169,
      "outputs": [
        {
          "output_type": "execute_result",
          "data": {
            "text/plain": [
              "[2, 4]"
            ]
          },
          "metadata": {},
          "execution_count": 169
        }
      ]
    },
    {
      "cell_type": "markdown",
      "source": [
        "Переделывайте в python-стиль."
      ],
      "metadata": {
        "id": "zAUZuHbS6JuG"
      }
    },
    {
      "cell_type": "markdown",
      "source": [
        "## Генераторы"
      ],
      "metadata": {
        "id": "Gl1KfvjTbiA_"
      }
    },
    {
      "cell_type": "markdown",
      "source": [
        "Вам дан список. Создайте новый список, который удвоит каждый элемент исходного списка."
      ],
      "metadata": {
        "id": "VwS1f2I_bkbw"
      }
    },
    {
      "cell_type": "code",
      "source": [
        "# ваше решение\n",
        "a = [ 1 , 2 , 3 ]\n",
        "b = [i * 2 for i in a]\n",
        "b"
      ],
      "metadata": {
        "id": "Med_JeSDbnYD",
        "colab": {
          "base_uri": "https://localhost:8080/"
        },
        "outputId": "825d3201-5103-45c1-81e9-df154d331edc"
      },
      "execution_count": null,
      "outputs": [
        {
          "output_type": "execute_result",
          "data": {
            "text/plain": [
              "[2, 4, 6]"
            ]
          },
          "metadata": {},
          "execution_count": 13
        }
      ]
    },
    {
      "cell_type": "markdown",
      "source": [
        "Вам дан список. Создайте новый список, который умножит увеличит на треть элемент исходного списка."
      ],
      "metadata": {
        "id": "rhEKi88SborL"
      }
    },
    {
      "cell_type": "code",
      "source": [
        "# ваше решение\n",
        "a = [ 1 , 2 , 3 ]\n",
        "b = [i * (1/3) for i in a]\n",
        "b"
      ],
      "metadata": {
        "id": "oA0hEJBibrFi",
        "colab": {
          "base_uri": "https://localhost:8080/"
        },
        "outputId": "9062346d-feb6-4808-a5e6-1a672b2ea83f"
      },
      "execution_count": null,
      "outputs": [
        {
          "output_type": "execute_result",
          "data": {
            "text/plain": [
              "[0.3333333333333333, 0.6666666666666666, 1.0]"
            ]
          },
          "metadata": {},
          "execution_count": 18
        }
      ]
    },
    {
      "cell_type": "markdown",
      "source": [
        "Сделайте список, который будет содержать столько же элементов, сколько и исходный, но в каждом элементе исходный элемент перечислен столько раз, на каком месте он находится. "
      ],
      "metadata": {
        "id": "cmiLpB2z6a9E"
      }
    },
    {
      "cell_type": "code",
      "source": [
        "a = [1, 2 , 3, 4, 5]\n",
        "b = [str(i) * i for i in a]\n",
        "b"
      ],
      "metadata": {
        "colab": {
          "base_uri": "https://localhost:8080/"
        },
        "id": "y3GeGpWO-zti",
        "outputId": "0eb03a6c-a598-4ee4-ece0-38a548a2fcd5"
      },
      "execution_count": null,
      "outputs": [
        {
          "output_type": "execute_result",
          "data": {
            "text/plain": [
              "['1', '22', '333', '4444', '55555']"
            ]
          },
          "metadata": {},
          "execution_count": 115
        }
      ]
    },
    {
      "cell_type": "markdown",
      "source": [
        "## Встроенные функции"
      ],
      "metadata": {
        "id": "R3CZD0rPbsQ1"
      }
    },
    {
      "cell_type": "markdown",
      "source": [
        "Вам дана строка. Выведите ascii-код максимального элемента в строке. "
      ],
      "metadata": {
        "id": "WYWx-Y2xbvKj"
      }
    },
    {
      "cell_type": "code",
      "source": [
        "s = str(\"asdjsakdjff\")\n",
        "type(s)\n",
        "b = [ord(i) for i in s]\n",
        "#print(max(b))\n",
        "#print(ord('s'))\n"
      ],
      "metadata": {
        "id": "OSEB4nUcbxu3",
        "colab": {
          "base_uri": "https://localhost:8080/"
        },
        "outputId": "0df6f275-e561-42db-eccd-e2bccf5b6564"
      },
      "execution_count": 190,
      "outputs": [
        {
          "output_type": "execute_result",
          "data": {
            "text/plain": [
              "str"
            ]
          },
          "metadata": {},
          "execution_count": 190
        }
      ]
    },
    {
      "cell_type": "code",
      "source": [
        "max(s)"
      ],
      "metadata": {
        "colab": {
          "base_uri": "https://localhost:8080/",
          "height": 165
        },
        "id": "M4r5NvxsRH5b",
        "outputId": "9135dd49-1797-4e99-9aac-acd461ea3db3"
      },
      "execution_count": 187,
      "outputs": [
        {
          "output_type": "error",
          "ename": "TypeError",
          "evalue": "ignored",
          "traceback": [
            "\u001b[0;31m---------------------------------------------------------------------------\u001b[0m",
            "\u001b[0;31mTypeError\u001b[0m                                 Traceback (most recent call last)",
            "\u001b[0;32m<ipython-input-187-e1e4344c2137>\u001b[0m in \u001b[0;36m<module>\u001b[0;34m\u001b[0m\n\u001b[0;32m----> 1\u001b[0;31m \u001b[0mmax\u001b[0m\u001b[0;34m(\u001b[0m\u001b[0ms\u001b[0m\u001b[0;34m)\u001b[0m\u001b[0;34m\u001b[0m\u001b[0;34m\u001b[0m\u001b[0m\n\u001b[0m",
            "\u001b[0;31mTypeError\u001b[0m: 'numpy.float64' object is not callable"
          ]
        }
      ]
    },
    {
      "cell_type": "markdown",
      "source": [
        "Вам дана строка. Преобразуйте её в кортежи, состоящие из пары – порядковый номер элемента строки, ascii-код элемента."
      ],
      "metadata": {
        "id": "nK7ZcqS-byRF"
      }
    },
    {
      "cell_type": "code",
      "source": [
        "# ваше решение\n",
        "s = \"asdjsakdjff\"\n",
        "# b = []\n",
        "# for i in range(len(s)):\n",
        "#     b.append({s[i], ord(s[i])})\n",
        "# b\n",
        "\n",
        "b = [{i, ord(i)} for i in s]\n",
        "b"
      ],
      "metadata": {
        "id": "H13zQg2_b1be",
        "colab": {
          "base_uri": "https://localhost:8080/"
        },
        "outputId": "c0a1f293-7545-467a-bc33-ffc459d1ce7e"
      },
      "execution_count": null,
      "outputs": [
        {
          "output_type": "execute_result",
          "data": {
            "text/plain": [
              "[{97, 'a'},\n",
              " {115, 's'},\n",
              " {100, 'd'},\n",
              " {106, 'j'},\n",
              " {115, 's'},\n",
              " {97, 'a'},\n",
              " {107, 'k'},\n",
              " {100, 'd'},\n",
              " {106, 'j'},\n",
              " {102, 'f'},\n",
              " {102, 'f'}]"
            ]
          },
          "metadata": {},
          "execution_count": 120
        }
      ]
    },
    {
      "cell_type": "markdown",
      "source": [
        "Переделывайте. "
      ],
      "metadata": {
        "id": "4a4EkiOf62PS"
      }
    },
    {
      "cell_type": "markdown",
      "source": [
        "## NumPy"
      ],
      "metadata": {
        "id": "0k9-AEnkb5r0"
      }
    },
    {
      "cell_type": "markdown",
      "source": [
        "Создайте многомерный массив, посчитайте суммы элементов по различным осям."
      ],
      "metadata": {
        "id": "UmlNzlQsb8NF"
      }
    },
    {
      "cell_type": "code",
      "source": [
        "# ваше решение\n",
        "import numpy as np\n",
        "\n",
        "a = np.array([[1,2,3],\n",
        "             [4,5,6],\n",
        "             [7,8,9]])\n",
        "print(np.sum(a,axis=0))\n",
        "print(np.sum(a,axis=1))\n"
      ],
      "metadata": {
        "id": "4gAPKfIVb_wz",
        "colab": {
          "base_uri": "https://localhost:8080/"
        },
        "outputId": "d12d064c-a039-4ab7-ab4e-0910fcd6f7bd"
      },
      "execution_count": null,
      "outputs": [
        {
          "output_type": "stream",
          "name": "stdout",
          "text": [
            "[12 15 18]\n",
            "[ 6 15 24]\n"
          ]
        }
      ]
    },
    {
      "cell_type": "markdown",
      "source": [
        "Дан массив A (numpy.array()), заполненный 1.\n",
        "Дан массив I (numpy.array()) индексов.\n",
        "\n",
        "Прибавьте к каждому значению массиву A по массиву индексов +1."
      ],
      "metadata": {
        "id": "zJXbGiA_cIpW"
      }
    },
    {
      "cell_type": "code",
      "source": [
        "import numpy as np\n",
        "\n",
        "n = 10\n",
        "k = 12\n",
        "A = np.ones(n)\n",
        "I = np.random.randint(0,len(A),k)\n",
        "for i in I:\n",
        "  A[i]+=1\n",
        "A\n",
        "# ваше решение"
      ],
      "metadata": {
        "id": "1riZrqRnca01",
        "colab": {
          "base_uri": "https://localhost:8080/"
        },
        "outputId": "45dc79d9-4aca-4ad8-f136-030ca8330424"
      },
      "execution_count": null,
      "outputs": [
        {
          "output_type": "execute_result",
          "data": {
            "text/plain": [
              "array([2., 2., 2., 3., 2., 3., 4., 2., 1., 1.])"
            ]
          },
          "metadata": {},
          "execution_count": 28
        }
      ]
    },
    {
      "cell_type": "markdown",
      "source": [
        "## Pandas"
      ],
      "metadata": {
        "id": "3lVqgJCMSho-"
      }
    },
    {
      "cell_type": "markdown",
      "source": [
        "https://www.kaggle.com/datasets/vinesmsuic/star-categorization-giants-and-dwarfs"
      ],
      "metadata": {
        "id": "qCt5tcUZZrnx"
      }
    },
    {
      "cell_type": "markdown",
      "source": [
        "- Какие типы данных присутствуют в датасете?\n",
        "- Есть ли в датасете пропущенные значения? Если да, то сколько и где?\n",
        "- Постройте гистаграмму переменной `Target`.\n",
        "- Постройте heatmap для матрицы корреляции переменных в датасете.\n",
        "- Постройте pairplot для всех переменных\n",
        "- Постройте boxplot для всех переменных и выведете объекты которые являются выбросами (строки из датафрейма).\n",
        "- Посчитайте различные статестические показатели (среднее, медиана, максимум, минимум) для различных классов *(т.е. отдельно какие показатели у класса 0, какие у класса 1)*.\n",
        "- Проанализируйте колонку `SpType`. Подсчитаете количество звёзд относящихся к различным классам.\n",
        "`SpType` - спектральный класс звезды согласно классификации Моргана-Кинана."
      ],
      "metadata": {
        "id": "KUI17XWsSqLF"
      }
    },
    {
      "cell_type": "code",
      "source": [
        "from google.colab import drive\n",
        "drive.mount('/content/drive')"
      ],
      "metadata": {
        "colab": {
          "base_uri": "https://localhost:8080/"
        },
        "id": "t5U8NJcZsiee",
        "outputId": "955c3ecb-baef-4087-985a-116bbcabffe2"
      },
      "execution_count": null,
      "outputs": [
        {
          "output_type": "stream",
          "name": "stdout",
          "text": [
            "Mounted at /content/drive\n"
          ]
        }
      ]
    },
    {
      "cell_type": "code",
      "source": [
        "import pandas as pd\n"
      ],
      "metadata": {
        "id": "mN45lBnvs79n"
      },
      "execution_count": null,
      "outputs": []
    },
    {
      "cell_type": "code",
      "source": [
        "data = pd.read_csv('/content/drive/MyDrive/kolokvium/Star3642_balanced.csv')"
      ],
      "metadata": {
        "id": "ek6Ac4sltYY8"
      },
      "execution_count": null,
      "outputs": []
    },
    {
      "cell_type": "code",
      "source": [
        "b = set([str(i) for i in data.dtypes.values.tolist()])\n",
        "for i in b: print(i, end=\" \")"
      ],
      "metadata": {
        "colab": {
          "base_uri": "https://localhost:8080/"
        },
        "id": "Zy-KLN99tdGu",
        "outputId": "47efed4d-8835-4036-c267-74ddad85f39d"
      },
      "execution_count": null,
      "outputs": [
        {
          "output_type": "stream",
          "name": "stdout",
          "text": [
            "int64 object float64 "
          ]
        }
      ]
    },
    {
      "cell_type": "markdown",
      "source": [
        "Какие типы данных?!"
      ],
      "metadata": {
        "id": "kOwL89Fn7RmV"
      }
    },
    {
      "cell_type": "code",
      "source": [
        "data.isnull().sum()"
      ],
      "metadata": {
        "colab": {
          "base_uri": "https://localhost:8080/"
        },
        "id": "YDtcZ0A2uaWq",
        "outputId": "0003232d-6532-480c-eed5-4cbb83cd47ac"
      },
      "execution_count": null,
      "outputs": [
        {
          "output_type": "execute_result",
          "data": {
            "text/plain": [
              "Vmag           0\n",
              "Plx            0\n",
              "e_Plx          0\n",
              "B-V            0\n",
              "SpType         0\n",
              "Amag           0\n",
              "TargetClass    0\n",
              "dtype: int64"
            ]
          },
          "metadata": {},
          "execution_count": 37
        }
      ]
    },
    {
      "cell_type": "code",
      "source": [
        "import matplotlib\n",
        "import matplotlib as mpl\n",
        "import matplotlib.pyplot as plt\n",
        "import seaborn as sns"
      ],
      "metadata": {
        "id": "rWKVBffiAkQG"
      },
      "execution_count": 143,
      "outputs": []
    },
    {
      "cell_type": "code",
      "source": [
        "sns.histplot(data=data, x=\"TargetClass\")"
      ],
      "metadata": {
        "colab": {
          "base_uri": "https://localhost:8080/",
          "height": 302
        },
        "id": "SNropMFSugPm",
        "outputId": "7abbb1d9-5815-4862-ebb0-1d894d41c6fc"
      },
      "execution_count": null,
      "outputs": [
        {
          "output_type": "execute_result",
          "data": {
            "text/plain": [
              "<AxesSubplot:xlabel='TargetClass', ylabel='Count'>"
            ]
          },
          "metadata": {},
          "execution_count": 138
        },
        {
          "output_type": "display_data",
          "data": {
            "text/plain": [
              "<Figure size 432x288 with 1 Axes>"
            ],
            "image/png": "[encoded data removed]"
          },
          "metadata": {}
        }
      ]
    },
    {
      "cell_type": "markdown",
      "source": [
        "Matplotib/ seaborn!"
      ],
      "metadata": {
        "id": "vJtjYePe7bP2"
      }
    },
    {
      "cell_type": "markdown",
      "source": [
        " $r_{xy} = \\frac{Σ(X-E[X])(Y-E[Y])}{\\sqrt{Σ(X-E[X])^2 Σ(Y-E[Y])^2}} $\n",
        " "
      ],
      "metadata": {
        "id": "b7jac2UmMvbN"
      }
    },
    {
      "cell_type": "code",
      "source": [],
      "metadata": {
        "id": "T8DMiL0DvJr0"
      },
      "execution_count": null,
      "outputs": []
    },
    {
      "cell_type": "code",
      "source": [
        "data.corr()"
      ],
      "metadata": {
        "colab": {
          "base_uri": "https://localhost:8080/",
          "height": 237
        },
        "id": "r2HXXn6hvMfI",
        "outputId": "515c80d2-b302-43e6-ca1f-974bab531e9d"
      },
      "execution_count": null,
      "outputs": [
        {
          "output_type": "execute_result",
          "data": {
            "text/plain": [
              "                 Vmag       Plx     e_Plx       B-V      Amag  TargetClass\n",
              "Vmag         1.000000 -0.169203  0.328024 -0.063602  0.334796     0.264425\n",
              "Plx         -0.169203  1.000000  0.076106 -0.084149  0.505025     0.294217\n",
              "e_Plx        0.328024  0.076106  1.000000 -0.037010  0.221271     0.165012\n",
              "B-V         -0.063602 -0.084149 -0.037010  1.000000 -0.310483    -0.616440\n",
              "Amag         0.334796  0.505025  0.221271 -0.310483  1.000000     0.579413\n",
              "TargetClass  0.264425  0.294217  0.165012 -0.616440  0.579413     1.000000"
            ],
            "text/html": [
              "\n",
              "  <div id=\"df-48f03f2d-5ca1-48a6-81ef-98ee02f4fd01\">\n",
              "    <div class=\"colab-df-container\">\n",
              "      <div>\n",
              "<style scoped>\n",
              "    .dataframe tbody tr th:only-of-type {\n",
              "        vertical-align: middle;\n",
              "    }\n",
              "\n",
              "    .dataframe tbody tr th {\n",
              "        vertical-align: top;\n",
              "    }\n",
              "\n",
              "    .dataframe thead th {\n",
              "        text-align: right;\n",
              "    }\n",
              "</style>\n",
              "<table border=\"1\" class=\"dataframe\">\n",
              "  <thead>\n",
              "    <tr style=\"text-align: right;\">\n",
              "      <th></th>\n",
              "      <th>Vmag</th>\n",
              "      <th>Plx</th>\n",
              "      <th>e_Plx</th>\n",
              "      <th>B-V</th>\n",
              "      <th>Amag</th>\n",
              "      <th>TargetClass</th>\n",
              "    </tr>\n",
              "  </thead>\n",
              "  <tbody>\n",
              "    <tr>\n",
              "      <th>Vmag</th>\n",
              "      <td>1.000000</td>\n",
              "      <td>-0.169203</td>\n",
              "      <td>0.328024</td>\n",
              "      <td>-0.063602</td>\n",
              "      <td>0.334796</td>\n",
              "      <td>0.264425</td>\n",
              "    </tr>\n",
              "    <tr>\n",
              "      <th>Plx</th>\n",
              "      <td>-0.169203</td>\n",
              "      <td>1.000000</td>\n",
              "      <td>0.076106</td>\n",
              "      <td>-0.084149</td>\n",
              "      <td>0.505025</td>\n",
              "      <td>0.294217</td>\n",
              "    </tr>\n",
              "    <tr>\n",
              "      <th>e_Plx</th>\n",
              "      <td>0.328024</td>\n",
              "      <td>0.076106</td>\n",
              "      <td>1.000000</td>\n",
              "      <td>-0.037010</td>\n",
              "      <td>0.221271</td>\n",
              "      <td>0.165012</td>\n",
              "    </tr>\n",
              "    <tr>\n",
              "      <th>B-V</th>\n",
              "      <td>-0.063602</td>\n",
              "      <td>-0.084149</td>\n",
              "      <td>-0.037010</td>\n",
              "      <td>1.000000</td>\n",
              "      <td>-0.310483</td>\n",
              "      <td>-0.616440</td>\n",
              "    </tr>\n",
              "    <tr>\n",
              "      <th>Amag</th>\n",
              "      <td>0.334796</td>\n",
              "      <td>0.505025</td>\n",
              "      <td>0.221271</td>\n",
              "      <td>-0.310483</td>\n",
              "      <td>1.000000</td>\n",
              "      <td>0.579413</td>\n",
              "    </tr>\n",
              "    <tr>\n",
              "      <th>TargetClass</th>\n",
              "      <td>0.264425</td>\n",
              "      <td>0.294217</td>\n",
              "      <td>0.165012</td>\n",
              "      <td>-0.616440</td>\n",
              "      <td>0.579413</td>\n",
              "      <td>1.000000</td>\n",
              "    </tr>\n",
              "  </tbody>\n",
              "</table>\n",
              "</div>\n",
              "      <button class=\"colab-df-convert\" onclick=\"convertToInteractive('df-48f03f2d-5ca1-48a6-81ef-98ee02f4fd01')\"\n",
              "              title=\"Convert this dataframe to an interactive table.\"\n",
              "              style=\"display:none;\">\n",
              "        \n",
              "  <svg xmlns=\"http://www.w3.org/2000/svg\" height=\"24px\"viewBox=\"0 0 24 24\"\n",
              "       width=\"24px\">\n",
              "    <path d=\"M0 0h24v24H0V0z\" fill=\"none\"/>\n",
              "    <path d=\"M18.56 5.44l.94 2.06.94-2.06 2.06-.94-2.06-.94-.94-2.06-.94 2.06-2.06.94zm-11 1L8.5 8.5l.94-2.06 2.06-.94-2.06-.94L8.5 2.5l-.94 2.06-2.06.94zm10 10l.94 2.06.94-2.06 2.06-.94-2.06-.94-.94-2.06-.94 2.06-2.06.94z\"/><path d=\"M17.41 7.96l-1.37-1.37c-.4-.4-.92-.59-1.43-.59-.52 0-1.04.2-1.43.59L10.3 9.45l-7.72 7.72c-.78.78-.78 2.05 0 2.83L4 21.41c.39.39.9.59 1.41.59.51 0 1.02-.2 1.41-.59l7.78-7.78 2.81-2.81c.8-.78.8-2.07 0-2.86zM5.41 20L4 18.59l7.72-7.72 1.47 1.35L5.41 20z\"/>\n",
              "  </svg>\n",
              "      </button>\n",
              "      \n",
              "  <style>\n",
              "    .colab-df-container {\n",
              "      display:flex;\n",
              "      flex-wrap:wrap;\n",
              "      gap: 12px;\n",
              "    }\n",
              "\n",
              "    .colab-df-convert {\n",
              "      background-color: #E8F0FE;\n",
              "      border: none;\n",
              "      border-radius: 50%;\n",
              "      cursor: pointer;\n",
              "      display: none;\n",
              "      fill: #1967D2;\n",
              "      height: 32px;\n",
              "      padding: 0 0 0 0;\n",
              "      width: 32px;\n",
              "    }\n",
              "\n",
              "    .colab-df-convert:hover {\n",
              "      background-color: #E2EBFA;\n",
              "      box-shadow: 0px 1px 2px rgba(60, 64, 67, 0.3), 0px 1px 3px 1px rgba(60, 64, 67, 0.15);\n",
              "      fill: #174EA6;\n",
              "    }\n",
              "\n",
              "    [theme=dark] .colab-df-convert {\n",
              "      background-color: #3B4455;\n",
              "      fill: #D2E3FC;\n",
              "    }\n",
              "\n",
              "    [theme=dark] .colab-df-convert:hover {\n",
              "      background-color: #434B5C;\n",
              "      box-shadow: 0px 1px 3px 1px rgba(0, 0, 0, 0.15);\n",
              "      filter: drop-shadow(0px 1px 2px rgba(0, 0, 0, 0.3));\n",
              "      fill: #FFFFFF;\n",
              "    }\n",
              "  </style>\n",
              "\n",
              "      <script>\n",
              "        const buttonEl =\n",
              "          document.querySelector('#df-48f03f2d-5ca1-48a6-81ef-98ee02f4fd01 button.colab-df-convert');\n",
              "        buttonEl.style.display =\n",
              "          google.colab.kernel.accessAllowed ? 'block' : 'none';\n",
              "\n",
              "        async function convertToInteractive(key) {\n",
              "          const element = document.querySelector('#df-48f03f2d-5ca1-48a6-81ef-98ee02f4fd01');\n",
              "          const dataTable =\n",
              "            await google.colab.kernel.invokeFunction('convertToInteractive',\n",
              "                                                     [key], {});\n",
              "          if (!dataTable) return;\n",
              "\n",
              "          const docLinkHtml = 'Like what you see? Visit the ' +\n",
              "            '<a target=\"_blank\" href=https://colab.research.google.com/notebooks/data_table.ipynb>data table notebook</a>'\n",
              "            + ' to learn more about interactive tables.';\n",
              "          element.innerHTML = '';\n",
              "          dataTable['output_type'] = 'display_data';\n",
              "          await google.colab.output.renderOutput(dataTable, element);\n",
              "          const docLink = document.createElement('div');\n",
              "          docLink.innerHTML = docLinkHtml;\n",
              "          element.appendChild(docLink);\n",
              "        }\n",
              "      </script>\n",
              "    </div>\n",
              "  </div>\n",
              "  "
            ]
          },
          "metadata": {},
          "execution_count": 42
        }
      ]
    },
    {
      "cell_type": "code",
      "source": [
        "sns.heatmap(data.corr(),annot=True, cmap=\"YlGnBu\")"
      ],
      "metadata": {
        "colab": {
          "base_uri": "https://localhost:8080/",
          "height": 342
        },
        "id": "zlg4zPmevVrR",
        "outputId": "7bfa729a-82df-41c9-819b-80eafbc81601"
      },
      "execution_count": null,
      "outputs": [
        {
          "output_type": "execute_result",
          "data": {
            "text/plain": [
              "<AxesSubplot:>"
            ]
          },
          "metadata": {},
          "execution_count": 139
        },
        {
          "output_type": "display_data",
          "data": {
            "text/plain": [
              "<Figure size 432x288 with 2 Axes>"
            ],
            "image/png": "[encoded data removed]"
          },
          "metadata": {}
        }
      ]
    },
    {
      "cell_type": "markdown",
      "source": [
        "Поменяйте цветовую схему на любую другую. \n",
        "Ответы на вопросы про корелляцию."
      ],
      "metadata": {
        "id": "J51TI_tU7oy_"
      }
    },
    {
      "cell_type": "code",
      "source": [
        "sns.pairplot(data,height=1)"
      ],
      "metadata": {
        "colab": {
          "base_uri": "https://localhost:8080/",
          "height": 459
        },
        "id": "cQl5IhSiv11W",
        "outputId": "141355d0-07df-4bd6-9626-068921f5a0f5"
      },
      "execution_count": null,
      "outputs": [
        {
          "output_type": "execute_result",
          "data": {
            "text/plain": [
              "<seaborn.axisgrid.PairGrid at 0x7f38b03e7070>"
            ]
          },
          "metadata": {},
          "execution_count": 142
        },
        {
          "output_type": "display_data",
          "data": {
            "text/plain": [
              "<Figure size 432x432 with 42 Axes>"
            ],
            "image/png": "[encoded data removed]"
          },
          "metadata": {}
        }
      ]
    },
    {
      "cell_type": "markdown",
      "source": [
        "Сделайте размер картинки, помещающийся на один экран без изменения масштаба браузера. "
      ],
      "metadata": {
        "id": "2C-tq5Pf86dy"
      }
    },
    {
      "cell_type": "markdown",
      "source": [
        "_______________________________________________________________________\n"
      ],
      "metadata": {
        "id": "sAb5UXZfL6Sy"
      }
    },
    {
      "cell_type": "code",
      "source": [
        "sns.boxplot(data=data, x=data[\"Vmag\"])\n"
      ],
      "metadata": {
        "colab": {
          "base_uri": "https://localhost:8080/",
          "height": 302
        },
        "id": "9Iv7ulJTwrSZ",
        "outputId": "76f6e1d7-8093-4ff8-b5f2-8ce05fce2319"
      },
      "execution_count": 144,
      "outputs": [
        {
          "output_type": "execute_result",
          "data": {
            "text/plain": [
              "<AxesSubplot:xlabel='Vmag'>"
            ]
          },
          "metadata": {},
          "execution_count": 144
        },
        {
          "output_type": "display_data",
          "data": {
            "text/plain": [
              "<Figure size 432x288 with 1 Axes>"
            ],
            "image/png": "[encoded data removed]"
          },
          "metadata": {}
        }
      ]
    },
    {
      "cell_type": "markdown",
      "source": [
        "Boxplot предназначен для визуализации распределения, на графике можно увидеть медиану, минимальное и максимальное значение выборки и выбросы.\n"
      ],
      "metadata": {
        "id": "GF3T_CdOHYBW"
      }
    },
    {
      "cell_type": "markdown",
      "source": [
        "Что изображено на графике? "
      ],
      "metadata": {
        "id": "6qV_BFVl9MOx"
      }
    },
    {
      "cell_type": "code",
      "source": [
        "data[\"Vmag\"].value_counts().plot().bar"
      ],
      "metadata": {
        "colab": {
          "base_uri": "https://localhost:8080/",
          "height": 285
        },
        "id": "PR-gRvLayMvH",
        "outputId": "0a37543e-b027-4934-c96f-93cb376995dd"
      },
      "execution_count": null,
      "outputs": [
        {
          "output_type": "execute_result",
          "data": {
            "text/plain": [
              "<bound method Axes.bar of <AxesSubplot:>>"
            ]
          },
          "metadata": {},
          "execution_count": 59
        },
        {
          "output_type": "display_data",
          "data": {
            "text/plain": [
              "<Figure size 432x288 with 1 Axes>"
            ],
            "image/png": "[encoded data removed]"
          },
          "metadata": {}
        }
      ]
    },
    {
      "cell_type": "markdown",
      "source": [
        "Это не график распределения вообще? "
      ],
      "metadata": {
        "id": "ekbYZsxq9U3z"
      }
    },
    {
      "cell_type": "markdown",
      "source": [
        "Это полная ересь, без смысла"
      ],
      "metadata": {
        "id": "55Y9ioXDHxqD"
      }
    },
    {
      "cell_type": "code",
      "source": [
        "for x in ['Vmag']:\n",
        "    q75,q25 = np.percentile(data.loc[:,x],[75,25])\n",
        "    intr_qr = q75-q25\n",
        "\n",
        "    max = q75+(1.5*intr_qr)\n",
        "    min = q25-(1.5*intr_qr)\n",
        "\n",
        "    print(data.loc[data[x] < min,x])\n",
        "    print(data.loc[data[x] > max,x])"
      ],
      "metadata": {
        "colab": {
          "base_uri": "https://localhost:8080/"
        },
        "id": "TqGCaQ7xH08g",
        "outputId": "1b96f3ae-a456-4e4e-b010-0849097bbf56"
      },
      "execution_count": 148,
      "outputs": [
        {
          "output_type": "stream",
          "name": "stdout",
          "text": [
            "21      4.83\n",
            "128     4.34\n",
            "172     3.99\n",
            "208     0.45\n",
            "210     2.40\n",
            "        ... \n",
            "3025    3.60\n",
            "3067    2.86\n",
            "3326    3.59\n",
            "3443    4.17\n",
            "3632    3.86\n",
            "Name: Vmag, Length: 69, dtype: float64\n",
            "507     12.23\n",
            "844     12.10\n",
            "1651    12.15\n",
            "2020    12.20\n",
            "2052    12.04\n",
            "2526    12.38\n",
            "2843    11.94\n",
            "2846    11.95\n",
            "2970    11.68\n",
            "3113    11.94\n",
            "3483    12.31\n",
            "3634    12.49\n",
            "Name: Vmag, dtype: float64\n"
          ]
        }
      ]
    },
    {
      "cell_type": "code",
      "source": [
        "sns.boxplot(data=data, x=data[\"Plx\"])"
      ],
      "metadata": {
        "colab": {
          "base_uri": "https://localhost:8080/",
          "height": 302
        },
        "id": "cXOPQhejKlHJ",
        "outputId": "21048a88-9286-416d-f410-bc75047933a2"
      },
      "execution_count": 152,
      "outputs": [
        {
          "output_type": "execute_result",
          "data": {
            "text/plain": [
              "<AxesSubplot:xlabel='Plx'>"
            ]
          },
          "metadata": {},
          "execution_count": 152
        },
        {
          "output_type": "display_data",
          "data": {
            "text/plain": [
              "<Figure size 432x288 with 1 Axes>"
            ],
            "image/png": "[encoded data removed]"
          },
          "metadata": {}
        }
      ]
    },
    {
      "cell_type": "code",
      "source": [
        "for x in ['Plx']:\n",
        "    q75,q25 = np.percentile(data.loc[:,x],[75,25])\n",
        "    intr_qr = q75-q25\n",
        "\n",
        "    max = q75+(1.5*intr_qr)\n",
        "    min = q25-(1.5*intr_qr)\n",
        "\n",
        "    print(data.loc[data[x] < min,x])\n",
        "    print(data.loc[data[x] > max,x])"
      ],
      "metadata": {
        "colab": {
          "base_uri": "https://localhost:8080/"
        },
        "id": "Hs7osjtoKU9U",
        "outputId": "6fc3582d-1d17-4372-ebc1-ddcb5cce5f51"
      },
      "execution_count": 151,
      "outputs": [
        {
          "output_type": "stream",
          "name": "stdout",
          "text": [
            "2633   -6.82\n",
            "3331   -6.63\n",
            "Name: Plx, dtype: float64\n",
            "21       35.33\n",
            "23       22.42\n",
            "43       29.58\n",
            "57      100.24\n",
            "74       26.92\n",
            "         ...  \n",
            "3582     19.99\n",
            "3604     19.40\n",
            "3610     31.01\n",
            "3632     23.93\n",
            "3634     22.93\n",
            "Name: Plx, Length: 272, dtype: float64\n"
          ]
        }
      ]
    },
    {
      "cell_type": "code",
      "source": [
        "sns.boxplot(data=data, x=data[\"e_Plx\"])\n",
        "for x in ['e_Plx']:\n",
        "    q75,q25 = np.percentile(data.loc[:,x],[75,25])\n",
        "    intr_qr = q75-q25\n",
        "\n",
        "    max = q75+(1.5*intr_qr)\n",
        "    min = q25-(1.5*intr_qr)\n",
        "\n",
        "    print(data.loc[data[x] < min,x])\n",
        "    print(data.loc[data[x] > max,x])"
      ],
      "metadata": {
        "colab": {
          "base_uri": "https://localhost:8080/",
          "height": 511
        },
        "id": "E9yR9KFbK0i9",
        "outputId": "6cd3fb04-8516-4cda-b737-64950eb2ec3d"
      },
      "execution_count": 154,
      "outputs": [
        {
          "output_type": "stream",
          "name": "stdout",
          "text": [
            "Series([], Name: e_Plx, dtype: float64)\n",
            "15      2.45\n",
            "53      1.96\n",
            "81      2.39\n",
            "93      2.28\n",
            "158     1.92\n",
            "        ... \n",
            "3602    3.06\n",
            "3609    2.70\n",
            "3624    3.14\n",
            "3634    5.47\n",
            "3640    2.90\n",
            "Name: e_Plx, Length: 197, dtype: float64\n"
          ]
        },
        {
          "output_type": "display_data",
          "data": {
            "text/plain": [
              "<Figure size 432x288 with 1 Axes>"
            ],
            "image/png": "[encoded data removed]"
          },
          "metadata": {}
        }
      ]
    },
    {
      "cell_type": "code",
      "source": [
        "sns.boxplot(data=data, x=data[\"B-V\"])\n",
        "for x in ['e_Plx']:\n",
        "    q75,q25 = np.percentile(data.loc[:,x],[75,25])\n",
        "    intr_qr = q75-q25\n",
        "\n",
        "    max = q75+(1.5*intr_qr)\n",
        "    min = q25-(1.5*intr_qr)\n",
        "\n",
        "    print(data.loc[data[x] < min,x])\n",
        "    print(data.loc[data[x] > max,x])"
      ],
      "metadata": {
        "colab": {
          "base_uri": "https://localhost:8080/",
          "height": 511
        },
        "id": "305fDYFLK9Au",
        "outputId": "8f8fc902-371b-4055-fea4-fd67164418b6"
      },
      "execution_count": 155,
      "outputs": [
        {
          "output_type": "stream",
          "name": "stdout",
          "text": [
            "Series([], Name: e_Plx, dtype: float64)\n",
            "15      2.45\n",
            "53      1.96\n",
            "81      2.39\n",
            "93      2.28\n",
            "158     1.92\n",
            "        ... \n",
            "3602    3.06\n",
            "3609    2.70\n",
            "3624    3.14\n",
            "3634    5.47\n",
            "3640    2.90\n",
            "Name: e_Plx, Length: 197, dtype: float64\n"
          ]
        },
        {
          "output_type": "display_data",
          "data": {
            "text/plain": [
              "<Figure size 432x288 with 1 Axes>"
            ],
            "image/png": "[encoded data removed]"
          },
          "metadata": {}
        }
      ]
    },
    {
      "cell_type": "code",
      "source": [
        "data.columns\n"
      ],
      "metadata": {
        "colab": {
          "base_uri": "https://localhost:8080/"
        },
        "id": "5TT2eOxPLP2L",
        "outputId": "a9775fed-dc70-466c-84f5-60e8fea73228"
      },
      "execution_count": 159,
      "outputs": [
        {
          "output_type": "execute_result",
          "data": {
            "text/plain": [
              "Index(['Vmag', 'Plx', 'e_Plx', 'B-V', 'SpType', 'Amag', 'TargetClass'], dtype='object')"
            ]
          },
          "metadata": {},
          "execution_count": 159
        }
      ]
    },
    {
      "cell_type": "code",
      "source": [
        "sns.boxplot(data=data, x=data[\"Amag\"])\n",
        "for x in ['Amag']:\n",
        "    q75,q25 = np.percentile(data.loc[:,x],[75,25])\n",
        "    intr_qr = q75-q25\n",
        "\n",
        "    max = q75+(1.5*intr_qr)\n",
        "    min = q25-(1.5*intr_qr)\n",
        "\n",
        "    print(data.loc[data[x] < min,x])\n",
        "    print(data.loc[data[x] > max,x])"
      ],
      "metadata": {
        "colab": {
          "base_uri": "https://localhost:8080/",
          "height": 1000
        },
        "id": "CRu2XdVsLEhT",
        "outputId": "173dad15-da9a-4664-f2cd-b73053185ced"
      },
      "execution_count": 161,
      "outputs": [
        {
          "output_type": "stream",
          "name": "stdout",
          "text": [
            "33       9.539717\n",
            "34      10.621097\n",
            "47       9.335489\n",
            "66       9.205907\n",
            "157     10.646950\n",
            "          ...    \n",
            "3443     8.658135\n",
            "3451     5.615150\n",
            "3587    10.315150\n",
            "3593    10.260457\n",
            "3605    10.497263\n",
            "Name: Amag, Length: 84, dtype: float64\n",
            "327     23.222298\n",
            "403     23.384151\n",
            "507     24.972560\n",
            "588     23.028652\n",
            "674     23.313883\n",
            "753     24.547806\n",
            "796     23.112800\n",
            "826     23.969465\n",
            "844     29.249165\n",
            "986     22.743198\n",
            "1212    23.237736\n",
            "1651    23.001308\n",
            "1793    22.835280\n",
            "2020    23.002342\n",
            "2052    24.257880\n",
            "2409    22.468704\n",
            "2419    23.517168\n",
            "2526    23.494883\n",
            "2691    22.734768\n",
            "2810    22.779324\n",
            "2846    22.856358\n",
            "2858    23.019817\n",
            "2863    23.487797\n",
            "2940    23.665310\n",
            "2970    22.861427\n",
            "3073    22.480099\n",
            "3113    22.357513\n",
            "3352    22.354382\n",
            "3391    24.858257\n",
            "3428    25.327883\n",
            "3455    25.362305\n",
            "3483    23.680790\n",
            "3634    24.292019\n",
            "Name: Amag, dtype: float64\n"
          ]
        },
        {
          "output_type": "display_data",
          "data": {
            "text/plain": [
              "<Figure size 432x288 with 1 Axes>"
            ],
            "image/png": "[encoded data removed]"
          },
          "metadata": {}
        }
      ]
    },
    {
      "cell_type": "code",
      "source": [
        "data[data.columns].plot(kind='box')"
      ],
      "metadata": {
        "colab": {
          "base_uri": "https://localhost:8080/",
          "height": 286
        },
        "id": "iHcUCx6mLrD3",
        "outputId": "1b14308b-fcf6-4bf4-ef80-eddb49d8e1e1"
      },
      "execution_count": 163,
      "outputs": [
        {
          "output_type": "execute_result",
          "data": {
            "text/plain": [
              "<AxesSubplot:>"
            ]
          },
          "metadata": {},
          "execution_count": 163
        },
        {
          "output_type": "display_data",
          "data": {
            "text/plain": [
              "<Figure size 432x288 with 1 Axes>"
            ],
            "image/png": "[encoded data removed]"
          },
          "metadata": {}
        }
      ]
    },
    {
      "cell_type": "code",
      "source": [
        "data[\"Vmag\"].mean()"
      ],
      "metadata": {
        "colab": {
          "base_uri": "https://localhost:8080/"
        },
        "id": "l24Hhmphzs_j",
        "outputId": "ed588856-23fe-40d9-a002-ffde5dd47c1b"
      },
      "execution_count": null,
      "outputs": [
        {
          "output_type": "execute_result",
          "data": {
            "text/plain": [
              "8.120529928610654"
            ]
          },
          "metadata": {},
          "execution_count": 73
        }
      ]
    },
    {
      "cell_type": "code",
      "source": [
        "data[\"Plx\"].median()"
      ],
      "metadata": {
        "colab": {
          "base_uri": "https://localhost:8080/"
        },
        "id": "rP3rwB5cz7W-",
        "outputId": "18de1db1-2768-4060-e9af-e8345e71036b"
      },
      "execution_count": null,
      "outputs": [
        {
          "output_type": "execute_result",
          "data": {
            "text/plain": [
              "4.95"
            ]
          },
          "metadata": {},
          "execution_count": 74
        }
      ]
    },
    {
      "cell_type": "code",
      "source": [
        "data[\"B-V\"].max()"
      ],
      "metadata": {
        "colab": {
          "base_uri": "https://localhost:8080/"
        },
        "id": "Hq6rVnytzyui",
        "outputId": "2ba452f9-a14b-4660-e9da-320cc865d7ba"
      },
      "execution_count": null,
      "outputs": [
        {
          "output_type": "execute_result",
          "data": {
            "text/plain": [
              "2.53"
            ]
          },
          "metadata": {},
          "execution_count": 75
        }
      ]
    },
    {
      "cell_type": "code",
      "source": [
        "data[\"Amag\"].min()"
      ],
      "metadata": {
        "colab": {
          "base_uri": "https://localhost:8080/"
        },
        "id": "yWHLUskVz1AA",
        "outputId": "94e88768-4aad-490a-bfe7-137b62582091"
      },
      "execution_count": null,
      "outputs": [
        {
          "output_type": "execute_result",
          "data": {
            "text/plain": [
              "2.8200002"
            ]
          },
          "metadata": {},
          "execution_count": 76
        }
      ]
    },
    {
      "cell_type": "code",
      "source": [
        "len(data[\"SpType\"].unique())"
      ],
      "metadata": {
        "colab": {
          "base_uri": "https://localhost:8080/"
        },
        "id": "2tX1Y5qkz-gW",
        "outputId": "c5cc57f4-83f2-4e2d-fdd6-fa96f8a8e46a"
      },
      "execution_count": null,
      "outputs": [
        {
          "output_type": "execute_result",
          "data": {
            "text/plain": [
              "584"
            ]
          },
          "metadata": {},
          "execution_count": 80
        }
      ]
    },
    {
      "cell_type": "code",
      "source": [
        "a = data[\"SpType\"].value_counts().to_dict()\n",
        "for key, value in a.items():\n",
        "  print(\"{0}: {1}\".format(key,value))"
      ],
      "metadata": {
        "id": "RlLRz9-J1-A6"
      },
      "execution_count": null,
      "outputs": []
    },
    {
      "cell_type": "code",
      "source": [
        "max(a, key=a.get)"
      ],
      "metadata": {
        "colab": {
          "base_uri": "https://localhost:8080/",
          "height": 36
        },
        "id": "Ge4MVa_K4DP-",
        "outputId": "71ccd244-8a69-4a30-b701-b463d5970bc2"
      },
      "execution_count": null,
      "outputs": [
        {
          "output_type": "execute_result",
          "data": {
            "text/plain": [
              "'K0III'"
            ],
            "application/vnd.google.colaboratory.intrinsic+json": {
              "type": "string"
            }
          },
          "metadata": {},
          "execution_count": 109
        }
      ]
    },
    {
      "cell_type": "code",
      "source": [
        "min(a, key=a.get)"
      ],
      "metadata": {
        "colab": {
          "base_uri": "https://localhost:8080/",
          "height": 36
        },
        "id": "arCQrjjM4bt3",
        "outputId": "d25ef65a-7353-4f65-de0b-edf9279485ed"
      },
      "execution_count": null,
      "outputs": [
        {
          "output_type": "execute_result",
          "data": {
            "text/plain": [
              "'K3Ibvar'"
            ],
            "application/vnd.google.colaboratory.intrinsic+json": {
              "type": "string"
            }
          },
          "metadata": {},
          "execution_count": 110
        }
      ]
    },
    {
      "cell_type": "code",
      "source": [
        "print(list(data['SpType'].tolist()))"
      ],
      "metadata": {
        "colab": {
          "base_uri": "https://localhost:8080/"
        },
        "id": "nBnnyFNEPJi8",
        "outputId": "0df91c06-b88f-4fc8-f3b7-ce8d53c4b2c4"
      },
      "execution_count": 186,
      "outputs": [
        {
          "output_type": "stream",
          "name": "stdout",
          "text": [
            "['K5III', 'B1II', 'G5III', 'B7V', 'G0V', 'B9III', 'F3V', 'G0III', 'K0/K1III', 'K2III', 'K4III', 'F8V', 'M1III', 'B7V', 'K0IVCN...', 'F8IV/V', 'K4III', 'F3V', 'G6IV/V', 'K0V', 'G8IV', 'F5IV', 'K3III', 'F5V', 'F3/F5V', 'F3/F5V', 'B8III', 'K0III', 'K0III', 'K1III', 'K2III', 'K0III', 'K0III', 'M1III:', 'M2/M3III', 'K1IV', 'F5V', 'B5V', 'K4III', 'K0IV', 'K0III', 'F0V', 'K3V:', 'F0V', 'K4III', 'K2III', 'F8V', 'B5II', 'G8III', 'G8/K0III', 'F5III', 'K1III', 'G2IV/V', 'G8V', 'B8III', 'F7V', 'K2III', 'K0V', 'F5V', 'K0III', 'K0III', 'K1III', 'G0IV/V', 'A1V', 'K1III', 'K3III', 'K1/K2II', 'G3V', 'K1IIICN...', 'M0III', 'K0III', 'M1III', 'F5V', 'M1III', 'K1V', 'F5V', 'F2V', 'F5/F6V', 'K0III', 'G7II-III', 'G8III/IV', 'F7V', 'F0III/IV', 'F0V', 'F5V', 'K2IIICN...', 'K0III', 'G8III/IV', 'F2V', 'F5V', 'B9.5III', 'F7V', 'F0V', 'G8III', 'F3V', 'K4V', 'G8IV', 'K3/K4III:', 'F2/F3III', 'F5V', 'F3/F5IV/V', 'F0IV', 'K0/K1IV:', 'G8II', 'K0III', 'G2V', 'A0IV', 'F5V', 'G6/G8V', 'F7IV', 'K0III', 'GIII:+...', 'K2III', 'M0III', 'K3III', 'F2V', 'K3III', 'G8IV...', 'G5III', 'F0Vn', 'F0III', 'K0III', 'F8/G0V', 'G1V', 'K0III', 'K0III/IV', 'K3V', 'K3III', 'A7Vvar', 'F3/F5V', 'F3V', 'B8V', 'K3III', 'K4III', 'K0III', 'F7IV', 'F6V', 'K3III', 'K1III', 'G1/G2IV/V', 'G0V', 'G8IV', 'F2/F3V', 'G6III', 'F3V', 'G1V', 'G6III', 'G9III-IV', 'F8IV', 'K0III', 'F8IV-V', 'K2III', 'A1V', 'F6V', 'K5Ib', 'F0V', 'B8V', 'A1III', 'G8/K0III', 'F2V', 'M0IIIvar', 'G2V', 'F2/F3V', 'K4III', 'B7V', 'F5V', 'F0/F2IV', 'K0III', 'G5V', 'F5V', 'F0III', 'A4V', 'K5/M0III', 'F0V', 'G8III', 'F7V', 'A2III', 'B8Ib', 'B5III', 'B8/B9V', 'F2V', 'K1III', 'G5II', 'K2III', 'K2III', 'G8III', 'G0V', 'A1Vvar', 'F0V', 'G8II/III', 'K0III', 'F8V', 'F5V', 'K0III', 'K1III', 'G5V...', 'G6/G8IV', 'A0III', 'F0III', 'G5V', 'F3V', 'F2IV', 'G8III', 'K0III', 'F3V', 'K1IV', 'M3III', 'K2/K3IV', 'B3Vp', 'K1III', 'K0III...', 'K3IIICN...', 'F3V', 'F7V', 'M0III', 'F0IV/V', 'K1II', 'G0V', 'K1III', 'K2III:', 'K2III', 'G5VCN...', 'K4III', 'K1III', 'K3III', 'K5III', 'K2III', 'G8V', 'F6V', 'G8III', 'K5III', 'K0III', 'F6IV/V', 'B5Ib', 'M4III', 'G8IV/V', 'K0III', 'A9III', 'F5V', 'A3V', 'K1IIICN...', 'K2III', 'F7IV', 'M2III', 'G8III', 'K5III', 'K2III', 'G0V', 'K2III', 'K1III', 'M1III', 'K0III', 'K1III', 'K2III', 'A2/A3V', 'K0III', 'K1III', 'M1/M2III', 'K1III', 'F6IV/V', 'K2/K3III', 'G8IV', 'G8IIICN...', 'F2V', 'G3V', 'F2/F3V', 'G3V', 'F3V', 'G8III', 'G4III', 'K2III', 'K0/K1IV', 'G5V', 'F8/G0V', 'K2III', 'F5V', 'A3V', 'M6III', 'M1III', 'G5V', 'A4III', 'F8/G0V', 'G8III', 'K1III', 'M2III', 'G8III', 'F3V', 'K2III', 'M4III', 'A5Vn', 'A1V', 'A2Vnn', 'F5V', 'F0III/IV', 'A1V', 'K0III', 'A5V', 'F2V', 'K0III', 'G6/G8III/IV', 'K2III', 'F7V+...', 'K1/K2III/IV', 'K0III', 'K1III', 'A9IV:', 'K2III', 'K1III', 'A7/8V + G', 'G8III', 'G8V', 'F8V', 'G3IV/V', 'F2IV/V', 'G5V', 'K2III', 'G3V', 'G8III', 'K5III...', 'K0IIICN...', 'M1III', 'K0III', 'K0III', 'K2III', 'F0III', 'F5/F6V', 'F3/F5V', 'K7V:', 'K1III', 'K4III', 'F5V', 'G8III/IV', 'K2III:', 'K4III', 'B7III', 'F5V', 'B7III-IV', 'G6V', 'K1/K2III:', 'F2/F3IV/V', 'K3II/III', 'K1/K2III', 'F7V', 'K1III', 'K2/K3III:', 'K0III', 'M0III', 'F0II/III', 'K1III', 'G5V', 'M0III', 'F3III', 'K3III', 'G8V', 'G8III/IV', 'K1/K2III', 'B8III', 'G8V', 'G1IV', 'K0III', 'G8IV/V', 'A8V', 'A8IV+...', 'B9V', 'K5II', 'K0III', 'A3II/IIIp..', 'B5V...', 'G2V:', 'K3III', 'K1V', 'G2V', 'K5III', 'A7IV', 'F0V', 'K5III', 'M1III', 'K1III', 'A1V', 'G3V', 'G2V', 'G8III', 'G8IV', 'K1/K2III', 'M0III', 'F3III', 'G8IV/V', 'K1III...', 'G8IV', 'F3V', 'M3III', 'F2V', 'G3V', 'F5V', 'K2III', 'G8III', 'M2Iab', 'K0III', 'K0III', 'G6V', 'F2IV/V', 'B3Ia', 'F7V', 'K7V', 'K2/K3III', 'F5V', 'K1III', 'K3/K4III', 'K1III', 'F7IV', 'F8V', 'K1/K2III', 'K4III', 'M2III', 'G2Ib', 'M3III', 'K0III', 'B9IV', 'K3III:', 'G8/K0IVp...', 'F7V', 'K7Iab:', 'G0V', 'K1III...', 'K0III', 'G6/G8V:', 'A0V', 'K1IIICN...', 'G5V', 'K2V', 'K0IV', 'G5IV', 'M0/M1III', 'G3/G5V', 'K5III', 'K0III', 'F0V', 'F3/F5V', 'F3/F5V', 'G9III', 'K3III', 'K0III', 'F7V', 'G8III', 'K0IV', 'F2V', 'F5V', 'B5III', 'K0III', 'G0V', 'K1/K2III', 'K4III', 'K2/K3III', 'B8III', 'F0III-IV', 'G0V', 'F8IV', 'M0III', 'G8III', 'F0IV/V', 'K0III', 'G5V', 'M6III', 'A1V', 'K1III', 'M0III', 'F2IV/V', 'G0V', 'K5/M0III', 'F5IV/V', 'G8III', 'K2III', 'A6Iab', 'A0V', 'G0V', 'G5V', 'K5/M0III', 'K0III', 'F7V', 'M2II:', 'F3IV/V', 'K3III', 'F5V', 'K2III', 'K0III', 'F7IV', 'F0V', 'B0.5III', 'K0III', 'K2III', 'F7V', 'K2IIICN...', 'A7V', 'K0III', 'F8IV/V', 'G0V', 'G8III', 'K0III', 'G5V', 'B9III', 'K3III', 'G8III/IV', 'F6Ib-G2Ib', 'A9II', 'F7V', 'K0III-IV', 'G0V', 'K7V:', 'G8/K0III', 'G8III', 'K0III', 'A7V', 'B1:V:pe', 'K2III', 'K3III', 'F7V', 'G3V', 'G8/K0IV', 'K0IV', 'M3III', 'G8/K0III', 'F5V', 'F6V', 'M4III', 'K0III', 'K1III', 'B2III', 'M1III', 'F6V', 'F2V', 'G5V', 'G3IV', 'K1III', 'F8V', 'F6V', 'G2V', 'G0V', 'F3/F5V', 'K0III', 'F7V', 'F5V', 'F2III', 'F5/F6V', 'G0V', 'K1/K2III:', 'F3V', 'G5V', 'G2/G3V', 'G6V', 'G8II-III', 'K2Ib-II', 'K1:III+...', 'K0III', 'F5V', 'K2III:', 'B9Vn', 'K1III', 'F3IV-V', 'G6III', 'K5III', 'G5III', 'K3III', 'M2III:', 'F3V', 'K0IV', 'A9IV/V', 'K2III', 'K1/2III: +F', 'F5V', 'K0III', 'K1V', 'M2/M3III', 'G8III-IV', 'B9III', 'B9III', 'K2III', 'K0III', 'A5Vv SB', 'G3V', 'G0V', 'K0III', 'G6V', 'G1V', 'G0V', 'B2V', 'K1III/IV', 'A7III', 'K4III', 'K8V:', 'G9III', 'G8III', 'K1/K2III', 'K5III', 'F2V', 'K2/K3III', 'F6V', 'K1III', 'G9III-IV', 'K2/K3III:', 'B9V', 'G0V', 'G8/K0III', 'G8IV', 'K0III', 'F0V', 'F7V', 'K4/K5III', 'F8V', 'A5IV-V', 'F0IV', 'F2V', 'B3Ia', 'F5V', 'F0III/IV+..', 'F2II/III', 'M3II', 'F6V', 'K1III', 'G8III', 'F0/F2V', 'G5III', 'G8/K0V', 'K2III', 'A9IV', 'F5IV-V', 'K4II/IIICNV:', 'K0IV', 'F2V', 'F8/G0V', 'A3III', 'G2V', 'K1III', 'G8III', 'G8III', 'G8III', 'G5IV/V', 'K0III', 'K1III', 'G0V', 'B0.5IIIn...', 'K5III', 'M2III', 'K5III', 'F3/F5V', 'K3/K4III', 'F5V', 'G5/G6III/IV', 'A0V', 'K1/K2III', 'K0III', 'A9IV', 'F3IV', 'B2IVne+...', 'F8/G0V', 'K0III', 'F5IV/V', 'G8IV', 'M2III', 'K0III', 'K0III', 'M1III', 'K1IIICN...', 'K4IIIb', 'F3V', 'F6V', 'K1IV', 'G3/G5V', 'G5V', 'G8III', 'F5V', 'K1IIICN...', 'F5IV/V', 'K2III', 'F8V', 'K7V', 'K1III', 'M0/M1III', 'M3III', 'F6/F7V', 'K3III', 'F3III/IV', 'A2IV/V', 'A2III', 'G3V', 'M7III', 'F6V', 'K4/K5V:', 'G5II', 'K0III...', 'K0III', 'K0IIICN...', 'K4III', 'K2III', 'F0V', 'G6V', 'G2V', 'G8V', 'K5III', 'A9V', 'G8III', 'F3V', 'G0V', 'M2III:', 'K2III', 'F2V', 'F7V', 'G8II', 'F7/F8V', 'F2IV', 'G1V', 'K5III', 'M0/M1III:', 'F2IV', 'B1Ib', 'K1/K2III', 'F5/F6V', 'G9III', 'K7V:', 'M0III', 'G8/K0III', 'K4III', 'F6V', 'F3III/IV', 'K3III', 'F5V', 'K3IIICN...', 'F5IV/V', 'K5III', 'G8V', 'F6/F7V', 'F2V', 'K5III', 'F6V', 'K0III', 'M3III', 'K1/K2III', 'K2III', 'G5III', 'F0IV', 'F0III', 'G3V', 'G8/K0IV', 'F3V', 'G6/G8II/III', 'F6/F7V', 'K0IV', 'A0Vn', 'F5V', 'M2III', 'K3III', 'F7V', 'F7/F8V', 'A3V', 'K5V...', 'G0V', 'F7/F8IV', 'M2III', 'K3III:', 'F6V', 'B9IIIn', 'G8III/IV', 'K2/K3III', 'F5V', 'B2.5Iab:', 'G8II', 'K3III', 'G3V', 'K1III', 'G0V', 'F8V', 'F7V', 'G5IV/V', 'F6IV', 'K1III', 'A0Vnn', 'A2V', 'K1/K2III', 'K0III', 'M0III', 'G8III', 'B4V', 'K1III+...', 'F3/F5V', 'K1III', 'K2III', 'K0III', 'G8III', 'F3V', 'G9III', 'F3/F5V', 'F5IV/V', 'M2III', 'B8IIIMNp...', 'A4Vm', 'F7V', 'K1III', 'K7V', 'K1III', 'K2III', 'K3III', 'G6V', 'G8III', 'G3V', 'G3:V: + G2:', 'K0III', 'A5V', 'K5III', 'M4III:', 'M4III', 'M2III', 'F3IV/V', 'G8III', 'F6/F7IV/V', 'K3/K4III:', 'F2V', 'G9III:', 'F6V', 'A1Iab', 'B9IIIp Mn', 'K0V', 'F2Vw', 'K3III', 'F7V', 'A0III', 'F5V', 'G3/G5V', 'K6V:', 'K1V', 'K2III', 'F8/G0V', 'A5III', 'G8III', 'K1III', 'K2III', 'G5V', 'G8III', 'G5IIIm', 'G5V', 'A8III', 'K0III', 'G8III/IV', 'G8III', 'A4IV/V', 'K1III', 'M5.5Ve', 'K0III-IV', 'K0IV', 'M3III', 'K2III', 'K1III', 'K0IV', 'M5III', 'B2.5IV', 'K2/K3IIICNp', 'K0III', 'F2/F3V', 'F8/G0V', 'G:III/IV+..', 'K3V', 'M5III', 'K2V', 'G0Ib', 'K0IV/V', 'G8IV', 'K2III', 'K1III', 'K0III', 'K2/K3III', 'F3V', 'K0III', 'B7III', 'M1III', 'G1Ibvar', 'A3V', 'K0V', 'K3III', 'K4III', 'A9V', 'K3III', 'A7Vn', 'B2IV', 'K2/K3III', 'F3III', 'K5III', 'G5IV/V', 'F8V', 'F5V', 'A8III', 'F6V', 'A2V', 'F3V', 'G1V', 'G5III...', 'K0IIIp', 'K0III/IV', 'K1/K2III', 'K0III', 'K0III', 'F5V', 'G0V', 'F8IIIvar', 'G8IIICN...', 'A7IV', 'F6V', 'F6V', 'K3III', 'M4III', 'F8V', 'G2/G3V', 'F3V', 'K1III', 'B9V', 'A0V', 'G5IV', 'K0IV/V', 'F0III', 'G3III', 'K2III', 'A8/A9V', 'F0V', 'G5V', 'A9/F0IV', 'F8V', 'K3III', 'A5III', 'F5III', 'F3/F5V', 'K3III:', 'F6V', 'K1IIICN...', 'F0V', 'K1/K2III', 'K0III', 'G8III+...', 'M2/M3III', 'M1III', 'M0III', 'K5III', 'G5V', 'K4III', 'F6V', 'G8III', 'G8/K0V', 'G3IV', 'K2III', 'K1III', 'K2:III:', 'G6V', 'K0III', 'M4III', 'F3V', 'F1V', 'K1III', 'G1V', 'K2/K3III', 'G3V', 'B1.5II', 'M3III', 'K1V', 'F6V', 'K0III/IV', 'F5V', 'F6V', 'F3V', 'G6III', 'K2III', 'K3III', 'F8IV', 'K1III', 'B2III', 'K0IV', 'G7III', 'F7V', 'F7V:', 'A0V', 'K1III', 'G3V', 'K3Ib', 'G6V', 'K0III', 'F2V', 'K1III', 'F6IV', 'K1III', 'F8V', 'G2V', 'M1Vvar', 'F0IV/V', 'K0III', 'K3III', 'F2IV/V', 'K0III', 'G0IV/V', 'K1III', 'K2III', 'K2III', 'F2V', 'K0III', 'K2III', 'B8II', 'G2V', 'G5V', 'A9V', 'A7V...', 'M1/M2III', 'F5V', 'K0III', 'G6III', 'K3III', 'K3III', 'K1III', 'K1III', 'F6/F7IV', 'K0V', 'K0III', 'F3II', 'F8V', 'F6IV/V', 'F3/F5V', 'K1III', 'F8V', 'G8III', 'F8/G0V', 'G5III', 'F8III/IV', 'K0III', 'K0III', 'F7V', 'B1V', 'K1III', 'F2V', 'G8IV', 'F5V', 'F0V', 'F2III/IV', 'G2V comp SB', 'K2III', 'G8III', 'G2II', 'G5V', 'K5III', 'F4V', 'G3/G5V', 'A5V', 'M3III', 'K3III', 'A9V', 'K0/K1VCN...', 'K0/K1III', 'K2/K3III', 'A6V', 'G6V', 'G8III', 'G5V', 'G8III/IV', 'K0/K1III', 'B6Ve', 'F5V', 'F8V', 'G8/K0III', 'F3V', 'G8IV', 'K1III', 'G2V', 'F6V', 'G0V', 'F2V', 'G1V', 'G1/G2V', 'A9/F0III', 'F8IV', 'F6V', 'A9V', 'G8III/IV', 'A5III/IV', 'G8IV', 'K4/K5III', 'F3V', 'K2III', 'F0V', 'G8/K0V:+...', 'G5IV-V', 'K0III', 'F5V', 'K0III/IV', 'F5V', 'B9IV', 'F8V', 'F3III/IV', 'G3V', 'B6III-IV', 'K2IIICN...', 'G2/G3IV/V', 'A0IV/V', 'K2III', 'M4III:', 'K0III', 'K1III', 'K0III', 'K3III', 'K0III', 'K1III', 'M4III SB', 'A3V', 'K2III', 'K0III', 'K2III', 'G8III', 'K2III', 'K0III', 'K0II/III', 'F7V', 'G3IV', 'K0II', 'F8/G0V', 'K2III', 'G8/K0III+..', 'F6V', 'K0III', 'K2III', 'K3III', 'F2V', 'K0III', 'K2/K3III', 'K0V+...', 'K4III', 'K2III', 'F2/F3V', 'G1V', 'K3III', 'K1III', 'K0V', 'K1III', 'K0III', 'K2III', 'G8III', 'F8V', 'F6V', 'A1Vs', 'F5/F6V', 'K3III', 'B8III', 'K2III', 'K5III', 'K1III', 'G8/K0V:', 'F5V', 'G8/K0III', 'K3III', 'K3III', 'F3/F5V', 'K0III', 'K1III', 'K1III', 'B8II', 'K0III-IV', 'F0Vn', 'K1V', 'K0III', 'F0III', 'K0III', 'G8III', 'F6V', 'K1III', 'M2Ia0-a...', 'G2V', 'K0III', 'K1III', 'G1V', 'K0/K1III', 'B9Iab', 'G6V', 'K2III', 'B3II', 'G8III', 'K2III', 'K4III', 'K1IIICNIV', 'K2IIICN...', 'K1III', 'K3III', 'F3V', 'K4III', 'K0III', 'F3V', 'G1V', 'K4III', 'K1III', 'G0V', 'G3V', 'A1Vn', 'F6V', 'G2IV', 'G8II-IIIvar', 'K0III', 'F3IV/V', 'F5V', 'F8V', 'K2III', 'F5V', 'G5III', 'G2V', 'F3V', 'K5III', 'A2IV', 'A5IV', 'K1III', 'K3III', 'K3III', 'K0/K1III', 'B1Vv SB', 'F7V', 'M0V', 'F5V', 'M2III', 'K1IV', 'K2III', 'F6III', 'M0III', 'B0Ibp', 'F2/F3V', 'G5III', 'K2IIICN...', 'F5III/IV', 'B9.5IV', 'A9V', 'K2/K3III', 'K2III-IV', 'G8III', 'K0III', 'F7V', 'G6III', 'G8V', 'F6V', 'G1V', 'F0V', 'B2IV', 'F8V', 'F3V', 'G5V', 'K1V', 'K1III/IV', 'K0III', 'G8III', 'F3:V+...', 'A6V', 'K2III', 'K7V:', 'B9.5V', 'K2III', 'B8Ib', 'F6V', 'F2V', 'F3/F5V', 'M2III', 'K0V', 'F0V', 'F5V', 'G8IV/V', 'B8II', 'F6/F7V', 'B8II', 'K1III', 'K5III', 'G2V', 'A9IV', 'G1/G2V', 'F7V', 'F7V', 'K3III', 'G8/K0III', 'K2III', 'F3V', 'G8III', 'K1II', 'K3III...', 'F7V', 'K1III', 'K0IV', 'B9IV', 'M5/M6Ib/II', 'K0III', 'F8V', 'K0IV/V', 'K7V:', 'K0III', 'K3III', 'M0III', 'M2III', 'F2V', 'K0V', 'F5V', 'F3Ib', 'F6V', 'K2/K3III', 'K1III', 'F0V', 'G3V', 'F0V', 'K0III', 'K1III', 'K0III', 'K1III', 'G5IV', 'B3Ib', 'K0III', 'K1/K2III', 'K5III', 'F0V', 'B0.5III', 'B3V', 'F7V', 'G8III', 'G8III/IV', 'G3V', 'F7V', 'F6V', 'F7V', 'F3/F5V', 'F6/F7V', 'K5III', 'F2/F3IV', 'F6V', 'K1III:', 'G1V', 'K4III', 'K2III', 'G8IV', 'F3/F5V', 'F7/F8V', 'G2/G3V', 'G8III', 'F0V', 'K5Ia0-a...', 'B8III', 'K0III', 'G8III', 'O9.5IV', 'F7V', 'K1III', 'K2V', 'M4III', 'K2III', 'A3V', 'G8IV', 'K5V comp SB', 'K2II', 'F5IV', 'B8V', 'F0III', 'K1III', 'M1III', 'K0III', 'K0V', 'F0IV', 'G8IIIvar', 'G8III', 'K2/K3III', 'K0III', 'K0III', 'F5V', 'B9V', 'K2III', 'F7V', 'G1V', 'K2III', 'F0IV', 'M1III', 'G3IV', 'F5V', 'K2II-III', 'K1V', 'G3V', 'G8/K0III', 'K1III', 'K0V', 'K1III', 'F3V', 'F7V', 'B6Ib', 'G1V', 'B2III', 'F6V', 'G3V', 'K1III', 'K3V', 'F5V', 'F3/F5V', 'K0III', 'K4III', 'G8III/IV', 'F6/F7V', 'B3Ia', 'K0III', 'G8V', 'G6III:', 'M1III', 'A3Vn', 'F8/G0V', 'G6V', 'F7III/IV', 'F6V', 'F5V', 'F2III', 'K2/K3III:', 'K7III', 'K0III', 'A1/A2IV', 'G3V', 'F8Iab:', 'F2III', 'K2III', 'M2III', 'F3V', 'F6V', 'F5V', 'F3IV/V', 'G3V', 'M0III', 'F6V', 'K7III', 'M2III', 'K1/K2III', 'G8III/IV', 'B8Iab', 'K1/K2III:', 'F5V', 'F8V', 'K2II', 'K4V', 'G9III', 'K1III', 'G0V', 'K0II/III', 'G8/K0III', 'G6V', 'M3III', 'K2/K3III', 'K1III', 'K0III', 'F5IV', 'F5IV/V', 'F5V', 'G8III', 'G8III', 'G8III', 'K0IIIvar', 'G8IV/V', 'K0III', 'F0V', 'K4III', 'F5V', 'G2/G3V', 'K0III', 'F8IV/V', 'F6V', 'F3V', 'F7V', 'B8V', 'F2V', 'G5V', 'G0IV', 'F5IV/V', 'F3V', 'G8/K0III:', 'G5V', 'G0V', 'A3II/III(m)', 'G3/G5V', 'G8V', 'K1III', 'G9III', 'G5V', 'G6III', 'F6/F7V', 'K3III', 'G5V', 'B5Ia', 'F6V', 'B5Iab', 'B8III', 'A3/A4III', 'K0III', 'K2III:', 'F6V', 'F2V', 'F7/F8V:', 'K3III', 'G0V', 'A9V', 'K0III', 'B5Ib', 'G5III', 'F0V', 'G8V', 'G3/G5III', 'K2III', 'K3III', 'K2III', 'K4V', 'G8/K0III', 'M3III', 'F3IV/V', 'G8III:', 'F7/F8V:', 'K0III', 'F7V', 'F7V', 'F8/G0V', 'G5III', 'F2V', 'M3III', 'K7V', 'B9IIIsp...', 'G2/G3V', 'K3III', 'F2V', 'K1III', 'G2V', 'G3V', 'F5V', 'K1IV:', 'F5Vs', 'K0III', 'K0/K1III', 'K0III', 'K1III', 'B8Iab:e', 'G1V', 'F5V', 'F5III+...', 'F5V', 'A2V', 'K3III', 'M2/M3III', 'G5IV', 'K1III', 'G8/K0III', 'G6III:', 'F3V', 'K0III', 'K2III', 'G3II/III', 'K1/K2II/III', 'F0IV/V', 'K0V', 'G5V', 'K0III', 'K2/K3III', 'A7V', 'G8III', 'A0Ib', 'K3III', 'G0V', 'K0III', 'K0III', 'F2V', 'G8III/IV', 'G8II/III', 'F7V', 'G8II-III', 'G5III', 'K5III', 'K2/K3III', 'G0V', 'K0III', 'O9IIInn', 'K2III', 'F7III', 'G8IV', 'M0IIIvar', 'F4V', 'B9V', 'A3III', 'K1III', 'B9IV-V', 'K1III', 'K2III', 'K1IV', 'G6III', 'K1III', 'K1/K2IIICN.', 'A1Vn', 'K2III', 'G2V', 'G0V', 'K0/K1III', 'B5V', 'G8III/IV', 'G8/K0III:', 'A3V', 'F3/F5V', 'K3III', 'A2V', 'K2III', 'G2V', 'F3V', 'A3V', 'F6V', 'G8IV', 'G8/K0III', 'B1.5Ia', 'G2V', 'B9IV', 'A5IV', 'B9.5Vn', 'G0V', 'A8/A9V', 'M5III', 'G1V', 'B7IIIMNp...', 'G6:IIICNpva', 'F2III-IV', 'K0III', 'K1III', 'G8III', 'F8V', 'F3/F5V', 'G6/G8V', 'K0II/IIICN', 'K0III', 'K0III', 'G3/G5V', 'K0III', 'K0III', 'G8III', 'K3III', 'K2III', 'K3/K4III', 'K1III', 'G6V', 'B6Ia', 'B7III', 'F5V', 'F5/F6V', 'K0V', 'F5/F6V', 'A2V', 'A2V', 'K3III', 'G8III', 'F7V', 'K0III', 'B1IV', 'F3IV-V', 'M4/M5III', 'F5III', 'K0III', 'K2III', 'B5Iab', 'F3V', 'K7V:', 'K1II', 'G3V', 'G2V', 'K1III', 'K0III', 'F6V', 'K5III', 'K1III', 'K3II', 'F3V', 'M1III', 'F8V', 'A6V', 'F0III', 'G3V', 'K4III', 'G9III', 'F6/F7V', 'A7IV', 'F0III', 'G5/G6IV/V', 'K0III', 'F5IV', 'F2V', 'G8V', 'G8IV/V', 'G8III', 'K3/K4III', 'F0V', 'F3/F5V', 'F8V', 'K2V', 'B9V', 'K0III', 'G3/G5V', 'G5V', 'A0V', 'M1III', 'K2/K3III', 'K1III+...', 'F8V', 'M1III', 'K1/K2III', 'A1Ia', 'K0II/IIICN.', 'K0III', 'K0IIICN...', 'K3III', 'G3III', 'F3V', 'M2III', 'F3IV/V', 'G0V', 'F2/F3V', 'G5IV', 'K5III', 'G8III', 'M2III', 'K2III', 'K2/K3III', 'K5III', 'G8V', 'F5V', 'G8III', 'A9V', 'K4III', 'G9III', 'F8V...', 'F2V', 'F8/G0V', 'F3V', 'F0II', 'G5V', 'K1III', 'F6V', 'F5IV', 'F6V', 'G1V', 'G3/G5V', 'F7V', 'G3IV', 'F5V', 'F0V', 'F2/F3V', 'F7V', 'A2V', 'K3III', 'G6V', 'K2III:', 'F6V', 'K2III', 'K3III', 'F0V', 'M3III', 'K1/K2III', 'K2III', 'B9V', 'K0IIIp', 'F2IV', 'G5IIIwe', 'K3III', 'G0V', 'C6II', 'K1III', 'G8II', 'K4III', 'K0III', 'K0III', 'G1/G2V', 'K0III', 'F3IV', 'F6/F7V', 'G8III', 'G8/K0III', 'F5V', 'M2/M3III', 'B8III', 'K0III', 'F5V', 'K0III', 'F0III', 'B9.5IIIMNp.', 'F7IV/V', 'G6/G8III', 'A1Vn', 'G8III...', 'G8III', 'M1III', 'A3III', 'F5/F6V', 'A2V', 'B3III', 'K0II/III', 'B9.5V', 'K1III', 'F5IV/V', 'M2III', 'K5III', 'K0III', 'F4V', 'K2III', 'K4V', 'F3Vws', 'M2III', 'G8/K0III', 'B7V', 'K0IV', 'G8III', 'G8IV', 'K1/K2III', 'B9V', 'F0IV', 'G8III-IV SB', 'G8/K0III', 'F5V', 'G6III', 'K0/K1III', 'K1III', 'B8V', 'K3Ib-II', 'B9V', 'K3/K4III', 'G8V', 'K2III', 'F6V', 'F8V', 'K1III', 'K3III', 'A7IV', 'G8IV', 'K1IV', 'G8III', 'F5IV/V', 'M0III', 'B5II', 'K0III', 'M0III', 'K0III', 'A8V', 'G8/K0V', 'B5II: SB', 'B7III', 'G0V', 'F5V', 'K0III', 'G2V', 'K1III', 'G0/G1V', 'K2IIICNII', 'G8III', 'K0III', 'A0Iab', 'F6V', 'F0V', 'K4III', 'A2V', 'B4IV', 'G0IV', 'G8/K0III/IV', 'G8III', 'G8III', 'G8V', 'G8III-IV', 'K0III', 'B2Ib', 'A0Vnn', 'F7V', 'K1III', 'K0III', 'G3/G5V', 'K0III', 'K0/K1III', 'K2V', 'B9V', 'F8V', 'F6V', 'G2V', 'B1.5IV', 'K4III', 'G5V', 'K5III', 'G5V', 'G8/K0III', 'K0III', 'F5V', 'F0V', 'K3V', 'K2III', 'K1III', 'A3IV/V', 'A8V', 'K2III', 'G8III', 'K0/K1IV/V:', 'F0V', 'K0III', 'K0IV', 'A7IV', 'K3III', 'K3III', 'G8/K0III', 'G5V', 'K1III', 'K2IIICN...', 'K4III', 'G8V', 'K0III', 'F7V', 'K0III', 'M3III', 'F3IV...', 'K2III', 'F2IV', 'M1Ibpev comp', 'K1III', 'G3V', 'MIII', 'M1III', 'F7V', 'F8V', 'F0V', 'F6/F7V', 'F3V', 'G8III', 'G8III', 'K0III', 'F6V', 'F7V', 'G3V', 'K0III', 'F3V', 'F7V', 'G3V', 'K2III', 'G3V', 'F3V', 'F7V', 'A3V', 'F5V', 'G2IV', 'A0Vs', 'G2V', 'K1III', 'F5V', 'K5III', 'K2III', 'K5/M0III', 'F2V', 'K0III', 'K0III', 'K2III', 'G8III/IV', 'K1III', 'G5III', 'K5III', 'M5III', 'B8Vn', 'K0III', 'K1III', 'B5III', 'G0V', 'G6V', 'G2V', 'K5III:', 'K1/K2III', 'G3V', 'K2IV', 'F3/F5V', 'F7V', 'F7/F8V', 'B8/B9V', 'G8II/III', 'F7V', 'K2III...', 'K2V', 'K3III', 'G8V', 'K3III', 'G3IV', 'F2V', 'K1IV', 'G2V', 'G8III', 'K2III', 'K0III', 'K5III', 'G2/G3V', 'F3IV/V', 'G8III', 'G2V', 'K1III', 'G1V...', 'K0III/IV', 'K2III', 'G3V', 'K0III', 'G8/K0III', 'K0III', 'G8III', 'K1III', 'F3V', 'K2III', 'K4III', 'B9III', 'G3V', 'K1III', 'A5V', 'G8III', 'F0V', 'K1III', 'K1III', 'K1III:', 'K2III', 'G6/G8III', 'G3V', 'K1III', 'F0V', 'G8III', 'M2III', 'F7V', 'K0III', 'K2III', 'K2III/IV', 'K0III', 'G8IV', 'K5III', 'G8III', 'K1III-IV', 'K7V:', 'K2III', 'K5III', 'G8/K0III', 'F6V', 'K1IV/VCN...', 'A0II', 'F5V', 'G8V', 'A4V', 'G3II', 'A0V', 'K2V', 'K0III', 'K1III', 'F6V', 'F3V', 'F8IV-V', 'G5V', 'K0V', 'K2/K3III', 'F5V', 'K1III', 'O9V', 'G8II', 'K2III...', 'K5III', 'K0III', 'G3V', 'G2/G3V', 'G8III', 'K2III', 'M2V:', 'G2V', 'K3III', 'G6V', 'K1III', 'B9.5V', 'F2V', 'K3III', 'F2V', 'G0V', 'A1V', 'A0:Ia', 'G8III-IV', 'K0III', 'F0V', 'G3V', 'G8III', 'K1II-III', 'A5V', 'G8III-IV', 'F0Ia', 'K1III', 'K1III', 'G6IV/V', 'A2V', 'A9V', 'A7III', 'G5III', 'F2IV', 'K1IIICN...', 'F6V', 'F5Ia', 'K1/K2III', 'F3V', 'F5V', 'F5/F6V', 'F7/F8V', 'K2III', 'G8V', 'G1V', 'G8III', 'G5IIIp', 'A3V', 'K4III', 'F2IV/V', 'F7V', 'G8III-IV', 'F5V', 'G8/K0IV/V', 'A7V', 'A9V', 'G6/G8III/IVe', 'K0III', 'K3III', 'K0II', 'K2V', 'K2III', 'G8V', 'G8III/IV', 'K0III', 'F2V', 'K1IIICN...', 'K0/K1III:', 'K1III', 'G8III', 'K0V', 'B2V', 'K2III/IVCN.', 'K0III', 'F0V', 'K4III', 'F7V', 'A9V', 'K0III', 'F3V', 'G8/K0V', 'K5II-III', 'F0V', 'K5V', 'F0V', 'K0III', 'K2III', 'K1III', 'G3V', 'G3V', 'A8III', 'K2V', 'K0III', 'K2/K3III:', 'K1III', 'K2III', 'G8III', 'G4III', 'K0:III:+...', 'K2III', 'F3/F5V', 'F2V', 'M2III:', 'B1III', 'G8V', 'G1V', 'K1III', 'F0III', 'F7/F8V:', 'F2Vs', 'B9IV', 'A9V', 'F7/F8V+...', 'K1III/IV', 'F6V', 'K1III', 'F0III', 'G8IV', 'F3V', 'F8IV', 'M5III', 'A9V', 'K2/K3III', 'K0III', 'K0III', 'G3V', 'K2III', 'K1III', 'G8III', 'K2III', 'F3/F5IV', 'K5III', 'A3V', 'F3V', 'K0IIIvar', 'G8III', 'G8III', 'K0III', 'K2III', 'K0IV', 'F8/G0V', 'K2/K3III', 'G0V', 'F2V', 'F5III/IV', 'G3V', 'F3/F5IV/V', 'K5III', 'G8V', 'A0Vn', 'K0III', 'K0III', 'K0III', 'F3/F5V', 'F5V', 'K0III', 'K2/K3III', 'F6V', 'K0III SB', 'B1II', 'F6/F7V', 'K0III', 'K2III', 'K0III', 'K0III', 'F0V', 'F5V:', 'G3V', 'F2/F3V', 'K0III', 'K4III', 'F2II', 'G8III', 'O9.5Ib', 'F2III', 'B9V', 'M0/M1III', 'K2IICNp...', 'A5III', 'F6IV/V', 'K0III', 'A0V', 'F5Ib-II', 'F8/G0V', 'F6V', 'K1III', 'K2III', 'G3/G5V', 'K5III', 'K3III', 'K2III/IV', 'K3III:', 'F2III', 'K1IV', 'F5V', 'F0IV/V', 'K7V:', 'K2III', 'F3V', 'K1III', 'K1III', 'F3V', 'K1IV', 'A2V', 'G0V', 'K4/K5III', 'K1V', 'K5III', 'G5V', 'K1III', 'B9/B9.5V', 'K2III', 'A0V', 'F5V', 'K1III', 'F7V', 'M0III', 'F5Vw...', 'G2V', 'B8IIIp (Si)', 'B9III', 'K0/K1III', 'G0Ib', 'G6:III:+...', 'F0V', 'F2V', 'K0III', 'B8II', 'K0III', 'B8III', 'M1/M2III', 'G8III', 'G8IV', 'G5III', 'F3V', 'F2/F3IV/V', 'B7IIIe+K3III', 'F7V', 'G8III', 'G8III', 'A9V', 'K4III', 'G2IV', 'K0III', 'F6/F7V', 'G8III/IV', 'G2/G3IV', 'K0III', 'K0IV', 'K7V', 'F6IV', 'F8V', 'F2V', 'G8III', 'K0V', 'G8IV', 'G8III...', 'K1III', 'K4III', 'G8IV', 'F0V', 'K4/K5III', 'K2III', 'F5/F6V', 'K0III', 'K1/K2III', 'K1III', 'G2V SB', 'K2V', 'F5V', 'K2III', 'K5III', 'G3V', 'K0III', 'A3V', 'K4III', 'F5V', 'M7/M8IIIe', 'G2V', 'K1/K2III', 'G6Vw...', 'G1III', 'K5III', 'M2III', 'K2/K3III:', 'G5III...', 'K2III:', 'K0III', 'G8III', 'G8III', 'G8V', 'F2V', 'K1III', 'K0IV/V', 'K0IV', 'F6V', 'K1III', 'K2IIICN...', 'A2IV', 'G8III', 'K0III', 'G8/K0III', 'K0III', 'K2/K3III', 'K2III', 'G0V', 'K2/K3III', 'K0III', 'K1/K2III', 'K0/K1III+..', 'A3III', 'G3V', 'M2III', 'G1/G2V', 'F3V', 'F5IV', 'A5V', 'G3V', 'M1III', 'G8/K0III:', 'F3V', 'M2III', 'K0III', 'K1III', 'K4III', 'B5V SB', 'K2/K3III:', 'K1III', 'F3/F5IV+...', 'F7V', 'F0V', 'G3/G5II', 'G3/G5V', 'K0IIICN...', 'K1III', 'G8III:', 'M3III', 'G8III', 'K5V', 'G2V', 'G5/G6V', 'F3V', 'F7V', 'G8III/IV', 'K0III', 'M1III', 'G8/K0III', 'F7/F8V', 'K2III', 'G5/G6III', 'F3V', 'A3V', 'G8III', 'F5V', 'K0III', 'K1III', 'K0III', 'K2III/IVCN.', 'F5V', 'F2V', 'F5/F6IV/V', 'F5V', 'K5V', 'F8IV/V', 'F6V', 'F3V', 'G2V', 'K2III', 'F0II', 'M1III', 'G8II', 'G5IV/V', 'M1V:', 'A9V', 'K0III', 'G3V', 'K0III', 'G8/K0III/IV', 'G8III/IV', 'K5Iab:', 'F5IV/V', 'G8III', 'K0IV', 'G6V', 'M2III', 'A9V', 'G8III', 'F6V', 'G1V', 'G6IV', 'B6III/IV', 'K3III', 'F3V', 'F5IV', 'M2.5IIIa', 'K2V', 'K2III', 'M2III', 'M3III', 'G5V', 'G6/G8IIIw..', 'G0V', 'F5V', 'K4III', 'K1/K2III', 'K1III', 'A8IV/V', 'F2V', 'K1III', 'F3V', 'G8III', 'F3V', 'G8/K0III', 'G5/G6V:w', 'F5V', 'F3V', 'M0III', 'G3V', 'K0III', 'K0III', 'G8/K0III', 'F5V', 'K0III', 'G2V', 'F0/F2V', 'M1III', 'K3III:', 'M1III', 'K2III', 'B5V', 'K1III', 'K0III', 'A1V', 'G3III', 'K0III', 'A1V', 'F6V', 'G6V', 'G8IV/V', 'F5IV/V', 'G8IIICN...', 'K2II-III', 'K3III', 'G0/G1V', 'F6V', 'K3III', 'F0V', 'B8V', 'G8V', 'F5V', 'F2/F3IV/V', 'F4V', 'B9V', 'F3V', 'G6III', 'F6IV', 'K5III', 'F3V', 'G3V', 'F7/F8V', 'G5V', 'K0III', 'K2/K3III', 'F8/G0V', 'B5V', 'K1/K2III', 'A5IV', 'K3III', 'K5III', 'B0.5III', 'G8III', 'F2V', 'F6V', 'B3II', 'K3III', 'G8III-IV', 'G8III', 'K1III', 'K2III', 'M0V:', 'B8IIIn', 'F5V', 'K0III', 'F0V', 'A2III', 'F0IV', 'F6/F7V', 'A2V', 'G8V', 'M0/M1III', 'F0Iab:', 'K0V', 'F7V', 'K0III', 'G3V', 'K5III', 'K0III', 'M0III', 'K5/M0III', 'K4/K5III', 'G0V', 'F0V', 'F5V', 'K1IV', 'G8III', 'K4III', 'G3IV', 'F3V', 'G6III', 'K1III...', 'K0III/IV', 'F2IV/V', 'K2III', 'F6V', 'G4V:p', 'G8/K0IV/V', 'F5IV/V', 'M1III', 'K2III:', 'G8III', 'K2V', 'K0/K1III', 'G5IV', 'K2III', 'G6IV', 'G8V', 'K1III', 'K0III', 'G3V', 'F6IV:', 'G8III', 'K3/K4III', 'G6/G8III', 'F5V', 'F2III', 'B8V', 'F0V', 'K0V', 'K2III', 'A4IV', 'K3Ibvar', 'A0Ia0', 'F8V', 'F8V', 'G3/G5V', 'K0III', 'A9V', 'F4Iab:', 'F3IV/V', 'G5IV/V', 'K2III', 'K0III', 'F6V', 'F3/F5V', 'F3/F5V', 'K0III', 'K4III', 'K1/K2III', 'K2III', 'F6/F7V', 'K0III', 'F2V', 'G0V', 'K1III', 'G9III-IV', 'K1III', 'F2V', 'G2IV/V', 'F2IV', 'K0III', 'K4III', 'F3/F5IV/V', 'G8III', 'A2V', 'K0III', 'F5V', 'F3/F5V', 'K3III', 'K3III', 'K3III', 'A9V', 'K0IIICNIV', 'K0III', 'K0V', 'A2Vs', 'A9V', 'G1V', 'F5V', 'K5III', 'M3IIIvar', 'G8III', 'F0V', 'F3V', 'G8IIIp', 'F3/F5V', 'K1III', 'G3/G5V', 'F0Ia', 'A5III/IVm..', 'G8III', 'F5/F6V', 'F0V', 'F3IV/V', 'G6/G8IV', 'F6IV', 'G5V', 'G7III', 'F0V', 'K1III', 'F7V', 'G8III/IV', 'K0IV', 'K0III', 'G8V', 'G2/G3V', 'K0III', 'G5V', 'K1III', 'K1III', 'G5V', 'A7III', 'K0III', 'F0III', 'F3IV/V', 'K0III', 'K0V', 'K2/K3III', 'M1III', 'A1V', 'G0V', 'K2III', 'K2IIICN...', 'K1III', 'F3V', 'G3V', 'B9V', 'K4III', 'F3V', 'K1III', 'K0III', 'K5V', 'A4IV', 'K0IIIp...', 'G0V', 'K4/K5V', 'K0III-IV', 'K0/K1III', 'F3/F5V', 'K1/K2III', 'K2/K3III', 'F6V', 'F0V', 'K0III/IV', 'F7V', 'A1IV/V', 'F2Iab:', 'K2III', 'K1III', 'G6IV/V', 'B0IV:evar', 'K0III', 'F8V', 'G7III', 'K2/K3III', 'A2V', 'G2/G3V', 'G8/K0V', 'K4III', 'K1III', 'F7V', 'B0Ib', 'G5IV', 'K4III', 'K3III', 'K0III', 'F5V', 'G1V', 'G8III', 'G8/K0III', 'B9.5V', 'F3V', 'G5III', 'F8V', 'K2III', 'K0III', 'F6Ib', 'G6III', 'K0III', 'K3III', 'K3III', 'G3/G5V', 'K0/K1V', 'F5V', 'M2III', 'A7V', 'G3V', 'B7III-IV', 'K0III', 'F8IV', 'B8III', 'K0III', 'F8V', 'A0V', 'G3V', 'K2V', 'F0IV', 'F6V', 'G8V', 'B7IIIp', 'G3V', 'G2/5V + F0', 'F3IV...', 'F7V', 'K3III', 'K2III', 'K4III', 'F3V', 'F5V', 'F6V', 'G3V', 'G8III', 'G5III', 'K0III', 'K0/K1V:', 'M4III:', 'A3III', 'F4II', 'G6/G8III/IV', 'K0/K1III', 'F5V', 'A0Iab', 'M0/M1III', 'G8IIICN...', 'K1III', 'M2III:', 'G2/G3V', 'K0III', 'A3IV', 'F5V', 'A4III', 'G8III', 'G0V', 'F8V', 'G8III/IV', 'K1III', 'K0III', 'A5IIIm...', 'G8IV/V', 'K1III', 'G5III', 'F0V', 'G8III', 'F0V', 'G3/G5IV/V', 'G9III', 'K0III', 'K0/K1IV', 'G8III', 'F5V', 'G2/G3V', 'F8Vw...', 'A1V', 'F7V', 'K5V', 'K3III', 'K4/K5V', 'K2/K3V', 'K2III', 'F0IV/V', 'M3III', 'B8V', 'K0III', 'F6Vawvar', 'K5II-III', 'F6V', 'A4IV', 'G0V', 'B8V', 'K1III', 'G0/G1V', 'F2V', 'K1III', 'B8III', 'B6Ia', 'B1V', 'K1III:', 'K2/K3III', 'F5V', 'G3V', 'K0III', 'K0III', 'M3III', 'A2/A3V', 'M2III', 'K1III', 'K2III', 'M0V:', 'K0III', 'K1III', 'K7V:', 'K0II-IIIvar', 'G8III', 'G5III', 'G3/G5V', 'F3V', 'K2/K3III', 'K2III', 'G5V', 'F5IV/V', 'G5III', 'K2III', 'K5V', 'K2III', 'M4II-III', 'G8III', 'K1III', 'M1Ve+...', 'K1III', 'F7/F8V', 'F3V', 'A9V', 'G8III', 'K2/K3III', 'F3V', 'K0III', 'G6/G8III/IV', 'K1III', 'M0III', 'G5IV/V', 'F2III', 'A4V', 'G5V', 'G8II', 'M4Ib+...', 'K1/K2III', 'G5V', 'K3III', 'K1III:', 'A9Iab:', 'F5V', 'F0III', 'G3V', 'K0III', 'F5V', 'G8/K0III/IV', 'G8III-IV', 'A8V', 'G8IV', 'F2V', 'G5V', 'G6III/IVw', 'K3III', 'A0V', 'K3/K4III', 'K4III', 'B9.5III', 'K0III-IV', 'G8IV', 'K0III', 'M0III', 'K3III', 'K1/K2III', 'M1III', 'G5Vp', 'F5V', 'F3V', 'G2V', 'F6V', 'K2/K3III', 'F4Iab:', 'G2V', 'K2III', 'F5V', 'M2III', 'K1V', 'F5V', 'G1Vw...', 'G2III', 'A3IV', 'K5III', 'G2V', 'K0III', 'K1II', 'K3III', 'A5V...', 'K1III', 'M3IIIvar', 'K1IV', 'K5V', 'K0III', 'G2V', 'G6II', 'K0:III', 'K5/M0V', 'G8III/IV', 'F7/F8V', 'K1III', 'K0III', 'G5V', 'F0V', 'K5V', 'K1/K2III', 'F2III', 'K2III', 'M6III', 'K0III', 'G5VCN...', 'K3III', 'K1III', 'F3V', 'F6V', 'K3III', 'K0III', 'G8IV', 'G0V', 'G8III', 'K1V', 'K1III', 'A3V', 'G8III', 'F0V', 'K1III', 'F7/F8V', 'M0V:', 'G1V', 'F2V', 'F3V', 'K0III:', 'C5II', 'F4II-III', 'F5V', 'B3Ia:', 'G8/K0IV', 'B9III', 'G6V', 'F2V', 'K1III', 'F8IV', 'G8III/IV', 'K0III', 'K1III', 'F2IV', 'K5III', 'K5Iab:', 'G2V', 'K1/K2III', 'F6V', 'G5/G6IV/V', 'K0III', 'F6V', 'K0III/IV', 'A8/A9V', 'F3V', 'A2/A3IV', 'K3II/III', 'K5III', 'B8IIIsp...', 'F5/F6V', 'G8V', 'K0III', 'G5/G6V', 'G5V', 'K1IIICN...', 'K1III', 'F8V', 'F5V', 'F3V', 'A3III/IV', 'A3V', 'K2III', 'K2II:p', 'K3/K4III:', 'K0V', 'K0III', 'F5/F6IV/V', 'K0III', 'G8III', 'K1III', 'K0III', 'G8/K0IV', 'F6V', 'G5III', 'F0V', 'K5III', 'K1IIICNIV', 'K1/K2III', 'G1V', 'G2V', 'G0V', 'F3/F5V', 'F3V', 'K0III', 'K0III', 'F3V', 'G8III', 'G5IV', 'K0III', 'G8V', 'F5/F6IV/V', 'G6III/IV', 'F2III/IV', 'F6V', 'G8/K0III', 'K0/K1IV', 'K3V', 'G6II/III', 'K1/K2III', 'G3V', 'M2III', 'K1IIICN...', 'B4V', 'F7V', 'K5III', 'F7/F8V', 'G6III', 'A5V', 'G8/K0V:', 'B0III', 'G2V', 'A5III', 'F0V', 'K1III', 'K0V', 'F2V', 'K0III', 'K0III', 'K7V:', 'F3II', 'A8/A9V', 'K0III', 'G3/G5V', 'K1IIICN...', 'G8/K0III', 'F2III/IV', 'F3V', 'K5III', 'K4III', 'F0II/III', 'K4III', 'F7/F8IV/V', 'A9V', 'G0V', 'F5V', 'K2/K3III', 'K0V', 'K3III', 'A1V', 'F3V', 'G1/G2V', 'G8III', 'F5V', 'K0III', 'G8III', 'G3V', 'F5V', 'K0/K1III', 'K4V', 'K4/K5III', 'K3III', 'K3II-III', 'K1III', 'A3III', 'K3III', 'K0III', 'F3V', 'G8III', 'K7V:', 'G1V', 'K2/K3III', 'K1III', 'M2Ib', 'B1.5III', 'K0III', 'K0Ib+...', 'F3V', 'G8III', 'G8V:', 'A2III', 'K2III', 'K0III', 'K0III', 'G2/G3V', 'M2/M3III', 'F2V', 'F3V', 'G6IV', 'K1III', 'K1III', 'A0V', 'K0III', 'G3V', 'F3/F5V', 'F2IV/V', 'G2/G3V', 'K1III', 'B7II', 'K4III', 'K3III', 'K2III', 'B9IV-Vn', 'G8V', 'G0V', 'G8V', 'G5III/IV', 'F8V', 'F5V', 'F5V', 'G8/K0III', 'K3/K4III', 'F7V', 'M2/M3III', 'F3V', 'K5/M0III', 'B6Iab', 'M1/M2III', 'A0Ia:', 'A9III', 'F6V', 'B1V SB', 'G8/K0IV', 'G8III', 'G8/K0III', 'K0III', 'F2V', 'A5IV', 'F3V', 'F5V', 'K1III', 'K1III', 'F2IV/V', 'K1III', 'K3III', 'F7/F8V', 'K2III', 'F2V', 'K0/K1III', 'F8IV/V', 'G1V', 'G3V', 'G5V', 'A1V', 'K0/K1IIIp..', 'K2III', 'B1Ibp', 'A2V', 'K3III', 'F7V', 'G0III', 'F6V', 'B1.5III-IVn', 'F6V', 'M4III', 'G8II-III', 'K0III/IV', 'K1III', 'G8III', 'K0II-III', 'F0/F2IV/V', 'K1III', 'G2/G3V', 'G5III:+...', 'G3V', 'M1III:', 'K1II/III', 'K1III', 'K1III', 'B3Vne', 'K0III', 'G8/K0V', 'F8V', 'F8V', 'F5V', 'F7IV-V', 'K2IV/V', 'B9V', 'F7V', 'K4III', 'G0V', 'K1III', 'F7V', 'K4III', 'K1III', 'F0V', 'K1III', 'K0III', 'K0/1V (+K)', 'F2III', 'F7V', 'K3V', 'K1III', 'B1II', 'K0III', 'G8III', 'K1III', 'F5V', 'K0/1III +G', 'B0.5III', 'M1III', 'F3V', 'F8V', 'K2III', 'F2V', 'B0.5V', 'G6V', 'F6/F7V', 'G6III', 'G3V', 'G8III', 'F6/F7Vw...', 'K1/K2III:', 'G2/G3V', 'G2V', 'K0IV', 'K1III', 'B9III', 'K1III/IV', 'G2/G3V', 'G1/G2V', 'A7V', 'G6III...', 'K3III', 'M1III', 'K3III', 'K2V', 'K0III', 'F2V', 'K0III', 'G5V', 'B9V', 'K4III', 'K3III', 'F6V', 'K1III', 'K1III', 'K2III', 'K2IIICN...', 'K0III', 'G8III/IV', 'F5V', 'G8IV', 'A0V', 'K0III', 'F2V', 'M3III', 'F3IV/V', 'F3V', 'A3V', 'G9III', 'M1III', 'K0/K1III', 'K1IV', 'A9V', 'K0V', 'G9II-III', 'K2III', 'A8IV', 'K1III', 'K1/K2III', 'G8/K0V', 'K1III', 'F2V', 'G3III:', 'F9Ib', 'F0V', 'K0III', 'K0III', 'G0V', 'K0III', 'G8III', 'F5V', 'G8III', 'G8III', 'M2Ib', 'K2III', 'K0III', 'F3/F5IV/V', 'A1V', 'G5V', 'K1V', 'K3III', 'G1V', 'G8III/IV', 'F6/F7V', 'G3/G5III:', 'A0Ia', 'G3III', 'F0IV', 'K3III', 'K0/K1III+..', 'F8V', 'K0III', 'F5V', 'G8II', 'K2III', 'F3V', 'G3V', 'F2V', 'K2III', 'K2III', 'B2IV-V', 'F5V', 'K0IV', 'K2III', 'F2V', 'K4III', 'K3V', 'K2III:', 'F2V', 'G3V', 'F7IV', 'G8/K0IV/V', 'F7V', 'M1/M2III', 'M3III', 'G0V', 'G0Ia', 'K3III', 'K1II-III', 'A3III', 'G1V', 'K3III', 'G8/K0V', 'K3III', 'K5III', 'K3/K4III:', 'A0/A1V', 'B1III', 'G2III', 'K4III', 'A0III', 'K5III', 'K2III', 'K0III', 'K1IIICN...', 'K1III', 'F3IV', 'G1IV', 'K2III', 'K2III', 'K0/K1III', 'B9V', 'K1III', 'K3III', 'K1III', 'M2V:', 'G5V', 'F5V', 'A3III', 'G8III', 'K1III', 'F5V', 'G8V', 'K3III', 'K2III', 'G0V', 'K0III', 'F3V', 'A9III', 'M2.5II', 'F3/F5V', 'K0II', 'F5IV-V', 'A1V', 'A8III/IV', 'M3III', 'F2V', 'A9/F0V', 'G5V', 'B2III', 'K1III', 'K2III/IV', 'K2III', 'F3/F5IV/V', 'F6V', 'A0Ia:', 'B8Ib', 'G1V', 'K2/K3III', 'K2III', 'M2/M3III', 'G8III', 'M1V', 'F3/F5IV', 'F3V', 'B9IV/V', 'A4III', 'F7V', 'F2II', 'B9V', 'G3V', 'K0III+...', 'B8III', 'B1V', 'F6IV', 'G6III', 'B2III', 'B1Ia', 'K2/K3III', 'A7II', 'F5/F6V', 'F5V', 'G8III', 'K0III', 'K1IIIvar', 'K2III', 'B9V', 'K0III', 'F7V', 'M2V', 'A4V', 'K1/K2III', 'F3V', 'G6V', 'F7V', 'G8IV/V', 'G2V', 'F7.5IV-V', 'F0V', 'G8III', 'G8II/III', 'K1III', 'G5Ia', 'M2III', 'K1IIICN...', 'F5Iab', 'K1III', 'G8III/IV', 'F7V', 'A4Vs', 'A8IV/V', 'K0III', 'A3V', 'K1V', 'K0III', 'K3III', 'F5V', 'M0V:', 'G8III', 'G6III', 'A0Ib', 'K0III', 'K2III', 'K2III', 'F6V', 'G3/G5V', 'K0III', 'K1IV', 'K0/K1V', 'K0III/IV', 'G8III', 'M0V:', 'F5V', 'F5V', 'F5V', 'K2III', 'G8V', 'G2Vw...', 'G6III', 'F7V', 'K1IIICN...', 'G4III', 'F6V', 'F7/F8V', 'G0V', 'K0III', 'K1III', 'B2IIIne+...', 'G6V', 'B9V', 'K1III', 'K0III', 'G3V', 'F5V', 'M2III', 'G8/K0III', 'A3V', 'K4III', 'F5V', 'K5V', 'G0V', 'K0III', 'B1.5Ib', 'M1III', 'B9V', 'A2IV', 'K2II', 'F6V', 'K0III', 'A2V', 'K4/K5III', 'K0III/IV', 'F8/G0V', 'K1III', 'F0IV', 'K3III', 'K2III', 'F5V', 'K0III', 'F3V', 'G6III', 'F5V+...', 'K5III', 'F2V', 'K3III', 'G8III', 'K3III', 'K4III', 'K0V', 'O8V', 'K4III', 'G8III', 'A0V', 'M1III:', 'F6IV/V', 'K0III', 'F7V', 'G8III...', 'A6V', 'K1II', 'B9V', 'F8V', 'G8IV', 'F8/G0V', 'F7V', 'G8IV', 'F3/F5V', 'K0III', 'G9Ib', 'A0V', 'F6III', 'K3III', 'A8/A9IV/V', 'G8IV/V', 'G1V', 'K7V:', 'F7/F8V', 'F6V...', 'F2V', 'K0III', 'F6/F7IV', 'K1/K2III', 'F5/F6V', 'K1IIICN...', 'M3III', 'B2.5V', 'K1III', 'G8III:', 'K0III', 'M2III', 'K2/K3III', 'G5V', 'F5V', 'G3V', 'K0III', 'G5V', 'A0V', 'B1V:pe', 'G3V', 'A1Ia', 'G8III', 'G2/G3V', 'K0III', 'K0III', 'G3V', 'G1V', 'K4III', 'G8II', 'B8III', 'G1V', 'K5/M0III', 'B9IV', 'K0III', 'K0III', 'G9V', 'B0.5III', 'G1V', 'G6/G8III', 'G3V', 'M1III', 'F5IIvar', 'M4III', 'A0V', 'F7V', 'A1V', 'G4III', 'A5V', 'K2III', 'M0V:', 'F3V', 'K0:Ib', 'K4III', 'F2IV/V', 'M0/M1IIICNp', 'A5V', 'K1/K2III']\n"
          ]
        }
      ]
    }
  ]
}