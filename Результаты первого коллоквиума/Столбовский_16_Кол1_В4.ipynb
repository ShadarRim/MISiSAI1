{
  "nbformat": 4,
  "nbformat_minor": 0,
  "metadata": {
    "colab": {
      "provenance": []
    },
    "kernelspec": {
      "name": "python3",
      "display_name": "Python 3"
    },
    "language_info": {
      "name": "python"
    }
  },
  "cells": [
    {
      "cell_type": "markdown",
      "source": [
        "## Списки"
      ],
      "metadata": {
        "id": "Yzk_yB7pbSMF"
      }
    },
    {
      "cell_type": "markdown",
      "source": [
        "Вам дан список. Поменяйте местами первую и вторую половину списка."
      ],
      "metadata": {
        "id": "DCBX5mGMbYKO"
      }
    },
    {
      "cell_type": "code",
      "source": [
        "a = [1, 2, 3, 4, 5, 6]\n",
        "a = a[:len(a)/2] + a[len(a/2):]"
      ],
      "metadata": {
        "id": "EJPTuUJAbVHi"
      },
      "execution_count": null,
      "outputs": []
    },
    {
      "cell_type": "markdown",
      "source": [
        "Вам дан список. Поменяйте в нём местами блоки элементов: каждый нечётный со первого по пятый с начала с каждым чётный со второго по пятый с конца. "
      ],
      "metadata": {
        "id": "uBVE7ILhbdYj"
      }
    },
    {
      "cell_type": "code",
      "source": [
        "#a = []\n",
        "for i in range(1, 5):\n",
        "  if(a[i]%2 == 1) & (a[-i-1]%2 == 0):\n",
        "    b = a[i]\n",
        "    a[i] = a[-i-1]\n",
        "    a[-i-1] = b"
      ],
      "metadata": {
        "id": "8bgHZzbobdjm"
      },
      "execution_count": null,
      "outputs": []
    },
    {
      "cell_type": "markdown",
      "source": [
        "srez???"
      ],
      "metadata": {
        "id": "_KcGDqHS8PlG"
      }
    },
    {
      "cell_type": "markdown",
      "source": [
        "## Генераторы"
      ],
      "metadata": {
        "id": "Gl1KfvjTbiA_"
      }
    },
    {
      "cell_type": "markdown",
      "source": [
        "Вам дан список. Создайте новый список, в котором останутся только чётные элементы кратные трём. "
      ],
      "metadata": {
        "id": "rhEKi88SborL"
      }
    },
    {
      "cell_type": "code",
      "source": [
        "a = [1,2,3,4,5,6,7,8,9]\n",
        "a = [i for i in a if i%6 == 0]\n",
        "print(a)"
      ],
      "metadata": {
        "id": "Med_JeSDbnYD"
      },
      "execution_count": null,
      "outputs": []
    },
    {
      "cell_type": "markdown",
      "source": [
        "Вам дан список. Для него и ивертированного по порядку списка выведите пары (x, y) в новом списке."
      ],
      "metadata": {
        "id": "VwS1f2I_bkbw"
      }
    },
    {
      "cell_type": "code",
      "source": [
        "a = [1,2,3,4,5,6,7,8,9]\n",
        "b = [(a[i], a[-i - 1]) for i in range(0, len(a))]\n",
        "print(b)"
      ],
      "metadata": {
        "id": "oA0hEJBibrFi",
        "colab": {
          "base_uri": "https://localhost:8080/"
        },
        "outputId": "fe1a7f6f-6f8b-492d-a7c5-83996b71bf64"
      },
      "execution_count": 1,
      "outputs": [
        {
          "output_type": "stream",
          "name": "stdout",
          "text": [
            "[(1, 9), (2, 8), (3, 7), (4, 6), (5, 5), (6, 4), (7, 3), (8, 2), (9, 1)]\n"
          ]
        }
      ]
    },
    {
      "cell_type": "markdown",
      "source": [
        "## Встроенные функции"
      ],
      "metadata": {
        "id": "R3CZD0rPbsQ1"
      }
    },
    {
      "cell_type": "markdown",
      "source": [
        "Вам дана строка. Выведите сумму ascii-кодов элементов в строке. "
      ],
      "metadata": {
        "id": "WYWx-Y2xbvKj"
      }
    },
    {
      "cell_type": "code",
      "source": [
        "s = 'abacaba'\n",
        "res = sum([ord(c) for c in s])\n",
        "print(res)"
      ],
      "metadata": {
        "id": "OSEB4nUcbxu3"
      },
      "execution_count": null,
      "outputs": []
    },
    {
      "cell_type": "markdown",
      "source": [
        "Вам дана строка. Выведите строку, выведите пары (элемент строки, порядковый номер)."
      ],
      "metadata": {
        "id": "nK7ZcqS-byRF"
      }
    },
    {
      "cell_type": "code",
      "source": [
        "s = 'abacaba'\n",
        "print(s)\n",
        "res = [(s[i], i) for i in range(0, len(s))]\n",
        "print(res)"
      ],
      "metadata": {
        "id": "H13zQg2_b1be"
      },
      "execution_count": null,
      "outputs": []
    },
    {
      "cell_type": "markdown",
      "source": [
        "## NumPy"
      ],
      "metadata": {
        "id": "0k9-AEnkb5r0"
      }
    },
    {
      "cell_type": "markdown",
      "source": [
        "Дан массив 16х16\n",
        "Создайте новый массив 4х4 , элементы которого будут суммой блоков 4х4 исходного массива"
      ],
      "metadata": {
        "id": "UmlNzlQsb8NF"
      }
    },
    {
      "cell_type": "code",
      "source": [
        "import numpy as np\n",
        "#a = []\n",
        "b = np.zeros((4, 4))\n",
        "for i in range(0, 16):\n",
        "  b[i//4, i % 4] = a[(i//4) * 4:(i//4 + 1) * 4, (i % 4) * 4:(i % 4 + 1) * 4].sum()\n",
        "print(b)\n",
        "  "
      ],
      "metadata": {
        "id": "4gAPKfIVb_wz"
      },
      "execution_count": null,
      "outputs": []
    },
    {
      "cell_type": "markdown",
      "source": [
        "Дан массив, вставьте между каждым значением сумму соседних элементов"
      ],
      "metadata": {
        "id": "zJXbGiA_cIpW"
      }
    },
    {
      "cell_type": "code",
      "source": [
        "#a = np.array()\n",
        "b = np.zeros(2*len(a) - 1)\n",
        "for i in range(0, len(a) - 1):\n",
        "    b[2*i] = a[i]\n",
        "    b[2*i + 1] = a[i] + a[i + 1]\n",
        "b[-1] = a[-1]\n",
        "\n",
        "print(b)"
      ],
      "metadata": {
        "id": "1riZrqRnca01"
      },
      "execution_count": null,
      "outputs": []
    },
    {
      "cell_type": "markdown",
      "source": [
        "## Pandas"
      ],
      "metadata": {
        "id": "3lVqgJCMSho-"
      }
    },
    {
      "cell_type": "markdown",
      "source": [
        "https://www.kaggle.com/datasets/ishadss/productivity-prediction-of-garment-employees"
      ],
      "metadata": {
        "id": "qCt5tcUZZrnx"
      }
    },
    {
      "cell_type": "code",
      "source": [
        "import sys\n",
        "import numpy as np\n",
        "import pandas as pd\n",
        "import matplotlib.pyplot as plt\n",
        "import seaborn as sns\n",
        "\n",
        "df = pd.read_csv(\"garments_worker_productivity.csv\")\n",
        "#1\n",
        "res = {}\n",
        "for s in df.dtypes:\n",
        "    res[s] = 1\n",
        "print(res)\n",
        "#2\n",
        "print(df.isna().sum())\n",
        "#3\n",
        "sns.distplot(df['actual_productivity'], hist=True, kde=True,\n",
        "             bins=20, color = 'darkblue',\n",
        "             hist_kws={'edgecolor':'black'},\n",
        "             kde_kws={'linewidth': 4})\n",
        "plt.show()\n",
        "#4\n",
        "plt.figure(figsize=(12,10), dpi= 80)\n",
        "sns.heatmap(df.corr(), xticklabels=df.corr().columns, yticklabels=df.corr().columns, cmap='RdYlGn', center=0, annot=True)\n",
        "plt.title('ПростоHeatMap228', fontsize=22)\n",
        "plt.xticks(fontsize=12)\n",
        "plt.yticks(fontsize=12)\n",
        "plt.show()\n",
        "#5\n",
        "plt.figure(figsize=(10,8), dpi= 80)\n",
        "sns.pairplot(df)\n",
        "plt.show()\n",
        "\n",
        "#6\n",
        "\n",
        "df.plot(kind='box')\n",
        "plt.show()\n",
        "\n",
        "#7\n",
        "for s in df['quarter'].unique():\n",
        "    print(s)\n",
        "    print(df[df['quarter'] == s].mean(numeric_only=True), df[df['quarter'] == s].median(numeric_only=True),\n",
        "          df[df['quarter'] == s].max(numeric_only=True), df[df['quarter'] == s].min(numeric_only=True))\n",
        "#8\n",
        "\n",
        "df[\"Day\"] = df.apply(lambda x: x[\"date\"].split('/')[0], axis=1)\n",
        "df[\"Month\"] = df.apply(lambda x: x[\"date\"].split('/')[1], axis=1)\n",
        "df[\"Year\"] = df.apply(lambda x: x[\"date\"].split('/')[2], axis=1)\n",
        "df = pd.concat([df.iloc[:, -3:], df.iloc[:, 1 : -3]], axis=1)\n",
        "print(df)"
      ],
      "metadata": {
        "id": "5To8Swp8OrPT"
      },
      "execution_count": null,
      "outputs": []
    },
    {
      "cell_type": "markdown",
      "source": [
        "- Какие типы данных присутствуют в датасете?\n",
        "- Есть ли в датасете пропущенные значения? Если да, то сколько и где?\n",
        "- Постройте график распределения переменной `actual_productivity`.\n",
        "- Постройте heatmap для матрицы корреляции числовых переменных в датасете.\n",
        "- Постройте pairplot для всех переменных.\n",
        "- Постройте boxplot для всех переменных и выведете объекты которые являются выбросами (строки из датафрейма).\n",
        "- Посчитайте различные статестические показатели (среднее, медиана, максимум, минимум) для различных категорий в колонке `quarter` *(т.е. отдельно какие показатели у класса quarter1, какие у класса quarter2 и и т.д.)*.\n",
        "- Разделите колонку `date` на три: день, месяц, год."
      ],
      "metadata": {
        "id": "KUI17XWsSqLF"
      }
    }
  ]
}