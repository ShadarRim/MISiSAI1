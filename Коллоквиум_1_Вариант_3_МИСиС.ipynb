{
  "nbformat": 4,
  "nbformat_minor": 0,
  "metadata": {
    "colab": {
      "provenance": []
    },
    "kernelspec": {
      "name": "python3",
      "display_name": "Python 3"
    },
    "language_info": {
      "name": "python"
    }
  },
  "cells": [
    {
      "cell_type": "markdown",
      "source": [
        "## Списки"
      ],
      "metadata": {
        "id": "Yzk_yB7pbSMF"
      }
    },
    {
      "cell_type": "markdown",
      "source": [
        "Вам дан список. Поменяйте порядок следования каждого чётного элемента во второй половине списка. "
      ],
      "metadata": {
        "id": "DCBX5mGMbYKO"
      }
    },
    {
      "cell_type": "code",
      "source": [
        "# ваше решение"
      ],
      "metadata": {
        "id": "EJPTuUJAbVHi"
      },
      "execution_count": null,
      "outputs": []
    },
    {
      "cell_type": "markdown",
      "source": [
        "Вам дан список. Поменяйте в нём местами блоки элементов: каждый чётный со второго по пятый с каждым нечётым со второго по пятый с конца. "
      ],
      "metadata": {
        "id": "uBVE7ILhbdYj"
      }
    },
    {
      "cell_type": "code",
      "source": [
        "# ваше решение"
      ],
      "metadata": {
        "id": "8bgHZzbobdjm"
      },
      "execution_count": null,
      "outputs": []
    },
    {
      "cell_type": "markdown",
      "source": [
        "## Генераторы"
      ],
      "metadata": {
        "id": "Gl1KfvjTbiA_"
      }
    },
    {
      "cell_type": "markdown",
      "source": [
        "Вам дан список. Создайте новый список, в котором элементы будут уменьшены"
      ],
      "metadata": {
        "id": "rhEKi88SborL"
      }
    },
    {
      "cell_type": "code",
      "source": [
        "# ваше решение"
      ],
      "metadata": {
        "id": "Med_JeSDbnYD"
      },
      "execution_count": null,
      "outputs": []
    },
    {
      "cell_type": "markdown",
      "source": [
        "Вам дан список. Создайте новый список, в котором будут чётные элементы возведены в квадрат, а нечётные в куб."
      ],
      "metadata": {
        "id": "VwS1f2I_bkbw"
      }
    },
    {
      "cell_type": "code",
      "source": [
        "# ваше решение"
      ],
      "metadata": {
        "id": "oA0hEJBibrFi"
      },
      "execution_count": null,
      "outputs": []
    },
    {
      "cell_type": "markdown",
      "source": [
        "## Встроенные функции"
      ],
      "metadata": {
        "id": "R3CZD0rPbsQ1"
      }
    },
    {
      "cell_type": "markdown",
      "source": [
        "Вам дана строка. Выведите ascii-код минимального элемента в строке. "
      ],
      "metadata": {
        "id": "WYWx-Y2xbvKj"
      }
    },
    {
      "cell_type": "code",
      "source": [
        "# ваше решение"
      ],
      "metadata": {
        "id": "OSEB4nUcbxu3"
      },
      "execution_count": null,
      "outputs": []
    },
    {
      "cell_type": "markdown",
      "source": [
        "Вам дана строка. Выведите строку, символы которой будут смещены по ascii на порядковый номер элемента."
      ],
      "metadata": {
        "id": "nK7ZcqS-byRF"
      }
    },
    {
      "cell_type": "code",
      "source": [
        "# ваше решение"
      ],
      "metadata": {
        "id": "H13zQg2_b1be"
      },
      "execution_count": null,
      "outputs": []
    },
    {
      "cell_type": "markdown",
      "source": [
        "## NumPy"
      ],
      "metadata": {
        "id": "0k9-AEnkb5r0"
      }
    },
    {
      "cell_type": "markdown",
      "source": [
        "Дан массив 16х16\n",
        "Создайте новый массив 4х4 , элементы которого будут суммой блоков 4х4 исходного массива"
      ],
      "metadata": {
        "id": "UmlNzlQsb8NF"
      }
    },
    {
      "cell_type": "code",
      "source": [
        "# ваше решение"
      ],
      "metadata": {
        "id": "4gAPKfIVb_wz"
      },
      "execution_count": null,
      "outputs": []
    },
    {
      "cell_type": "markdown",
      "source": [
        "Даны линии и точка\n",
        "\n",
        "Расчитайте расстояние от точки до каждой прямой, найдите ближащую."
      ],
      "metadata": {
        "id": "zJXbGiA_cIpW"
      }
    },
    {
      "cell_type": "code",
      "source": [
        "# ваше решение"
      ],
      "metadata": {
        "id": "1riZrqRnca01"
      },
      "execution_count": null,
      "outputs": []
    },
    {
      "cell_type": "markdown",
      "source": [
        "## Pandas"
      ],
      "metadata": {
        "id": "3lVqgJCMSho-"
      }
    },
    {
      "cell_type": "markdown",
      "source": [
        "https://www.kaggle.com/datasets/blurredmachine/hackerearth-employee-attrition?select=Train.csv"
      ],
      "metadata": {
        "id": "qCt5tcUZZrnx"
      }
    },
    {
      "cell_type": "markdown",
      "source": [
        "- Какие типы данных присутствуют в датасете?\n",
        "- Есть ли в датасете пропущенные значения? Если да, то сколько и где?\n",
        "- Постройте распределения переменной `Attrition_rate`.\n",
        "- Постройте heatmap для матрицы корреляции числовых переменных в датасете.\n",
        "- Постройте pairplot для всех переменных\n",
        "- Постройте boxplot для всех переменных и выведете объекты которые являются выбросами (строки из датафрейма).\n",
        "- Посчитайте различные статестические показатели (среднее, медиана, максимум, минимум) для различных категорий в колонке `Relationship_Status` *(т.е. отдельно какие показатели у класса Marries, какие у класса Single)*.\n",
        "- Постройте гистаграмму для переменной `Unit` и найдите по ней самую популярную профессию.\n",
        "- Найдите сколько замужних/женатых людей у самой популярной профессии имеют `Attrition_rate` выше среднего."
      ],
      "metadata": {
        "id": "KUI17XWsSqLF"
      }
    }
  ]
}