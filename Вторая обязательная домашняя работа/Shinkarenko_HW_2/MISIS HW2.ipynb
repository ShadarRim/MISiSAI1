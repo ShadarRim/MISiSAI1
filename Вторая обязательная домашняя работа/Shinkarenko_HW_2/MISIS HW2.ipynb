{
 "cells": [
  {
   "cell_type": "markdown",
   "id": "e6b68115",
   "metadata": {},
   "source": [
    "# Домашняя работа Kaggle"
   ]
  },
  {
   "cell_type": "markdown",
   "id": "befd4322",
   "metadata": {},
   "source": [
    "## Импорт библиотек"
   ]
  },
  {
   "cell_type": "code",
   "execution_count": 1,
   "id": "2d870a1f",
   "metadata": {},
   "outputs": [],
   "source": [
    "# !pip install -q sweetviz"
   ]
  },
  {
   "cell_type": "code",
   "execution_count": 2,
   "id": "48e4001f",
   "metadata": {},
   "outputs": [],
   "source": [
    "import matplotlib.pyplot as plt\n",
    "import numpy as np\n",
    "import pandas as pd\n",
    "import seaborn as sns\n",
    "import sweetviz as sv\n",
    "\n",
    "from sklearn import linear_model\n",
    "from sklearn import metrics\n",
    "from sklearn import model_selection\n",
    "from sklearn.decomposition import PCA\n",
    "from sklearn.experimental import enable_iterative_imputer\n",
    "from sklearn.impute import IterativeImputer\n",
    "from sklearn.impute import KNNImputer\n",
    "from sklearn.impute import SimpleImputer\n",
    "from sklearn.preprocessing import MinMaxScaler\n",
    "from sklearn.preprocessing import PolynomialFeatures\n",
    "from sklearn.preprocessing import PowerTransformer\n",
    "from sklearn.preprocessing import QuantileTransformer\n",
    "from sklearn.preprocessing import SplineTransformer\n",
    "from sklearn.preprocessing import StandardScaler\n",
    "from catboost import CatBoostRegressor\n",
    "plt.style.use('ggplot')\n",
    "#to be continued...\n",
    "\n",
    "%matplotlib inline"
   ]
  },
  {
   "cell_type": "markdown",
   "id": "443cca9c",
   "metadata": {},
   "source": [
    "## Загрузим и посмотрим на данные"
   ]
  },
  {
   "cell_type": "code",
   "execution_count": 3,
   "id": "1933e838",
   "metadata": {},
   "outputs": [],
   "source": [
    "RANDOM_STATE = 42"
   ]
  },
  {
   "cell_type": "code",
   "execution_count": 4,
   "id": "b6bceafe",
   "metadata": {},
   "outputs": [],
   "source": [
    "train_df = pd.read_csv(\"Life_train.csv\")\n",
    "test_df = pd.read_csv(\"Life_test.csv\")"
   ]
  },
  {
   "cell_type": "code",
   "execution_count": 5,
   "id": "9a295e25",
   "metadata": {},
   "outputs": [
    {
     "data": {
      "text/html": [
       "<div>\n",
       "<style scoped>\n",
       "    .dataframe tbody tr th:only-of-type {\n",
       "        vertical-align: middle;\n",
       "    }\n",
       "\n",
       "    .dataframe tbody tr th {\n",
       "        vertical-align: top;\n",
       "    }\n",
       "\n",
       "    .dataframe thead th {\n",
       "        text-align: right;\n",
       "    }\n",
       "</style>\n",
       "<table border=\"1\" class=\"dataframe\">\n",
       "  <thead>\n",
       "    <tr style=\"text-align: right;\">\n",
       "      <th></th>\n",
       "      <th>Year</th>\n",
       "      <th>Life expectancy</th>\n",
       "      <th>Adult Mortality</th>\n",
       "      <th>infant deaths</th>\n",
       "      <th>Alcohol</th>\n",
       "      <th>percentage expenditure</th>\n",
       "      <th>Hepatitis B</th>\n",
       "      <th>Measles</th>\n",
       "      <th>BMI</th>\n",
       "      <th>under-five deaths</th>\n",
       "      <th>Polio</th>\n",
       "      <th>Total expenditure</th>\n",
       "      <th>Diphtheria</th>\n",
       "      <th>HIV/AIDS</th>\n",
       "      <th>GDP</th>\n",
       "      <th>Population</th>\n",
       "      <th>thinness  1-19 years</th>\n",
       "      <th>thinness 5-9 years</th>\n",
       "      <th>Income composition of resources</th>\n",
       "      <th>Schooling</th>\n",
       "    </tr>\n",
       "  </thead>\n",
       "  <tbody>\n",
       "    <tr>\n",
       "      <th>0</th>\n",
       "      <td>2014</td>\n",
       "      <td>59.9</td>\n",
       "      <td>271.0</td>\n",
       "      <td>64</td>\n",
       "      <td>0.01</td>\n",
       "      <td>73.523582</td>\n",
       "      <td>62.0</td>\n",
       "      <td>492</td>\n",
       "      <td>18.6</td>\n",
       "      <td>86</td>\n",
       "      <td>58.0</td>\n",
       "      <td>8.18</td>\n",
       "      <td>62.0</td>\n",
       "      <td>0.1</td>\n",
       "      <td>612.696514</td>\n",
       "      <td>327582.0</td>\n",
       "      <td>17.5</td>\n",
       "      <td>17.5</td>\n",
       "      <td>0.476</td>\n",
       "      <td>10.0</td>\n",
       "    </tr>\n",
       "    <tr>\n",
       "      <th>1</th>\n",
       "      <td>2013</td>\n",
       "      <td>59.9</td>\n",
       "      <td>268.0</td>\n",
       "      <td>66</td>\n",
       "      <td>0.01</td>\n",
       "      <td>73.219243</td>\n",
       "      <td>64.0</td>\n",
       "      <td>430</td>\n",
       "      <td>18.1</td>\n",
       "      <td>89</td>\n",
       "      <td>62.0</td>\n",
       "      <td>8.13</td>\n",
       "      <td>64.0</td>\n",
       "      <td>0.1</td>\n",
       "      <td>631.744976</td>\n",
       "      <td>31731688.0</td>\n",
       "      <td>17.7</td>\n",
       "      <td>17.7</td>\n",
       "      <td>0.470</td>\n",
       "      <td>9.9</td>\n",
       "    </tr>\n",
       "    <tr>\n",
       "      <th>2</th>\n",
       "      <td>2012</td>\n",
       "      <td>59.5</td>\n",
       "      <td>272.0</td>\n",
       "      <td>69</td>\n",
       "      <td>0.01</td>\n",
       "      <td>78.184215</td>\n",
       "      <td>67.0</td>\n",
       "      <td>2787</td>\n",
       "      <td>17.6</td>\n",
       "      <td>93</td>\n",
       "      <td>67.0</td>\n",
       "      <td>8.52</td>\n",
       "      <td>67.0</td>\n",
       "      <td>0.1</td>\n",
       "      <td>669.959000</td>\n",
       "      <td>3696958.0</td>\n",
       "      <td>17.9</td>\n",
       "      <td>18.0</td>\n",
       "      <td>0.463</td>\n",
       "      <td>9.8</td>\n",
       "    </tr>\n",
       "    <tr>\n",
       "      <th>3</th>\n",
       "      <td>2011</td>\n",
       "      <td>59.2</td>\n",
       "      <td>275.0</td>\n",
       "      <td>71</td>\n",
       "      <td>0.01</td>\n",
       "      <td>7.097109</td>\n",
       "      <td>68.0</td>\n",
       "      <td>3013</td>\n",
       "      <td>17.2</td>\n",
       "      <td>97</td>\n",
       "      <td>68.0</td>\n",
       "      <td>7.87</td>\n",
       "      <td>68.0</td>\n",
       "      <td>0.1</td>\n",
       "      <td>63.537231</td>\n",
       "      <td>2978599.0</td>\n",
       "      <td>18.2</td>\n",
       "      <td>18.2</td>\n",
       "      <td>0.454</td>\n",
       "      <td>9.5</td>\n",
       "    </tr>\n",
       "    <tr>\n",
       "      <th>4</th>\n",
       "      <td>2010</td>\n",
       "      <td>58.8</td>\n",
       "      <td>279.0</td>\n",
       "      <td>74</td>\n",
       "      <td>0.01</td>\n",
       "      <td>79.679367</td>\n",
       "      <td>66.0</td>\n",
       "      <td>1989</td>\n",
       "      <td>16.7</td>\n",
       "      <td>102</td>\n",
       "      <td>66.0</td>\n",
       "      <td>9.20</td>\n",
       "      <td>66.0</td>\n",
       "      <td>0.1</td>\n",
       "      <td>553.328940</td>\n",
       "      <td>2883167.0</td>\n",
       "      <td>18.4</td>\n",
       "      <td>18.4</td>\n",
       "      <td>0.448</td>\n",
       "      <td>9.2</td>\n",
       "    </tr>\n",
       "  </tbody>\n",
       "</table>\n",
       "</div>"
      ],
      "text/plain": [
       "   Year  Life expectancy   Adult Mortality  infant deaths  Alcohol  \\\n",
       "0  2014              59.9            271.0             64     0.01   \n",
       "1  2013              59.9            268.0             66     0.01   \n",
       "2  2012              59.5            272.0             69     0.01   \n",
       "3  2011              59.2            275.0             71     0.01   \n",
       "4  2010              58.8            279.0             74     0.01   \n",
       "\n",
       "   percentage expenditure  Hepatitis B  Measles    BMI   under-five deaths   \\\n",
       "0               73.523582         62.0       492   18.6                  86   \n",
       "1               73.219243         64.0       430   18.1                  89   \n",
       "2               78.184215         67.0      2787   17.6                  93   \n",
       "3                7.097109         68.0      3013   17.2                  97   \n",
       "4               79.679367         66.0      1989   16.7                 102   \n",
       "\n",
       "   Polio  Total expenditure  Diphtheria    HIV/AIDS         GDP  Population  \\\n",
       "0   58.0               8.18         62.0        0.1  612.696514    327582.0   \n",
       "1   62.0               8.13         64.0        0.1  631.744976  31731688.0   \n",
       "2   67.0               8.52         67.0        0.1  669.959000   3696958.0   \n",
       "3   68.0               7.87         68.0        0.1   63.537231   2978599.0   \n",
       "4   66.0               9.20         66.0        0.1  553.328940   2883167.0   \n",
       "\n",
       "    thinness  1-19 years   thinness 5-9 years  \\\n",
       "0                   17.5                 17.5   \n",
       "1                   17.7                 17.7   \n",
       "2                   17.9                 18.0   \n",
       "3                   18.2                 18.2   \n",
       "4                   18.4                 18.4   \n",
       "\n",
       "   Income composition of resources  Schooling  \n",
       "0                            0.476       10.0  \n",
       "1                            0.470        9.9  \n",
       "2                            0.463        9.8  \n",
       "3                            0.454        9.5  \n",
       "4                            0.448        9.2  "
      ]
     },
     "execution_count": 5,
     "metadata": {},
     "output_type": "execute_result"
    }
   ],
   "source": [
    "train_df.head()"
   ]
  },
  {
   "cell_type": "code",
   "execution_count": 6,
   "id": "70999a5b",
   "metadata": {},
   "outputs": [
    {
     "data": {
      "text/html": [
       "<div>\n",
       "<style scoped>\n",
       "    .dataframe tbody tr th:only-of-type {\n",
       "        vertical-align: middle;\n",
       "    }\n",
       "\n",
       "    .dataframe tbody tr th {\n",
       "        vertical-align: top;\n",
       "    }\n",
       "\n",
       "    .dataframe thead th {\n",
       "        text-align: right;\n",
       "    }\n",
       "</style>\n",
       "<table border=\"1\" class=\"dataframe\">\n",
       "  <thead>\n",
       "    <tr style=\"text-align: right;\">\n",
       "      <th></th>\n",
       "      <th>Year</th>\n",
       "      <th>Adult Mortality</th>\n",
       "      <th>infant deaths</th>\n",
       "      <th>Alcohol</th>\n",
       "      <th>percentage expenditure</th>\n",
       "      <th>Hepatitis B</th>\n",
       "      <th>Measles</th>\n",
       "      <th>BMI</th>\n",
       "      <th>under-five deaths</th>\n",
       "      <th>Polio</th>\n",
       "      <th>Total expenditure</th>\n",
       "      <th>Diphtheria</th>\n",
       "      <th>HIV/AIDS</th>\n",
       "      <th>GDP</th>\n",
       "      <th>Population</th>\n",
       "      <th>thinness  1-19 years</th>\n",
       "      <th>thinness 5-9 years</th>\n",
       "      <th>Income composition of resources</th>\n",
       "      <th>Schooling</th>\n",
       "    </tr>\n",
       "  </thead>\n",
       "  <tbody>\n",
       "    <tr>\n",
       "      <th>0</th>\n",
       "      <td>2005</td>\n",
       "      <td>116.0</td>\n",
       "      <td>0</td>\n",
       "      <td>11.59</td>\n",
       "      <td>167.231990</td>\n",
       "      <td>NaN</td>\n",
       "      <td>2</td>\n",
       "      <td>57.5</td>\n",
       "      <td>0</td>\n",
       "      <td>96.0</td>\n",
       "      <td>6.89</td>\n",
       "      <td>96.0</td>\n",
       "      <td>0.1</td>\n",
       "      <td>1224.245900</td>\n",
       "      <td>4442.0</td>\n",
       "      <td>1.8</td>\n",
       "      <td>1.8</td>\n",
       "      <td>0.777</td>\n",
       "      <td>13.6</td>\n",
       "    </tr>\n",
       "    <tr>\n",
       "      <th>1</th>\n",
       "      <td>2011</td>\n",
       "      <td>139.0</td>\n",
       "      <td>2</td>\n",
       "      <td>9.10</td>\n",
       "      <td>10.325889</td>\n",
       "      <td>96.0</td>\n",
       "      <td>4189</td>\n",
       "      <td>57.7</td>\n",
       "      <td>2</td>\n",
       "      <td>89.0</td>\n",
       "      <td>5.53</td>\n",
       "      <td>89.0</td>\n",
       "      <td>0.1</td>\n",
       "      <td>92.277825</td>\n",
       "      <td>2147528.0</td>\n",
       "      <td>2.9</td>\n",
       "      <td>3.1</td>\n",
       "      <td>0.798</td>\n",
       "      <td>15.7</td>\n",
       "    </tr>\n",
       "    <tr>\n",
       "      <th>2</th>\n",
       "      <td>2003</td>\n",
       "      <td>126.0</td>\n",
       "      <td>1</td>\n",
       "      <td>5.52</td>\n",
       "      <td>58.459760</td>\n",
       "      <td>98.0</td>\n",
       "      <td>0</td>\n",
       "      <td>48.6</td>\n",
       "      <td>2</td>\n",
       "      <td>95.0</td>\n",
       "      <td>7.60</td>\n",
       "      <td>98.0</td>\n",
       "      <td>0.1</td>\n",
       "      <td>4267.135780</td>\n",
       "      <td>329174.0</td>\n",
       "      <td>2.2</td>\n",
       "      <td>2.2</td>\n",
       "      <td>0.728</td>\n",
       "      <td>12.8</td>\n",
       "    </tr>\n",
       "    <tr>\n",
       "      <th>3</th>\n",
       "      <td>2008</td>\n",
       "      <td>295.0</td>\n",
       "      <td>237</td>\n",
       "      <td>2.09</td>\n",
       "      <td>0.000000</td>\n",
       "      <td>65.0</td>\n",
       "      <td>12461</td>\n",
       "      <td>18.2</td>\n",
       "      <td>324</td>\n",
       "      <td>64.0</td>\n",
       "      <td>4.46</td>\n",
       "      <td>65.0</td>\n",
       "      <td>1.8</td>\n",
       "      <td>NaN</td>\n",
       "      <td>NaN</td>\n",
       "      <td>1.8</td>\n",
       "      <td>1.7</td>\n",
       "      <td>NaN</td>\n",
       "      <td>NaN</td>\n",
       "    </tr>\n",
       "    <tr>\n",
       "      <th>4</th>\n",
       "      <td>2010</td>\n",
       "      <td>178.0</td>\n",
       "      <td>23</td>\n",
       "      <td>0.24</td>\n",
       "      <td>84.623025</td>\n",
       "      <td>82.0</td>\n",
       "      <td>190</td>\n",
       "      <td>16.4</td>\n",
       "      <td>30</td>\n",
       "      <td>83.0</td>\n",
       "      <td>6.43</td>\n",
       "      <td>82.0</td>\n",
       "      <td>0.2</td>\n",
       "      <td>592.183522</td>\n",
       "      <td>2723137.0</td>\n",
       "      <td>16.7</td>\n",
       "      <td>17.2</td>\n",
       "      <td>0.515</td>\n",
       "      <td>11.1</td>\n",
       "    </tr>\n",
       "  </tbody>\n",
       "</table>\n",
       "</div>"
      ],
      "text/plain": [
       "   Year  Adult Mortality  infant deaths  Alcohol  percentage expenditure  \\\n",
       "0  2005            116.0              0    11.59              167.231990   \n",
       "1  2011            139.0              2     9.10               10.325889   \n",
       "2  2003            126.0              1     5.52               58.459760   \n",
       "3  2008            295.0            237     2.09                0.000000   \n",
       "4  2010            178.0             23     0.24               84.623025   \n",
       "\n",
       "   Hepatitis B  Measles    BMI   under-five deaths   Polio  Total expenditure  \\\n",
       "0          NaN         2   57.5                   0   96.0               6.89   \n",
       "1         96.0      4189   57.7                   2   89.0               5.53   \n",
       "2         98.0         0   48.6                   2   95.0               7.60   \n",
       "3         65.0     12461   18.2                 324   64.0               4.46   \n",
       "4         82.0       190   16.4                  30   83.0               6.43   \n",
       "\n",
       "   Diphtheria    HIV/AIDS          GDP  Population   thinness  1-19 years  \\\n",
       "0         96.0        0.1  1224.245900      4442.0                    1.8   \n",
       "1         89.0        0.1    92.277825   2147528.0                    2.9   \n",
       "2         98.0        0.1  4267.135780    329174.0                    2.2   \n",
       "3         65.0        1.8          NaN         NaN                    1.8   \n",
       "4         82.0        0.2   592.183522   2723137.0                   16.7   \n",
       "\n",
       "    thinness 5-9 years  Income composition of resources  Schooling  \n",
       "0                  1.8                            0.777       13.6  \n",
       "1                  3.1                            0.798       15.7  \n",
       "2                  2.2                            0.728       12.8  \n",
       "3                  1.7                              NaN        NaN  \n",
       "4                 17.2                            0.515       11.1  "
      ]
     },
     "execution_count": 6,
     "metadata": {},
     "output_type": "execute_result"
    }
   ],
   "source": [
    "test_df.head()"
   ]
  },
  {
   "cell_type": "code",
   "execution_count": 7,
   "id": "0391206f",
   "metadata": {},
   "outputs": [
    {
     "name": "stdout",
     "output_type": "stream",
     "text": [
      "<class 'pandas.core.frame.DataFrame'>\n",
      "RangeIndex: 2489 entries, 0 to 2488\n",
      "Data columns (total 20 columns):\n",
      " #   Column                           Non-Null Count  Dtype  \n",
      "---  ------                           --------------  -----  \n",
      " 0   Year                             2489 non-null   int64  \n",
      " 1   Life expectancy                  2489 non-null   float64\n",
      " 2   Adult Mortality                  2489 non-null   float64\n",
      " 3   infant deaths                    2489 non-null   int64  \n",
      " 4   Alcohol                          2322 non-null   float64\n",
      " 5   percentage expenditure           2489 non-null   float64\n",
      " 6   Hepatitis B                      2009 non-null   float64\n",
      " 7   Measles                          2489 non-null   int64  \n",
      " 8    BMI                             2461 non-null   float64\n",
      " 9   under-five deaths                2489 non-null   int64  \n",
      " 10  Polio                            2471 non-null   float64\n",
      " 11  Total expenditure                2293 non-null   float64\n",
      " 12  Diphtheria                       2471 non-null   float64\n",
      " 13   HIV/AIDS                        2489 non-null   float64\n",
      " 14  GDP                              2103 non-null   float64\n",
      " 15  Population                       1935 non-null   float64\n",
      " 16   thinness  1-19 years            2461 non-null   float64\n",
      " 17   thinness 5-9 years              2461 non-null   float64\n",
      " 18  Income composition of resources  2343 non-null   float64\n",
      " 19  Schooling                        2343 non-null   float64\n",
      "dtypes: float64(16), int64(4)\n",
      "memory usage: 389.0 KB\n"
     ]
    }
   ],
   "source": [
    "train_df.info()"
   ]
  },
  {
   "cell_type": "code",
   "execution_count": 8,
   "id": "35466326",
   "metadata": {},
   "outputs": [
    {
     "data": {
      "text/plain": [
       "Index(['Year', 'Life expectancy ', 'Adult Mortality', 'infant deaths',\n",
       "       'Alcohol', 'percentage expenditure', 'Hepatitis B', 'Measles ', ' BMI ',\n",
       "       'under-five deaths ', 'Polio', 'Total expenditure', 'Diphtheria ',\n",
       "       ' HIV/AIDS', 'GDP', 'Population', ' thinness  1-19 years',\n",
       "       ' thinness 5-9 years', 'Income composition of resources', 'Schooling'],\n",
       "      dtype='object')"
      ]
     },
     "execution_count": 8,
     "metadata": {},
     "output_type": "execute_result"
    }
   ],
   "source": [
    "train_df.columns"
   ]
  },
  {
   "cell_type": "code",
   "execution_count": 9,
   "id": "5bc11e6d",
   "metadata": {},
   "outputs": [
    {
     "data": {
      "text/plain": [
       "Index(['Year', 'Adult Mortality', 'infant deaths', 'Alcohol',\n",
       "       'percentage expenditure', 'Hepatitis B', 'Measles ', ' BMI ',\n",
       "       'under-five deaths ', 'Polio', 'Total expenditure', 'Diphtheria ',\n",
       "       ' HIV/AIDS', 'GDP', 'Population', ' thinness  1-19 years',\n",
       "       ' thinness 5-9 years', 'Income composition of resources', 'Schooling'],\n",
       "      dtype='object')"
      ]
     },
     "execution_count": 9,
     "metadata": {},
     "output_type": "execute_result"
    }
   ],
   "source": [
    "test_df.columns"
   ]
  },
  {
   "cell_type": "markdown",
   "id": "53841229",
   "metadata": {},
   "source": [
    "В названиях колонок есть лишние пробелы, уберем их, также переименуем некоторые колонки"
   ]
  },
  {
   "cell_type": "code",
   "execution_count": 10,
   "id": "6339c7fc",
   "metadata": {},
   "outputs": [],
   "source": [
    "train_df.columns = [\n",
    "    'Year',\n",
    "    'Life expectancy',\n",
    "    'Adult Mortality',\n",
    "    'infant deaths',\n",
    "    'Alcohol',\n",
    "    'percentage expenditure',\n",
    "    'Hepatitis B',\n",
    "    'Measles',\n",
    "    'BMI',\n",
    "    'under-five deaths',\n",
    "    'Polio',\n",
    "    'Total expenditure',\n",
    "    'Diphtheria',\n",
    "    'HIV/AIDS',\n",
    "    'GDP',\n",
    "    'Population',\n",
    "    'thinness  1-19',\n",
    "    'thinness 5-9',\n",
    "    'Income composition',\n",
    "    'Schooling',\n",
    "]"
   ]
  },
  {
   "cell_type": "code",
   "execution_count": 11,
   "id": "ac88b7ea",
   "metadata": {},
   "outputs": [],
   "source": [
    "test_df.columns = [\n",
    "    'Year',\n",
    "    'Adult Mortality',\n",
    "    'infant deaths',\n",
    "    'Alcohol',\n",
    "    'percentage expenditure',\n",
    "    'Hepatitis B',\n",
    "    'Measles',\n",
    "    'BMI',\n",
    "    'under-five deaths',\n",
    "    'Polio',\n",
    "    'Total expenditure',\n",
    "    'Diphtheria',\n",
    "    'HIV/AIDS',\n",
    "    'GDP',\n",
    "    'Population',\n",
    "    'thinness  1-19',\n",
    "    'thinness 5-9',\n",
    "    'Income composition',\n",
    "    'Schooling',\n",
    "]"
   ]
  },
  {
   "cell_type": "markdown",
   "id": "3a1330ff",
   "metadata": {},
   "source": [
    "Посмотрим на пропущенные значения в данных"
   ]
  },
  {
   "cell_type": "code",
   "execution_count": 12,
   "id": "90299d54",
   "metadata": {},
   "outputs": [
    {
     "data": {
      "image/png": "[encoded data removed]",
      "text/plain": [
       "<Figure size 432x288 with 2 Axes>"
      ]
     },
     "metadata": {
      "needs_background": "light"
     },
     "output_type": "display_data"
    }
   ],
   "source": [
    "sns.heatmap(train_df.isna());"
   ]
  },
  {
   "cell_type": "code",
   "execution_count": 13,
   "id": "8a109707",
   "metadata": {},
   "outputs": [
    {
     "data": {
      "image/png": "[encoded data removed]",
      "text/plain": [
       "<Figure size 432x288 with 2 Axes>"
      ]
     },
     "metadata": {
      "needs_background": "light"
     },
     "output_type": "display_data"
    }
   ],
   "source": [
    "sns.heatmap(test_df.isna());"
   ]
  },
  {
   "cell_type": "code",
   "execution_count": 14,
   "id": "a699ec0d",
   "metadata": {
    "scrolled": true
   },
   "outputs": [
    {
     "data": {
      "text/plain": [
       "Year                        0\n",
       "Life expectancy             0\n",
       "Adult Mortality             0\n",
       "infant deaths               0\n",
       "Alcohol                   167\n",
       "percentage expenditure      0\n",
       "Hepatitis B               480\n",
       "Measles                     0\n",
       "BMI                        28\n",
       "under-five deaths           0\n",
       "Polio                      18\n",
       "Total expenditure         196\n",
       "Diphtheria                 18\n",
       "HIV/AIDS                    0\n",
       "GDP                       386\n",
       "Population                554\n",
       "thinness  1-19             28\n",
       "thinness 5-9               28\n",
       "Income composition        146\n",
       "Schooling                 146\n",
       "dtype: int64"
      ]
     },
     "execution_count": 14,
     "metadata": {},
     "output_type": "execute_result"
    }
   ],
   "source": [
    "train_df.isna().sum()"
   ]
  },
  {
   "cell_type": "code",
   "execution_count": 15,
   "id": "b84a4c1b",
   "metadata": {
    "scrolled": false
   },
   "outputs": [],
   "source": [
    "# report = sv.analyze(train_df)\n",
    "# report.show_notebook(w=\"100%\", h=\"full\")"
   ]
  },
  {
   "cell_type": "code",
   "execution_count": 16,
   "id": "a40b73a8",
   "metadata": {},
   "outputs": [
    {
     "data": {
      "text/plain": [
       "Index(['Alcohol', 'Hepatitis B', 'BMI', 'Polio', 'Total expenditure',\n",
       "       'Diphtheria', 'GDP', 'Population', 'thinness  1-19', 'thinness 5-9',\n",
       "       'Income composition', 'Schooling'],\n",
       "      dtype='object')"
      ]
     },
     "execution_count": 16,
     "metadata": {},
     "output_type": "execute_result"
    }
   ],
   "source": [
    "train_df.columns[train_df.isnull().any()]"
   ]
  },
  {
   "cell_type": "code",
   "execution_count": 17,
   "id": "790baf54",
   "metadata": {},
   "outputs": [
    {
     "data": {
      "text/plain": [
       "Index(['Alcohol', 'Hepatitis B', 'BMI', 'Polio', 'Total expenditure',\n",
       "       'Diphtheria', 'GDP', 'Population', 'thinness  1-19', 'thinness 5-9',\n",
       "       'Income composition', 'Schooling'],\n",
       "      dtype='object')"
      ]
     },
     "execution_count": 17,
     "metadata": {},
     "output_type": "execute_result"
    }
   ],
   "source": [
    "test_df.columns[test_df.isnull().any()]"
   ]
  },
  {
   "cell_type": "markdown",
   "id": "c0569ac4",
   "metadata": {},
   "source": [
    "Из отчета видим, что все колонки - числовые, также для нескольких признаков высокий процент пропущенных значений\n",
    "Признаки, для которых присутствуют пропущенные значения:\n",
    " - ```Alcohol```\n",
    " -```Hepatitis B```\n",
    " -```BMI```\n",
    " -```Polio```\n",
    " -```Total expenditure```\n",
    " -```Diphtheria```\n",
    " -```GDP```\n",
    " -```Population```\n",
    " -```thinness  1-19```\n",
    " -```thinness 5-9```\n",
    " -```Income composition```\n",
    " -```Schooling```"
   ]
  },
  {
   "cell_type": "markdown",
   "id": "f8d1d235",
   "metadata": {},
   "source": [
    "Построим матрицу корреляции"
   ]
  },
  {
   "cell_type": "code",
   "execution_count": 18,
   "id": "9801af8b",
   "metadata": {
    "scrolled": false
   },
   "outputs": [
    {
     "data": {
      "image/png": "[encoded data removed]",
      "text/plain": [
       "<Figure size 1008x1008 with 2 Axes>"
      ]
     },
     "metadata": {
      "needs_background": "light"
     },
     "output_type": "display_data"
    }
   ],
   "source": [
    "fig, ax = plt.subplots(figsize=(14, 14))\n",
    "sns.heatmap(train_df.corr(), annot=True, vmin=-1, vmax=1,)\n",
    "plt.title(\"Corr matrix\");"
   ]
  },
  {
   "cell_type": "markdown",
   "id": "cf35e31d",
   "metadata": {},
   "source": [
    "## Обработка данных и обучение линейной регрессии"
   ]
  },
  {
   "cell_type": "code",
   "execution_count": 19,
   "id": "e59801e6",
   "metadata": {},
   "outputs": [],
   "source": [
    "def train_regression(X_train, X_val, y_train, y_val):\n",
    "    model = linear_model.LinearRegression()\n",
    "    model.fit(X_train, y_train)\n",
    "    pred = model.predict(X_val)\n",
    "    print(f\"MSE Score: {metrics.mean_squared_error(y_val, pred)}\")\n",
    "    print(f\"MAE Score: {metrics.mean_absolute_error(y_val, pred)}\")\n",
    "    print(f\"R2 Score: {metrics.r2_score(y_val, pred)}\")"
   ]
  },
  {
   "cell_type": "markdown",
   "id": "1312078d",
   "metadata": {},
   "source": [
    "### Как поступить с пропущенными значениями и выжить в неидеальном мире"
   ]
  },
  {
   "cell_type": "markdown",
   "id": "77d9ae7f",
   "metadata": {},
   "source": [
    "Попробуем несколько стратегий обработки пропущенных значений"
   ]
  },
  {
   "cell_type": "markdown",
   "id": "8fdf98ce",
   "metadata": {},
   "source": [
    "#### Удалим пропущенные значения"
   ]
  },
  {
   "cell_type": "code",
   "execution_count": 20,
   "id": "db462bdf",
   "metadata": {},
   "outputs": [],
   "source": [
    "train_df_dropped = train_df.dropna().copy()\n",
    "std = StandardScaler()\n",
    "X = std.fit_transform(train_df_dropped.drop(columns=[\"Life expectancy\"]).copy())\n",
    "y = train_df_dropped[\"Life expectancy\"].copy()"
   ]
  },
  {
   "cell_type": "code",
   "execution_count": 21,
   "id": "9a61cae7",
   "metadata": {},
   "outputs": [
    {
     "name": "stdout",
     "output_type": "stream",
     "text": [
      "2489 1387\n"
     ]
    }
   ],
   "source": [
    "print(train_df.shape[0], X.shape[0])"
   ]
  },
  {
   "cell_type": "markdown",
   "id": "95507909",
   "metadata": {},
   "source": [
    "Как мы видим, удалилась почти половина данных, что не есть хорошо"
   ]
  },
  {
   "cell_type": "code",
   "execution_count": 22,
   "id": "8fb6d59f",
   "metadata": {},
   "outputs": [
    {
     "name": "stdout",
     "output_type": "stream",
     "text": [
      "MSE Score: 13.322859822764807\n",
      "MAE Score: 2.7606225065896015\n",
      "R2 Score: 0.8247553128990479\n"
     ]
    }
   ],
   "source": [
    "X_train, X_val, y_train, y_val = model_selection.train_test_split(X, y, test_size=0.3, random_state=RANDOM_STATE)\n",
    "\n",
    "train_regression(X_train, X_val, y_train, y_val)"
   ]
  },
  {
   "cell_type": "markdown",
   "id": "30f6c3a4",
   "metadata": {},
   "source": [
    "#### Заполним пропущенные значения средним"
   ]
  },
  {
   "cell_type": "code",
   "execution_count": 23,
   "id": "4d044ad9",
   "metadata": {},
   "outputs": [],
   "source": [
    "imputer = SimpleImputer(missing_values=np.nan, strategy='mean')\n",
    "train_df_mean = pd.DataFrame(imputer.fit_transform(train_df))\n",
    "train_df_mean.columns = train_df.columns\n",
    "train_df_mean.index = train_df.index\n",
    "\n",
    "X = std.fit_transform(train_df_mean.drop(columns=['Life expectancy']))\n",
    "y = train_df_mean['Life expectancy']"
   ]
  },
  {
   "cell_type": "code",
   "execution_count": 24,
   "id": "0766c310",
   "metadata": {},
   "outputs": [
    {
     "name": "stdout",
     "output_type": "stream",
     "text": [
      "MSE Score: 17.494565148641396\n",
      "MAE Score: 3.1359693147967214\n",
      "R2 Score: 0.8143708149886068\n"
     ]
    }
   ],
   "source": [
    "X_train, X_val, y_train, y_val = model_selection.train_test_split(X, y, test_size=0.3, random_state=RANDOM_STATE)\n",
    "train_regression(X_train, X_val, y_train, y_val)"
   ]
  },
  {
   "cell_type": "code",
   "execution_count": 25,
   "id": "5430fd64",
   "metadata": {},
   "outputs": [],
   "source": [
    "df1 = train_df.drop('Life expectancy', axis=1)"
   ]
  },
  {
   "cell_type": "markdown",
   "id": "7ad3369f",
   "metadata": {},
   "source": [
    "#### Линейная интерполяция"
   ]
  },
  {
   "cell_type": "code",
   "execution_count": 26,
   "id": "b9e409fb",
   "metadata": {},
   "outputs": [],
   "source": [
    "train_df_inter = train_df.interpolate(method='linear', limit_direction='forward')\n",
    "test_df_inter = test_df.interpolate(method='linear', limit_direction='forward')"
   ]
  },
  {
   "cell_type": "code",
   "execution_count": 27,
   "id": "7fb7abeb",
   "metadata": {},
   "outputs": [],
   "source": [
    "X = std.fit_transform(train_df_inter.drop(columns=['Life expectancy']))\n",
    "y = train_df_inter['Life expectancy']"
   ]
  },
  {
   "cell_type": "code",
   "execution_count": 28,
   "id": "b4193ccc",
   "metadata": {},
   "outputs": [
    {
     "name": "stdout",
     "output_type": "stream",
     "text": [
      "MSE Score: 18.00315270776096\n",
      "MAE Score: 3.17328787960695\n",
      "R2 Score: 0.8089743565282699\n"
     ]
    }
   ],
   "source": [
    "X_train, X_val, y_train, y_val = model_selection.train_test_split(X, y, test_size=0.3, random_state=RANDOM_STATE)\n",
    "train_regression(X_train, X_val, y_train, y_val)"
   ]
  },
  {
   "cell_type": "markdown",
   "id": "80c5355c",
   "metadata": {},
   "source": [
    "#### KNN Imputer"
   ]
  },
  {
   "cell_type": "code",
   "execution_count": 29,
   "id": "123d9848",
   "metadata": {},
   "outputs": [],
   "source": [
    "imputer = KNNImputer(n_neighbors=5, weights='uniform')\n",
    "train_df_mean = pd.DataFrame(imputer.fit_transform(train_df))\n",
    "test_df_mean = pd.DataFrame(imputer.fit_transform(test_df))\n",
    "test_df_mean.columns = test_df.columns\n",
    "test_df_mean.index = test_df.index\n",
    "train_df_mean.columns = train_df.columns\n",
    "train_df_mean.index = train_df.index\n",
    "\n",
    "X = std.fit_transform(train_df_mean.drop(columns=['Life expectancy']))\n",
    "y = train_df_mean['Life expectancy']"
   ]
  },
  {
   "cell_type": "code",
   "execution_count": 30,
   "id": "6a0a8e8a",
   "metadata": {},
   "outputs": [
    {
     "name": "stdout",
     "output_type": "stream",
     "text": [
      "MSE Score: 16.55013421976327\n",
      "MAE Score: 3.046890478628558\n",
      "R2 Score: 0.8243918667917043\n"
     ]
    }
   ],
   "source": [
    "X_train, X_val, y_train, y_val = model_selection.train_test_split(X, y, test_size=0.3, random_state=RANDOM_STATE)\n",
    "train_regression(X_train, X_val, y_train, y_val)"
   ]
  },
  {
   "cell_type": "code",
   "execution_count": 31,
   "id": "cfa128ef",
   "metadata": {},
   "outputs": [],
   "source": [
    "model = linear_model.LinearRegression()\n",
    "model.fit(X, y)\n",
    "pred = model.predict(std.transform(test_df_mean))\n",
    "submission = pd.DataFrame({\"index\": test_df.index, \"Life expectancy\": pred})"
   ]
  },
  {
   "cell_type": "code",
   "execution_count": 32,
   "id": "abf26d17",
   "metadata": {},
   "outputs": [
    {
     "name": "stdout",
     "output_type": "stream",
     "text": [
      "[0.82183953 0.82145534 0.80715632 0.7277971  0.82457705]\n"
     ]
    }
   ],
   "source": [
    "print(model_selection.cross_val_score(model, X, y, cv=5))"
   ]
  },
  {
   "cell_type": "code",
   "execution_count": 33,
   "id": "ff008f9f",
   "metadata": {},
   "outputs": [],
   "source": [
    "df1 = train_df_mean.drop('Life expectancy', axis=1)"
   ]
  },
  {
   "cell_type": "code",
   "execution_count": 34,
   "id": "cc7f2f77",
   "metadata": {},
   "outputs": [
    {
     "data": {
      "text/html": [
       "<div>\n",
       "<style scoped>\n",
       "    .dataframe tbody tr th:only-of-type {\n",
       "        vertical-align: middle;\n",
       "    }\n",
       "\n",
       "    .dataframe tbody tr th {\n",
       "        vertical-align: top;\n",
       "    }\n",
       "\n",
       "    .dataframe thead th {\n",
       "        text-align: right;\n",
       "    }\n",
       "</style>\n",
       "<table border=\"1\" class=\"dataframe\">\n",
       "  <thead>\n",
       "    <tr style=\"text-align: right;\">\n",
       "      <th></th>\n",
       "      <th>Columns</th>\n",
       "      <th>Coefficients</th>\n",
       "    </tr>\n",
       "  </thead>\n",
       "  <tbody>\n",
       "    <tr>\n",
       "      <th>0</th>\n",
       "      <td>Year</td>\n",
       "      <td>-0.108442</td>\n",
       "    </tr>\n",
       "    <tr>\n",
       "      <th>1</th>\n",
       "      <td>Adult Mortality</td>\n",
       "      <td>-2.276933</td>\n",
       "    </tr>\n",
       "    <tr>\n",
       "      <th>2</th>\n",
       "      <td>infant deaths</td>\n",
       "      <td>12.019639</td>\n",
       "    </tr>\n",
       "    <tr>\n",
       "      <th>3</th>\n",
       "      <td>Alcohol</td>\n",
       "      <td>0.371541</td>\n",
       "    </tr>\n",
       "    <tr>\n",
       "      <th>4</th>\n",
       "      <td>percentage expenditure</td>\n",
       "      <td>0.130025</td>\n",
       "    </tr>\n",
       "    <tr>\n",
       "      <th>5</th>\n",
       "      <td>Hepatitis B</td>\n",
       "      <td>-0.183344</td>\n",
       "    </tr>\n",
       "    <tr>\n",
       "      <th>6</th>\n",
       "      <td>Measles</td>\n",
       "      <td>-0.171889</td>\n",
       "    </tr>\n",
       "    <tr>\n",
       "      <th>7</th>\n",
       "      <td>BMI</td>\n",
       "      <td>0.724996</td>\n",
       "    </tr>\n",
       "    <tr>\n",
       "      <th>8</th>\n",
       "      <td>under-five deaths</td>\n",
       "      <td>-12.159002</td>\n",
       "    </tr>\n",
       "    <tr>\n",
       "      <th>9</th>\n",
       "      <td>Polio</td>\n",
       "      <td>0.600339</td>\n",
       "    </tr>\n",
       "    <tr>\n",
       "      <th>10</th>\n",
       "      <td>Total expenditure</td>\n",
       "      <td>0.169779</td>\n",
       "    </tr>\n",
       "    <tr>\n",
       "      <th>11</th>\n",
       "      <td>Diphtheria</td>\n",
       "      <td>0.840870</td>\n",
       "    </tr>\n",
       "    <tr>\n",
       "      <th>12</th>\n",
       "      <td>HIV/AIDS</td>\n",
       "      <td>-2.512517</td>\n",
       "    </tr>\n",
       "    <tr>\n",
       "      <th>13</th>\n",
       "      <td>GDP</td>\n",
       "      <td>0.607734</td>\n",
       "    </tr>\n",
       "    <tr>\n",
       "      <th>14</th>\n",
       "      <td>Population</td>\n",
       "      <td>-0.101719</td>\n",
       "    </tr>\n",
       "    <tr>\n",
       "      <th>15</th>\n",
       "      <td>thinness  1-19</td>\n",
       "      <td>-0.210991</td>\n",
       "    </tr>\n",
       "    <tr>\n",
       "      <th>16</th>\n",
       "      <td>thinness 5-9</td>\n",
       "      <td>-0.184143</td>\n",
       "    </tr>\n",
       "    <tr>\n",
       "      <th>17</th>\n",
       "      <td>Income composition</td>\n",
       "      <td>1.425924</td>\n",
       "    </tr>\n",
       "    <tr>\n",
       "      <th>18</th>\n",
       "      <td>Schooling</td>\n",
       "      <td>2.507202</td>\n",
       "    </tr>\n",
       "  </tbody>\n",
       "</table>\n",
       "</div>"
      ],
      "text/plain": [
       "                   Columns  Coefficients\n",
       "0                     Year     -0.108442\n",
       "1          Adult Mortality     -2.276933\n",
       "2            infant deaths     12.019639\n",
       "3                  Alcohol      0.371541\n",
       "4   percentage expenditure      0.130025\n",
       "5              Hepatitis B     -0.183344\n",
       "6                  Measles     -0.171889\n",
       "7                      BMI      0.724996\n",
       "8        under-five deaths    -12.159002\n",
       "9                    Polio      0.600339\n",
       "10       Total expenditure      0.169779\n",
       "11              Diphtheria      0.840870\n",
       "12                HIV/AIDS     -2.512517\n",
       "13                     GDP      0.607734\n",
       "14              Population     -0.101719\n",
       "15          thinness  1-19     -0.210991\n",
       "16            thinness 5-9     -0.184143\n",
       "17      Income composition      1.425924\n",
       "18               Schooling      2.507202"
      ]
     },
     "execution_count": 34,
     "metadata": {},
     "output_type": "execute_result"
    }
   ],
   "source": [
    "pd.DataFrame({\"Columns\": df1.columns, \"Coefficients\": model.coef_})"
   ]
  },
  {
   "cell_type": "code",
   "execution_count": 35,
   "id": "d70e9a43",
   "metadata": {},
   "outputs": [
    {
     "data": {
      "text/html": [
       "<div>\n",
       "<style scoped>\n",
       "    .dataframe tbody tr th:only-of-type {\n",
       "        vertical-align: middle;\n",
       "    }\n",
       "\n",
       "    .dataframe tbody tr th {\n",
       "        vertical-align: top;\n",
       "    }\n",
       "\n",
       "    .dataframe thead th {\n",
       "        text-align: right;\n",
       "    }\n",
       "</style>\n",
       "<table border=\"1\" class=\"dataframe\">\n",
       "  <thead>\n",
       "    <tr style=\"text-align: right;\">\n",
       "      <th></th>\n",
       "      <th>index</th>\n",
       "      <th>Life expectancy</th>\n",
       "    </tr>\n",
       "  </thead>\n",
       "  <tbody>\n",
       "    <tr>\n",
       "      <th>0</th>\n",
       "      <td>0</td>\n",
       "      <td>75.545937</td>\n",
       "    </tr>\n",
       "    <tr>\n",
       "      <th>1</th>\n",
       "      <td>1</td>\n",
       "      <td>75.755243</td>\n",
       "    </tr>\n",
       "    <tr>\n",
       "      <th>2</th>\n",
       "      <td>2</td>\n",
       "      <td>73.698891</td>\n",
       "    </tr>\n",
       "    <tr>\n",
       "      <th>3</th>\n",
       "      <td>3</td>\n",
       "      <td>62.551374</td>\n",
       "    </tr>\n",
       "    <tr>\n",
       "      <th>4</th>\n",
       "      <td>4</td>\n",
       "      <td>65.957367</td>\n",
       "    </tr>\n",
       "  </tbody>\n",
       "</table>\n",
       "</div>"
      ],
      "text/plain": [
       "   index  Life expectancy\n",
       "0      0        75.545937\n",
       "1      1        75.755243\n",
       "2      2        73.698891\n",
       "3      3        62.551374\n",
       "4      4        65.957367"
      ]
     },
     "execution_count": 35,
     "metadata": {},
     "output_type": "execute_result"
    }
   ],
   "source": [
    "submission.head()"
   ]
  },
  {
   "cell_type": "code",
   "execution_count": 36,
   "id": "d284942e",
   "metadata": {},
   "outputs": [],
   "source": [
    "submission.to_csv(\"test_submission.csv\", index=False)"
   ]
  },
  {
   "cell_type": "code",
   "execution_count": 37,
   "id": "766435e0",
   "metadata": {},
   "outputs": [],
   "source": [
    "imputer = IterativeImputer(max_iter=30, random_state=RANDOM_STATE)\n",
    "train_df_mean = pd.DataFrame(imputer.fit_transform(train_df))\n",
    "test_df_mean = pd.DataFrame(imputer.fit_transform(test_df))\n",
    "test_df_mean.columns = test_df.columns\n",
    "test_df_mean.index = test_df.index\n",
    "train_df_mean.columns = train_df.columns\n",
    "train_df_mean.index = train_df.index\n",
    "\n",
    "X = std.fit_transform(train_df_mean.drop(columns=['Life expectancy']))\n",
    "y = train_df_mean['Life expectancy']\n",
    "poly = PolynomialFeatures(2)\n",
    "X = poly.fit_transform(X)\n",
    "test_df_mean = poly.transform(std.transform(test_df_mean))"
   ]
  },
  {
   "cell_type": "code",
   "execution_count": 38,
   "id": "5c1af97d",
   "metadata": {},
   "outputs": [
    {
     "name": "stdout",
     "output_type": "stream",
     "text": [
      "MSE Score: 14.246586903774622\n",
      "MAE Score: 2.2606696234938037\n",
      "R2 Score: 0.8488340639694582\n"
     ]
    }
   ],
   "source": [
    "X_train, X_val, y_train, y_val = model_selection.train_test_split(X, y, test_size=0.3, random_state=RANDOM_STATE)\n",
    "train_regression(X_train, X_val, y_train, y_val)"
   ]
  },
  {
   "cell_type": "code",
   "execution_count": 39,
   "id": "638087b5",
   "metadata": {},
   "outputs": [],
   "source": [
    "model = linear_model.LinearRegression()\n",
    "model.fit(X, y)\n",
    "pred = model.predict(test_df_mean)\n",
    "submission = pd.DataFrame({\"index\": test_df.index, \"Life expectancy\": pred})"
   ]
  },
  {
   "cell_type": "code",
   "execution_count": 40,
   "id": "e4827927",
   "metadata": {},
   "outputs": [
    {
     "name": "stdout",
     "output_type": "stream",
     "text": [
      "[ 0.89938354  0.86884348 -7.39250363  0.50173037  0.76974004]\n"
     ]
    }
   ],
   "source": [
    "print(model_selection.cross_val_score(model, X, y, cv=5))"
   ]
  },
  {
   "cell_type": "code",
   "execution_count": 42,
   "id": "2c05771d",
   "metadata": {},
   "outputs": [],
   "source": [
    "submission.to_csv(\"submission_with_poly.csv\", index=False)\n"
   ]
  },
  {
   "cell_type": "markdown",
   "id": "7d83b36b",
   "metadata": {},
   "source": [
    "### Поработаем с признаками"
   ]
  },
  {
   "cell_type": "code",
   "execution_count": 43,
   "id": "0b99fe1c",
   "metadata": {},
   "outputs": [],
   "source": [
    "imputer = IterativeImputer(max_iter=5, random_state=RANDOM_STATE)\n",
    "train_df_itr = pd.DataFrame(imputer.fit_transform(train_df))\n",
    "test_df_itr = pd.DataFrame(imputer.fit_transform(test_df))\n",
    "test_df_itr.columns = test_df.columns\n",
    "test_df_itr.index = test_df.index\n",
    "train_df_itr.columns = train_df.columns\n",
    "train_df_itr.index = train_df.index"
   ]
  },
  {
   "cell_type": "code",
   "execution_count": 44,
   "id": "b34936f8",
   "metadata": {},
   "outputs": [],
   "source": [
    "scaler = PowerTransformer()\n",
    "X = train_df_itr.drop('Life expectancy', axis=1)\n",
    "y = train_df_itr['Life expectancy']\n",
    "X = scaler.fit_transform(X)\n",
    "test_df_itr = scaler.transform(test_df_itr)\n",
    "poly = PolynomialFeatures(2)\n",
    "X = poly.fit_transform(X)\n",
    "test_df_itr = poly.transform(test_df_itr)"
   ]
  },
  {
   "cell_type": "code",
   "execution_count": 45,
   "id": "2ccf43a0",
   "metadata": {},
   "outputs": [
    {
     "name": "stdout",
     "output_type": "stream",
     "text": [
      "MSE Score: 6.8796766064834145\n",
      "MAE Score: 1.905527929364917\n",
      "R2 Score: 0.9270019717121898\n"
     ]
    }
   ],
   "source": [
    "X_train, X_val, y_train, y_val = model_selection.train_test_split(X, y, test_size=0.3, random_state=RANDOM_STATE)\n",
    "train_regression(X_train, X_val, y_train, y_val)"
   ]
  },
  {
   "cell_type": "code",
   "execution_count": 46,
   "id": "9df7ef85",
   "metadata": {},
   "outputs": [],
   "source": [
    "model = linear_model.LinearRegression()\n",
    "model.fit(X, y)\n",
    "pred = model.predict(test_df_itr)\n",
    "submission = pd.DataFrame({\"index\": test_df.index, \"Life expectancy\": pred})"
   ]
  },
  {
   "cell_type": "code",
   "execution_count": 47,
   "id": "71b92ab0",
   "metadata": {},
   "outputs": [
    {
     "name": "stdout",
     "output_type": "stream",
     "text": [
      "[0.92204605 0.845432   0.63951591 0.84018116 0.89031639]\n"
     ]
    }
   ],
   "source": [
    "print(model_selection.cross_val_score(model, X, y, cv=5))"
   ]
  },
  {
   "cell_type": "code",
   "execution_count": 48,
   "id": "6ce21fc2",
   "metadata": {},
   "outputs": [],
   "source": [
    "submission.to_csv(\"submission_with_poly_power.csv\", index=False)"
   ]
  },
  {
   "cell_type": "code",
   "execution_count": 49,
   "id": "7ece1ef6",
   "metadata": {},
   "outputs": [
    {
     "name": "stdout",
     "output_type": "stream",
     "text": [
      "[0.52303655 0.07811138]\n"
     ]
    }
   ],
   "source": [
    "pca = PCA(n_components = 2)\n",
    "pca_result = pca.fit_transform(X)\n",
    "print(pca.explained_variance_ratio_)"
   ]
  },
  {
   "cell_type": "code",
   "execution_count": 50,
   "id": "60477efa",
   "metadata": {},
   "outputs": [
    {
     "data": {
      "text/plain": [
       "210"
      ]
     },
     "execution_count": 50,
     "metadata": {},
     "output_type": "execute_result"
    }
   ],
   "source": [
    "X.shape[1]"
   ]
  },
  {
   "cell_type": "code",
   "execution_count": 51,
   "id": "ac1ac45c",
   "metadata": {},
   "outputs": [
    {
     "data": {
      "image/png": "[encoded data removed]",
      "text/plain": [
       "<Figure size 432x288 with 1 Axes>"
      ]
     },
     "metadata": {
      "needs_background": "light"
     },
     "output_type": "display_data"
    }
   ],
   "source": [
    "pca = PCA(svd_solver='full', n_components=183)\n",
    "pca_full = pca.fit(X)\n",
    "\n",
    "plt.plot(np.cumsum(pca_full.explained_variance_ratio_))\n",
    "plt.xlabel('N of components')\n",
    "plt.ylabel('Cumulative explained variance');"
   ]
  },
  {
   "cell_type": "code",
   "execution_count": 52,
   "id": "6fdf238b",
   "metadata": {},
   "outputs": [],
   "source": [
    "X_pca = pca.fit_transform(X)\n",
    "test_df_pca = pca.transform(test_df_itr)"
   ]
  },
  {
   "cell_type": "code",
   "execution_count": 53,
   "id": "137f936c",
   "metadata": {},
   "outputs": [
    {
     "name": "stdout",
     "output_type": "stream",
     "text": [
      "MSE Score: 6.850428639732097\n",
      "MAE Score: 1.899869309100643\n",
      "R2 Score: 0.9273123124485931\n"
     ]
    }
   ],
   "source": [
    "X_train, X_val, y_train, y_val = model_selection.train_test_split(X_pca, y, test_size=0.3, random_state=RANDOM_STATE)\n",
    "train_regression(X_train, X_val, y_train, y_val)"
   ]
  },
  {
   "cell_type": "code",
   "execution_count": 54,
   "id": "a33d8e55",
   "metadata": {},
   "outputs": [],
   "source": [
    "model = linear_model.LinearRegression()\n",
    "model.fit(X_pca, y)\n",
    "pred = model.predict(test_df_pca)\n",
    "submission = pd.DataFrame({\"index\": test_df.index, \"Life expectancy\": pred})"
   ]
  },
  {
   "cell_type": "code",
   "execution_count": 55,
   "id": "580f3a82",
   "metadata": {},
   "outputs": [
    {
     "name": "stdout",
     "output_type": "stream",
     "text": [
      "[0.92271412 0.84071288 0.55469421 0.87181435 0.88682315]\n"
     ]
    }
   ],
   "source": [
    "print(model_selection.cross_val_score(model, X_pca, y, cv=5))"
   ]
  },
  {
   "cell_type": "code",
   "execution_count": 56,
   "id": "c5e998d0",
   "metadata": {},
   "outputs": [],
   "source": [
    "submission.to_csv(\"submission_with_pca.csv\", index=False)"
   ]
  },
  {
   "cell_type": "code",
   "execution_count": 57,
   "id": "249749db",
   "metadata": {},
   "outputs": [],
   "source": [
    "X = train_df_mean.drop(['Life expectancy'], axis=1)\n",
    "y = train_df['Life expectancy']"
   ]
  },
  {
   "cell_type": "code",
   "execution_count": 58,
   "id": "4827aba6",
   "metadata": {},
   "outputs": [],
   "source": [
    "X['Year'] = X['Year'].astype('int')"
   ]
  },
  {
   "cell_type": "code",
   "execution_count": 59,
   "id": "03d61ada",
   "metadata": {},
   "outputs": [],
   "source": [
    "import optuna"
   ]
  },
  {
   "cell_type": "code",
   "execution_count": 60,
   "id": "0530bb27",
   "metadata": {},
   "outputs": [],
   "source": [
    "X_train, X_test, y_train, y_test = model_selection.train_test_split(\n",
    "    X,\n",
    "    y, \n",
    "    test_size=0.2,\n",
    "    random_state=RANDOM_STATE,\n",
    ")"
   ]
  },
  {
   "cell_type": "code",
   "execution_count": 61,
   "id": "db14765a",
   "metadata": {},
   "outputs": [],
   "source": [
    "from sklearn.metrics import mean_squared_error\n",
    "\n",
    "def objective(trial):\n",
    "    learning_rate = trial.suggest_float(\"learning_rate\", 0.01, 0.3)\n",
    "    depth = trial.suggest_int(\"depth\", 4, 10)\n",
    "    l2_leaf_reg = trial.suggest_float(\"l2_leaf_reg\", 1e-8, 100)\n",
    "\n",
    "    model = CatBoostRegressor(\n",
    "        learning_rate=learning_rate,\n",
    "        depth=depth,\n",
    "        l2_leaf_reg=l2_leaf_reg,\n",
    "        verbose=False,\n",
    "        task_type='GPU',\n",
    "        cat_features=['Year']\n",
    "    )\n",
    "\n",
    "    # Train and evaluate the model here using cross-validation or a validation dataset\n",
    "    # For example:\n",
    "    model.fit(X_train, y_train)\n",
    "    y_pred = model.predict(X_test)\n",
    "    mse = mean_squared_error(y_test, y_pred)\n",
    "\n",
    "    return mse"
   ]
  },
  {
   "cell_type": "code",
   "execution_count": 62,
   "id": "27c3bba6",
   "metadata": {},
   "outputs": [
    {
     "name": "stderr",
     "output_type": "stream",
     "text": [
      "\u001b[32m[I 2023-04-10 14:20:58,847]\u001b[0m A new study created in memory with name: no-name-02e6cbff-96d1-46cd-beef-b166621418b0\u001b[0m\n",
      "\u001b[32m[I 2023-04-10 14:21:55,600]\u001b[0m Trial 0 finished with value: 3.6282461426499677 and parameters: {'learning_rate': 0.2212865247230965, 'depth': 10, 'l2_leaf_reg': 62.675935391878994}. Best is trial 0 with value: 3.6282461426499677.\u001b[0m\n",
      "\u001b[32m[I 2023-04-10 14:22:28,094]\u001b[0m Trial 1 finished with value: 3.9763082847376547 and parameters: {'learning_rate': 0.21920469891675134, 'depth': 9, 'l2_leaf_reg': 71.10609769843381}. Best is trial 0 with value: 3.6282461426499677.\u001b[0m\n",
      "\u001b[32m[I 2023-04-10 14:22:40,628]\u001b[0m Trial 2 finished with value: 3.723888074378445 and parameters: {'learning_rate': 0.25559089978395244, 'depth': 5, 'l2_leaf_reg': 90.13315575765029}. Best is trial 0 with value: 3.6282461426499677.\u001b[0m\n",
      "\u001b[32m[I 2023-04-10 14:22:58,592]\u001b[0m Trial 3 finished with value: 4.153739443375302 and parameters: {'learning_rate': 0.07180718294296598, 'depth': 7, 'l2_leaf_reg': 63.92187932629451}. Best is trial 0 with value: 3.6282461426499677.\u001b[0m\n",
      "\u001b[32m[I 2023-04-10 14:23:21,431]\u001b[0m Trial 4 finished with value: 5.541167357372442 and parameters: {'learning_rate': 0.013838889081693137, 'depth': 8, 'l2_leaf_reg': 40.238075357045545}. Best is trial 0 with value: 3.6282461426499677.\u001b[0m\n",
      "\u001b[32m[I 2023-04-10 14:24:10,181]\u001b[0m Trial 5 finished with value: 3.617408996751652 and parameters: {'learning_rate': 0.17086167610534528, 'depth': 10, 'l2_leaf_reg': 32.16065349201175}. Best is trial 5 with value: 3.617408996751652.\u001b[0m\n",
      "\u001b[32m[I 2023-04-10 14:24:21,422]\u001b[0m Trial 6 finished with value: 4.879627663623529 and parameters: {'learning_rate': 0.08258750919933251, 'depth': 4, 'l2_leaf_reg': 87.57584839038608}. Best is trial 5 with value: 3.617408996751652.\u001b[0m\n",
      "\u001b[32m[I 2023-04-10 14:24:44,535]\u001b[0m Trial 7 finished with value: 6.252080830156561 and parameters: {'learning_rate': 0.013154155944169653, 'depth': 8, 'l2_leaf_reg': 77.55013768049497}. Best is trial 5 with value: 3.617408996751652.\u001b[0m\n",
      "\u001b[32m[I 2023-04-10 14:24:59,939]\u001b[0m Trial 8 finished with value: 3.9987741491751216 and parameters: {'learning_rate': 0.09368249794241469, 'depth': 6, 'l2_leaf_reg': 67.97748080390805}. Best is trial 5 with value: 3.617408996751652.\u001b[0m\n",
      "\u001b[32m[I 2023-04-10 14:25:15,148]\u001b[0m Trial 9 finished with value: 3.706360904199572 and parameters: {'learning_rate': 0.19267499095129087, 'depth': 6, 'l2_leaf_reg': 57.63846810599611}. Best is trial 5 with value: 3.617408996751652.\u001b[0m\n",
      "\u001b[32m[I 2023-04-10 14:26:01,645]\u001b[0m Trial 10 finished with value: 3.620015368741915 and parameters: {'learning_rate': 0.146993702206881, 'depth': 10, 'l2_leaf_reg': 13.127957818227618}. Best is trial 5 with value: 3.617408996751652.\u001b[0m\n",
      "\u001b[32m[I 2023-04-10 14:26:43,827]\u001b[0m Trial 11 finished with value: 3.5338605493533803 and parameters: {'learning_rate': 0.14763206387935773, 'depth': 10, 'l2_leaf_reg': 6.911735636802931}. Best is trial 11 with value: 3.5338605493533803.\u001b[0m\n",
      "\u001b[32m[I 2023-04-10 14:27:23,279]\u001b[0m Trial 12 finished with value: 3.5927442284363553 and parameters: {'learning_rate': 0.15054125680502703, 'depth': 10, 'l2_leaf_reg': 7.200354377196087}. Best is trial 11 with value: 3.5338605493533803.\u001b[0m\n",
      "\u001b[32m[I 2023-04-10 14:27:48,132]\u001b[0m Trial 13 finished with value: 3.754094200968411 and parameters: {'learning_rate': 0.1318688921149801, 'depth': 9, 'l2_leaf_reg': 0.4543763564131762}. Best is trial 11 with value: 3.5338605493533803.\u001b[0m\n",
      "\u001b[32m[I 2023-04-10 14:28:20,371]\u001b[0m Trial 14 finished with value: 3.672495334211164 and parameters: {'learning_rate': 0.2820070921086698, 'depth': 9, 'l2_leaf_reg': 24.08801113907514}. Best is trial 11 with value: 3.5338605493533803.\u001b[0m\n",
      "\u001b[32m[I 2023-04-10 14:28:41,102]\u001b[0m Trial 15 finished with value: 3.7047157543828426 and parameters: {'learning_rate': 0.11975332514975176, 'depth': 8, 'l2_leaf_reg': 4.951034361816205}. Best is trial 11 with value: 3.5338605493533803.\u001b[0m\n",
      "\u001b[32m[I 2023-04-10 14:29:29,910]\u001b[0m Trial 16 finished with value: 3.570776538718521 and parameters: {'learning_rate': 0.17885766207049822, 'depth': 10, 'l2_leaf_reg': 19.68964290836357}. Best is trial 11 with value: 3.5338605493533803.\u001b[0m\n",
      "\u001b[32m[I 2023-04-10 14:30:00,812]\u001b[0m Trial 17 finished with value: 3.6147056757509217 and parameters: {'learning_rate': 0.18658808219041478, 'depth': 9, 'l2_leaf_reg': 19.071752849280895}. Best is trial 11 with value: 3.5338605493533803.\u001b[0m\n",
      "\u001b[32m[I 2023-04-10 14:30:18,841]\u001b[0m Trial 18 finished with value: 3.596415435157046 and parameters: {'learning_rate': 0.22766200316218654, 'depth': 7, 'l2_leaf_reg': 39.066395013477354}. Best is trial 11 with value: 3.5338605493533803.\u001b[0m\n",
      "\u001b[32m[I 2023-04-10 14:31:08,178]\u001b[0m Trial 19 finished with value: 3.7001221807026985 and parameters: {'learning_rate': 0.11201926905186177, 'depth': 10, 'l2_leaf_reg': 23.641021047275096}. Best is trial 11 with value: 3.5338605493533803.\u001b[0m\n",
      "\u001b[33m[W 2023-04-10 14:31:22,679]\u001b[0m Trial 20 failed because of the following error: KeyboardInterrupt('')\u001b[0m\n",
      "Traceback (most recent call last):\n",
      "  File \"C:\\Users\\victus\\anaconda3\\lib\\site-packages\\optuna\\study\\_optimize.py\", line 196, in _run_trial\n",
      "    value_or_values = func(trial)\n",
      "  File \"C:\\Users\\victus\\AppData\\Local\\Temp/ipykernel_20504/4261254887.py\", line 19, in objective\n",
      "    model.fit(X_train, y_train)\n",
      "  File \"C:\\Users\\victus\\anaconda3\\lib\\site-packages\\catboost\\core.py\", line 5730, in fit\n",
      "    return self._fit(X, y, cat_features, text_features, embedding_features, None, sample_weight, None, None, None, None, baseline,\n",
      "  File \"C:\\Users\\victus\\anaconda3\\lib\\site-packages\\catboost\\core.py\", line 2355, in _fit\n",
      "    self._train(\n",
      "  File \"C:\\Users\\victus\\anaconda3\\lib\\site-packages\\catboost\\core.py\", line 1759, in _train\n",
      "    self._object._train(train_pool, test_pool, params, allow_clear_pool, init_model._object if init_model else None)\n",
      "  File \"_catboost.pyx\", line 4623, in _catboost._CatBoost._train\n",
      "  File \"_catboost.pyx\", line 4672, in _catboost._CatBoost._train\n",
      "KeyboardInterrupt\n"
     ]
    },
    {
     "ename": "KeyboardInterrupt",
     "evalue": "",
     "output_type": "error",
     "traceback": [
      "\u001b[1;31m---------------------------------------------------------------------------\u001b[0m",
      "\u001b[1;31mKeyboardInterrupt\u001b[0m                         Traceback (most recent call last)",
      "\u001b[1;32m~\\AppData\\Local\\Temp/ipykernel_20504/3396913188.py\u001b[0m in \u001b[0;36m<module>\u001b[1;34m\u001b[0m\n\u001b[0;32m      1\u001b[0m \u001b[0mstudy\u001b[0m \u001b[1;33m=\u001b[0m \u001b[0moptuna\u001b[0m\u001b[1;33m.\u001b[0m\u001b[0mcreate_study\u001b[0m\u001b[1;33m(\u001b[0m\u001b[1;33m)\u001b[0m\u001b[1;33m\u001b[0m\u001b[1;33m\u001b[0m\u001b[0m\n\u001b[1;32m----> 2\u001b[1;33m \u001b[0mstudy\u001b[0m\u001b[1;33m.\u001b[0m\u001b[0moptimize\u001b[0m\u001b[1;33m(\u001b[0m\u001b[0mobjective\u001b[0m\u001b[1;33m,\u001b[0m \u001b[0mn_trials\u001b[0m\u001b[1;33m=\u001b[0m\u001b[1;36m100\u001b[0m\u001b[1;33m)\u001b[0m\u001b[1;33m\u001b[0m\u001b[1;33m\u001b[0m\u001b[0m\n\u001b[0m",
      "\u001b[1;32m~\\anaconda3\\lib\\site-packages\\optuna\\study\\study.py\u001b[0m in \u001b[0;36moptimize\u001b[1;34m(self, func, n_trials, timeout, n_jobs, catch, callbacks, gc_after_trial, show_progress_bar)\u001b[0m\n\u001b[0;32m    417\u001b[0m         \"\"\"\n\u001b[0;32m    418\u001b[0m \u001b[1;33m\u001b[0m\u001b[0m\n\u001b[1;32m--> 419\u001b[1;33m         _optimize(\n\u001b[0m\u001b[0;32m    420\u001b[0m             \u001b[0mstudy\u001b[0m\u001b[1;33m=\u001b[0m\u001b[0mself\u001b[0m\u001b[1;33m,\u001b[0m\u001b[1;33m\u001b[0m\u001b[1;33m\u001b[0m\u001b[0m\n\u001b[0;32m    421\u001b[0m             \u001b[0mfunc\u001b[0m\u001b[1;33m=\u001b[0m\u001b[0mfunc\u001b[0m\u001b[1;33m,\u001b[0m\u001b[1;33m\u001b[0m\u001b[1;33m\u001b[0m\u001b[0m\n",
      "\u001b[1;32m~\\anaconda3\\lib\\site-packages\\optuna\\study\\_optimize.py\u001b[0m in \u001b[0;36m_optimize\u001b[1;34m(study, func, n_trials, timeout, n_jobs, catch, callbacks, gc_after_trial, show_progress_bar)\u001b[0m\n\u001b[0;32m     64\u001b[0m     \u001b[1;32mtry\u001b[0m\u001b[1;33m:\u001b[0m\u001b[1;33m\u001b[0m\u001b[1;33m\u001b[0m\u001b[0m\n\u001b[0;32m     65\u001b[0m         \u001b[1;32mif\u001b[0m \u001b[0mn_jobs\u001b[0m \u001b[1;33m==\u001b[0m \u001b[1;36m1\u001b[0m\u001b[1;33m:\u001b[0m\u001b[1;33m\u001b[0m\u001b[1;33m\u001b[0m\u001b[0m\n\u001b[1;32m---> 66\u001b[1;33m             _optimize_sequential(\n\u001b[0m\u001b[0;32m     67\u001b[0m                 \u001b[0mstudy\u001b[0m\u001b[1;33m,\u001b[0m\u001b[1;33m\u001b[0m\u001b[1;33m\u001b[0m\u001b[0m\n\u001b[0;32m     68\u001b[0m                 \u001b[0mfunc\u001b[0m\u001b[1;33m,\u001b[0m\u001b[1;33m\u001b[0m\u001b[1;33m\u001b[0m\u001b[0m\n",
      "\u001b[1;32m~\\anaconda3\\lib\\site-packages\\optuna\\study\\_optimize.py\u001b[0m in \u001b[0;36m_optimize_sequential\u001b[1;34m(study, func, n_trials, timeout, catch, callbacks, gc_after_trial, reseed_sampler_rng, time_start, progress_bar)\u001b[0m\n\u001b[0;32m    158\u001b[0m \u001b[1;33m\u001b[0m\u001b[0m\n\u001b[0;32m    159\u001b[0m         \u001b[1;32mtry\u001b[0m\u001b[1;33m:\u001b[0m\u001b[1;33m\u001b[0m\u001b[1;33m\u001b[0m\u001b[0m\n\u001b[1;32m--> 160\u001b[1;33m             \u001b[0mfrozen_trial\u001b[0m \u001b[1;33m=\u001b[0m \u001b[0m_run_trial\u001b[0m\u001b[1;33m(\u001b[0m\u001b[0mstudy\u001b[0m\u001b[1;33m,\u001b[0m \u001b[0mfunc\u001b[0m\u001b[1;33m,\u001b[0m \u001b[0mcatch\u001b[0m\u001b[1;33m)\u001b[0m\u001b[1;33m\u001b[0m\u001b[1;33m\u001b[0m\u001b[0m\n\u001b[0m\u001b[0;32m    161\u001b[0m         \u001b[1;32mfinally\u001b[0m\u001b[1;33m:\u001b[0m\u001b[1;33m\u001b[0m\u001b[1;33m\u001b[0m\u001b[0m\n\u001b[0;32m    162\u001b[0m             \u001b[1;31m# The following line mitigates memory problems that can be occurred in some\u001b[0m\u001b[1;33m\u001b[0m\u001b[1;33m\u001b[0m\u001b[0m\n",
      "\u001b[1;32m~\\anaconda3\\lib\\site-packages\\optuna\\study\\_optimize.py\u001b[0m in \u001b[0;36m_run_trial\u001b[1;34m(study, func, catch)\u001b[0m\n\u001b[0;32m    232\u001b[0m         \u001b[1;32mand\u001b[0m \u001b[1;32mnot\u001b[0m \u001b[0misinstance\u001b[0m\u001b[1;33m(\u001b[0m\u001b[0mfunc_err\u001b[0m\u001b[1;33m,\u001b[0m \u001b[0mcatch\u001b[0m\u001b[1;33m)\u001b[0m\u001b[1;33m\u001b[0m\u001b[1;33m\u001b[0m\u001b[0m\n\u001b[0;32m    233\u001b[0m     ):\n\u001b[1;32m--> 234\u001b[1;33m         \u001b[1;32mraise\u001b[0m \u001b[0mfunc_err\u001b[0m\u001b[1;33m\u001b[0m\u001b[1;33m\u001b[0m\u001b[0m\n\u001b[0m\u001b[0;32m    235\u001b[0m     \u001b[1;32mreturn\u001b[0m \u001b[0mfrozen_trial\u001b[0m\u001b[1;33m\u001b[0m\u001b[1;33m\u001b[0m\u001b[0m\n\u001b[0;32m    236\u001b[0m \u001b[1;33m\u001b[0m\u001b[0m\n",
      "\u001b[1;32m~\\anaconda3\\lib\\site-packages\\optuna\\study\\_optimize.py\u001b[0m in \u001b[0;36m_run_trial\u001b[1;34m(study, func, catch)\u001b[0m\n\u001b[0;32m    194\u001b[0m     \u001b[1;32mwith\u001b[0m \u001b[0mget_heartbeat_thread\u001b[0m\u001b[1;33m(\u001b[0m\u001b[0mtrial\u001b[0m\u001b[1;33m.\u001b[0m\u001b[0m_trial_id\u001b[0m\u001b[1;33m,\u001b[0m \u001b[0mstudy\u001b[0m\u001b[1;33m.\u001b[0m\u001b[0m_storage\u001b[0m\u001b[1;33m)\u001b[0m\u001b[1;33m:\u001b[0m\u001b[1;33m\u001b[0m\u001b[1;33m\u001b[0m\u001b[0m\n\u001b[0;32m    195\u001b[0m         \u001b[1;32mtry\u001b[0m\u001b[1;33m:\u001b[0m\u001b[1;33m\u001b[0m\u001b[1;33m\u001b[0m\u001b[0m\n\u001b[1;32m--> 196\u001b[1;33m             \u001b[0mvalue_or_values\u001b[0m \u001b[1;33m=\u001b[0m \u001b[0mfunc\u001b[0m\u001b[1;33m(\u001b[0m\u001b[0mtrial\u001b[0m\u001b[1;33m)\u001b[0m\u001b[1;33m\u001b[0m\u001b[1;33m\u001b[0m\u001b[0m\n\u001b[0m\u001b[0;32m    197\u001b[0m         \u001b[1;32mexcept\u001b[0m \u001b[0mexceptions\u001b[0m\u001b[1;33m.\u001b[0m\u001b[0mTrialPruned\u001b[0m \u001b[1;32mas\u001b[0m \u001b[0me\u001b[0m\u001b[1;33m:\u001b[0m\u001b[1;33m\u001b[0m\u001b[1;33m\u001b[0m\u001b[0m\n\u001b[0;32m    198\u001b[0m             \u001b[1;31m# TODO(mamu): Handle multi-objective cases.\u001b[0m\u001b[1;33m\u001b[0m\u001b[1;33m\u001b[0m\u001b[0m\n",
      "\u001b[1;32m~\\AppData\\Local\\Temp/ipykernel_20504/4261254887.py\u001b[0m in \u001b[0;36mobjective\u001b[1;34m(trial)\u001b[0m\n\u001b[0;32m     17\u001b[0m     \u001b[1;31m# Train and evaluate the model here using cross-validation or a validation dataset\u001b[0m\u001b[1;33m\u001b[0m\u001b[1;33m\u001b[0m\u001b[0m\n\u001b[0;32m     18\u001b[0m     \u001b[1;31m# For example:\u001b[0m\u001b[1;33m\u001b[0m\u001b[1;33m\u001b[0m\u001b[0m\n\u001b[1;32m---> 19\u001b[1;33m     \u001b[0mmodel\u001b[0m\u001b[1;33m.\u001b[0m\u001b[0mfit\u001b[0m\u001b[1;33m(\u001b[0m\u001b[0mX_train\u001b[0m\u001b[1;33m,\u001b[0m \u001b[0my_train\u001b[0m\u001b[1;33m)\u001b[0m\u001b[1;33m\u001b[0m\u001b[1;33m\u001b[0m\u001b[0m\n\u001b[0m\u001b[0;32m     20\u001b[0m     \u001b[0my_pred\u001b[0m \u001b[1;33m=\u001b[0m \u001b[0mmodel\u001b[0m\u001b[1;33m.\u001b[0m\u001b[0mpredict\u001b[0m\u001b[1;33m(\u001b[0m\u001b[0mX_test\u001b[0m\u001b[1;33m)\u001b[0m\u001b[1;33m\u001b[0m\u001b[1;33m\u001b[0m\u001b[0m\n\u001b[0;32m     21\u001b[0m     \u001b[0mmse\u001b[0m \u001b[1;33m=\u001b[0m \u001b[0mmean_squared_error\u001b[0m\u001b[1;33m(\u001b[0m\u001b[0my_test\u001b[0m\u001b[1;33m,\u001b[0m \u001b[0my_pred\u001b[0m\u001b[1;33m)\u001b[0m\u001b[1;33m\u001b[0m\u001b[1;33m\u001b[0m\u001b[0m\n",
      "\u001b[1;32m~\\anaconda3\\lib\\site-packages\\catboost\\core.py\u001b[0m in \u001b[0;36mfit\u001b[1;34m(self, X, y, cat_features, text_features, embedding_features, sample_weight, baseline, use_best_model, eval_set, verbose, logging_level, plot, plot_file, column_description, verbose_eval, metric_period, silent, early_stopping_rounds, save_snapshot, snapshot_file, snapshot_interval, init_model, callbacks, log_cout, log_cerr)\u001b[0m\n\u001b[0;32m   5728\u001b[0m             \u001b[0mCatBoostRegressor\u001b[0m\u001b[1;33m.\u001b[0m\u001b[0m_check_is_compatible_loss\u001b[0m\u001b[1;33m(\u001b[0m\u001b[0mparams\u001b[0m\u001b[1;33m[\u001b[0m\u001b[1;34m'loss_function'\u001b[0m\u001b[1;33m]\u001b[0m\u001b[1;33m)\u001b[0m\u001b[1;33m\u001b[0m\u001b[1;33m\u001b[0m\u001b[0m\n\u001b[0;32m   5729\u001b[0m \u001b[1;33m\u001b[0m\u001b[0m\n\u001b[1;32m-> 5730\u001b[1;33m         return self._fit(X, y, cat_features, text_features, embedding_features, None, sample_weight, None, None, None, None, baseline,\n\u001b[0m\u001b[0;32m   5731\u001b[0m                          \u001b[0muse_best_model\u001b[0m\u001b[1;33m,\u001b[0m \u001b[0meval_set\u001b[0m\u001b[1;33m,\u001b[0m \u001b[0mverbose\u001b[0m\u001b[1;33m,\u001b[0m \u001b[0mlogging_level\u001b[0m\u001b[1;33m,\u001b[0m \u001b[0mplot\u001b[0m\u001b[1;33m,\u001b[0m \u001b[0mplot_file\u001b[0m\u001b[1;33m,\u001b[0m \u001b[0mcolumn_description\u001b[0m\u001b[1;33m,\u001b[0m\u001b[1;33m\u001b[0m\u001b[1;33m\u001b[0m\u001b[0m\n\u001b[0;32m   5732\u001b[0m                          \u001b[0mverbose_eval\u001b[0m\u001b[1;33m,\u001b[0m \u001b[0mmetric_period\u001b[0m\u001b[1;33m,\u001b[0m \u001b[0msilent\u001b[0m\u001b[1;33m,\u001b[0m \u001b[0mearly_stopping_rounds\u001b[0m\u001b[1;33m,\u001b[0m\u001b[1;33m\u001b[0m\u001b[1;33m\u001b[0m\u001b[0m\n",
      "\u001b[1;32m~\\anaconda3\\lib\\site-packages\\catboost\\core.py\u001b[0m in \u001b[0;36m_fit\u001b[1;34m(self, X, y, cat_features, text_features, embedding_features, pairs, sample_weight, group_id, group_weight, subgroup_id, pairs_weight, baseline, use_best_model, eval_set, verbose, logging_level, plot, plot_file, column_description, verbose_eval, metric_period, silent, early_stopping_rounds, save_snapshot, snapshot_file, snapshot_interval, init_model, callbacks, log_cout, log_cerr)\u001b[0m\n\u001b[0;32m   2353\u001b[0m         \u001b[1;32mwith\u001b[0m \u001b[0mlog_fixup\u001b[0m\u001b[1;33m(\u001b[0m\u001b[0mlog_cout\u001b[0m\u001b[1;33m,\u001b[0m \u001b[0mlog_cerr\u001b[0m\u001b[1;33m)\u001b[0m\u001b[1;33m,\u001b[0m\u001b[0;31m \u001b[0m\u001b[0;31m\\\u001b[0m\u001b[1;33m\u001b[0m\u001b[1;33m\u001b[0m\u001b[0m\n\u001b[0;32m   2354\u001b[0m             \u001b[0mplot_wrapper\u001b[0m\u001b[1;33m(\u001b[0m\u001b[0mplot\u001b[0m\u001b[1;33m,\u001b[0m \u001b[0mplot_file\u001b[0m\u001b[1;33m,\u001b[0m \u001b[1;34m'Training plots'\u001b[0m\u001b[1;33m,\u001b[0m \u001b[1;33m[\u001b[0m\u001b[0m_get_train_dir\u001b[0m\u001b[1;33m(\u001b[0m\u001b[0mself\u001b[0m\u001b[1;33m.\u001b[0m\u001b[0mget_params\u001b[0m\u001b[1;33m(\u001b[0m\u001b[1;33m)\u001b[0m\u001b[1;33m)\u001b[0m\u001b[1;33m]\u001b[0m\u001b[1;33m)\u001b[0m\u001b[1;33m:\u001b[0m\u001b[1;33m\u001b[0m\u001b[1;33m\u001b[0m\u001b[0m\n\u001b[1;32m-> 2355\u001b[1;33m             self._train(\n\u001b[0m\u001b[0;32m   2356\u001b[0m                 \u001b[0mtrain_pool\u001b[0m\u001b[1;33m,\u001b[0m\u001b[1;33m\u001b[0m\u001b[1;33m\u001b[0m\u001b[0m\n\u001b[0;32m   2357\u001b[0m                 \u001b[0mtrain_params\u001b[0m\u001b[1;33m[\u001b[0m\u001b[1;34m\"eval_sets\"\u001b[0m\u001b[1;33m]\u001b[0m\u001b[1;33m,\u001b[0m\u001b[1;33m\u001b[0m\u001b[1;33m\u001b[0m\u001b[0m\n",
      "\u001b[1;32m~\\anaconda3\\lib\\site-packages\\catboost\\core.py\u001b[0m in \u001b[0;36m_train\u001b[1;34m(self, train_pool, test_pool, params, allow_clear_pool, init_model)\u001b[0m\n\u001b[0;32m   1757\u001b[0m \u001b[1;33m\u001b[0m\u001b[0m\n\u001b[0;32m   1758\u001b[0m     \u001b[1;32mdef\u001b[0m \u001b[0m_train\u001b[0m\u001b[1;33m(\u001b[0m\u001b[0mself\u001b[0m\u001b[1;33m,\u001b[0m \u001b[0mtrain_pool\u001b[0m\u001b[1;33m,\u001b[0m \u001b[0mtest_pool\u001b[0m\u001b[1;33m,\u001b[0m \u001b[0mparams\u001b[0m\u001b[1;33m,\u001b[0m \u001b[0mallow_clear_pool\u001b[0m\u001b[1;33m,\u001b[0m \u001b[0minit_model\u001b[0m\u001b[1;33m)\u001b[0m\u001b[1;33m:\u001b[0m\u001b[1;33m\u001b[0m\u001b[1;33m\u001b[0m\u001b[0m\n\u001b[1;32m-> 1759\u001b[1;33m         \u001b[0mself\u001b[0m\u001b[1;33m.\u001b[0m\u001b[0m_object\u001b[0m\u001b[1;33m.\u001b[0m\u001b[0m_train\u001b[0m\u001b[1;33m(\u001b[0m\u001b[0mtrain_pool\u001b[0m\u001b[1;33m,\u001b[0m \u001b[0mtest_pool\u001b[0m\u001b[1;33m,\u001b[0m \u001b[0mparams\u001b[0m\u001b[1;33m,\u001b[0m \u001b[0mallow_clear_pool\u001b[0m\u001b[1;33m,\u001b[0m \u001b[0minit_model\u001b[0m\u001b[1;33m.\u001b[0m\u001b[0m_object\u001b[0m \u001b[1;32mif\u001b[0m \u001b[0minit_model\u001b[0m \u001b[1;32melse\u001b[0m \u001b[1;32mNone\u001b[0m\u001b[1;33m)\u001b[0m\u001b[1;33m\u001b[0m\u001b[1;33m\u001b[0m\u001b[0m\n\u001b[0m\u001b[0;32m   1760\u001b[0m         \u001b[0mself\u001b[0m\u001b[1;33m.\u001b[0m\u001b[0m_set_trained_model_attributes\u001b[0m\u001b[1;33m(\u001b[0m\u001b[1;33m)\u001b[0m\u001b[1;33m\u001b[0m\u001b[1;33m\u001b[0m\u001b[0m\n\u001b[0;32m   1761\u001b[0m \u001b[1;33m\u001b[0m\u001b[0m\n",
      "\u001b[1;32m_catboost.pyx\u001b[0m in \u001b[0;36m_catboost._CatBoost._train\u001b[1;34m()\u001b[0m\n",
      "\u001b[1;32m_catboost.pyx\u001b[0m in \u001b[0;36m_catboost._CatBoost._train\u001b[1;34m()\u001b[0m\n",
      "\u001b[1;31mKeyboardInterrupt\u001b[0m: "
     ]
    }
   ],
   "source": [
    "study = optuna.create_study()\n",
    "study.optimize(objective, n_trials=100)"
   ]
  },
  {
   "cell_type": "code",
   "execution_count": null,
   "id": "f745c2fa",
   "metadata": {},
   "outputs": [],
   "source": []
  }
 ],
 "metadata": {
  "kernelspec": {
   "display_name": "tensorflow 2.7",
   "language": "python",
   "name": "tf2.7"
  },
  "language_info": {
   "codemirror_mode": {
    "name": "ipython",
    "version": 3
   },
   "file_extension": ".py",
   "mimetype": "text/x-python",
   "name": "python",
   "nbconvert_exporter": "python",
   "pygments_lexer": "ipython3",
   "version": "3.9.7"
  }
 },
 "nbformat": 4,
 "nbformat_minor": 5
}
